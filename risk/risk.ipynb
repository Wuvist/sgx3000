{
 "cells": [
  {
   "cell_type": "markdown",
   "metadata": {},
   "source": [
    "# Liquidity and Risk in the Singapore Market\n",
    "\n",
    "The liquidity of stocks can be determined by various indicators. Considering the acquisition of data, we mainly use trading volume to represent the liquidity of stocks. Trading volume shows the number of buying and selling of stocks within a specific period of time, and is a key indicator that directly reflects liquidity. The average trading volume provides the average trading volume over a longer time frame, which helps evaluate the general liquidity level of stocks.\n",
    "\n",
    "We mainly use volatility to measure the risk of stocks. Volatility is an indicator that measures the magnitude of stock price changes. The greater the volatility, the more intense the stock price changes, and the higher the risk. Meanwhile, we also consider that beta coefficient measures the volatility of stocks relative to the entire market. A beta coefficient greater than 1 means that the price fluctuation of a stock is greater than the market average, and the risk is higher; Less than 1 means less volatility than the market and relatively lower risk.\n",
    "In order to analyze the liquidity and risk of the Singapore market, we compared it with the Hong Kong market, both of which are important financial markets in Asia. On Yahoo Finance, we screen companies in each market based on Beta-1 year (LTM) data (as the website does not provide specific data for this item, it can only be controlled within a rough range) between 0.9-1 and 1-1.1,  and ensure that they are all related to the same industry. We have chosen the following four stocks:\n",
    "\n",
    "Keppel Ltd. (BN4.SI)，China Resources Land Limited（1109.HK），CapitaLand Investment Limited (9CI.SI)，和China Overseas Land & Investment Limited (0688.HK) all of which are engaged in real estate.\n",
    "\n",
    "Calculate the annual volatility and average trading volume of each company for the previous year to obtain the following data: (Beta 1 year (LTM) is an additional addition)\n",
    "\n",
    "Table: Annual Volatility and Average Volume for Selected Stocks\n",
    "\n",
    "| Ticker  | Annual_Volatility | Average_Volume | Beta – 1 year (LTM) |\n",
    "| ------- | ----------------- | -------------- | ------------------- |\n",
    "| BN4.SI  | 0.2508695         | 4469386        | 1-1.1               |\n",
    "| 1109.HK | 0.3818720         | 9889719        | 1-1.1               |\n",
    "| 9CI.SI  | 0.2224812         | 7165075        | 0.9-1               |\n",
    "| 0688.HK | 0.3639386         | 18029224       | 0.9-1               |\n",
    "\n",
    "\n",
    "Based on the above calculation results, we can believe that compared to the Hong Kong market, the liquidity of the Singapore market is lower, and the risk will also be relatively low.\n",
    "\n"
   ]
  },
  {
   "cell_type": "code",
   "execution_count": null,
   "metadata": {},
   "outputs": [],
   "source": [
    "library(quantmod)\n",
    "library(knitr)\n",
    "\n",
    "stocks <- c(\"BN4.SI\", \"1109.HK\", \"9CI.SI\", \"0688.HK\")\n",
    "start_date <- \"2023-01-01\"\n",
    "end_date <- \"2024-01-01\"\n",
    "results <- list()\n",
    "for(stock in stocks) {\n",
    "  getSymbols(stock, src = \"yahoo\", from = start_date, to = end_date)\n",
    "  stock_data <- get(stock)\n",
    "  daily_returns <- Delt(Cl(stock_data))\n",
    "  annual_volatility <- sd(na.omit(daily_returns), na.rm = TRUE) * sqrt(252)\n",
    "  volume <- Vo(stock_data)\n",
    "  avg_volume <- mean(na.omit(volume), na.rm = TRUE)\n",
    "\n",
    "  results[[stock]] <- c(Annual_Volatility = annual_volatility, Average_Volume = avg_volume)\n",
    "}\n",
    "results_df <- do.call(rbind, lapply(results, function(x) as.data.frame(t(x))))\n",
    "row.names(results_df) <- stocks\n",
    "kable(results_df, caption = \"Annual Volatility and Average Volume for Selected Stocks\")"
   ]
  }
 ],
 "metadata": {
  "language_info": {
   "name": "python"
  }
 },
 "nbformat": 4,
 "nbformat_minor": 2
}
