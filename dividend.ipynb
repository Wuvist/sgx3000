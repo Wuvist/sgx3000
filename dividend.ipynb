{
 "cells": [
  {
   "cell_type": "code",
   "execution_count": 1,
   "metadata": {},
   "outputs": [
    {
     "data": {
      "text/plain": [
       "load2024 (generic function with 1 method)"
      ]
     },
     "metadata": {},
     "output_type": "display_data"
    }
   ],
   "source": [
    "using CSV, DataFrames, Dates, JSON, LinearAlgebra, MarketData, Plots, PrettyTables\n",
    "using Printf, Statistics, TimeSeries\n",
    "\n",
    "include(\"common.jl\")"
   ]
  },
  {
   "cell_type": "code",
   "execution_count": 2,
   "metadata": {},
   "outputs": [],
   "source": [
    "dbs = load(\"D05\");"
   ]
  },
  {
   "cell_type": "code",
   "execution_count": 10,
   "metadata": {},
   "outputs": [
    {
     "data": {
      "text/plain": [
       "get_aprice (generic function with 1 method)"
      ]
     },
     "metadata": {},
     "output_type": "display_data"
    }
   ],
   "source": [
    "function get_oprice(backday::String, price::Float64, df::DataFrame)::Float64\n",
    "    df2 = df[backday.<df.Day, :]\n",
    "    df2 = df2[df2.Dividends.>0, :]\n",
    "\n",
    "    count = size(df2, 1)\n",
    "    total_adjustment_factor = 1\n",
    "    for i in count:-1:1\n",
    "        row = df2[i, :]\n",
    "        oclose = row.Close / total_adjustment_factor\n",
    "        adjustment_factor = oclose / (oclose + row.Dividends)\n",
    "        total_adjustment_factor = total_adjustment_factor * adjustment_factor\n",
    "    end\n",
    "\n",
    "    price / total_adjustment_factor\n",
    "end\n",
    "\n",
    "function list_dividend(backday::String, df::DataFrame)\n",
    "    df2 = df[backday.<df.Day, :]\n",
    "    df2 = df2[df2.Dividends.>0, :]\n",
    "\n",
    "    println(\"Day,Close,Original Close,Dividends,Adjustment Factor\")\n",
    "    count = size(df2, 1)\n",
    "    total_adjustment_factor = 1\n",
    "    for i in count:-1:1\n",
    "        row = df2[i, :]\n",
    "        oclose = row.Close / total_adjustment_factor\n",
    "        adjustment_factor = oclose / (oclose + row.Dividends)\n",
    "        total_adjustment_factor = total_adjustment_factor * adjustment_factor\n",
    "        println(row.Day, \",\", row.Close, \",\", oclose, \",\", row.Dividends, \",\", adjustment_factor)\n",
    "    end\n",
    "end\n",
    "\n",
    "function get_aprice(backday::String, price::Float64, df::DataFrame)::Float64\n",
    "    df2 = df[backday.<df.Day, :]\n",
    "    df2 = df2[df2.Dividends.>0, :]\n",
    "\n",
    "    rprice = price\n",
    "\n",
    "    count = size(df2, 1)\n",
    "    total_adjustment_factor = 1\n",
    "    for i in count:-1:1\n",
    "        row = df2[i, :]\n",
    "        oclose = row.Close / total_adjustment_factor\n",
    "        adjustment_factor = oclose / (oclose + row.Dividends)\n",
    "        rprice = rprice * adjustment_factor\n",
    "        total_adjustment_factor = total_adjustment_factor * adjustment_factor\n",
    "    end\n",
    "\n",
    "    price * total_adjustment_factor\n",
    "end"
   ]
  },
  {
   "cell_type": "code",
   "execution_count": 12,
   "metadata": {},
   "outputs": [],
   "source": [
    "D8DU = load(\"D8DU\");"
   ]
  },
  {
   "cell_type": "code",
   "execution_count": 14,
   "metadata": {},
   "outputs": [
    {
     "name": "stdout",
     "output_type": "stream",
     "text": [
      "Day,Close,Original Close,Dividends,Adjustment Factor\n",
      "2023-08-07,2.677179,2.677179,0.01578,0.994140274694119\n",
      "2023-05-23,2.671326,2.6870715008723733,0.06141,0.9776567533816369\n",
      "2023-02-09,2.660282,2.7371185187070988,0.07925,0.9718609267666501\n",
      "2022-08-10,2.698085,2.856389531183477,0.07873,0.97317656089861\n"
     ]
    }
   ],
   "source": [
    "list_dividend(\"2022-03-03\", load(\"A17U\"))\n",
    "# list_dividend(\"2022-03-03\", D8DU)\n",
    "# get_oprice(\"2022-03-03\", 0.048462, D8DU)\n"
   ]
  },
  {
   "cell_type": "code",
   "execution_count": null,
   "metadata": {},
   "outputs": [],
   "source": [
    "function loadlatest(ticker)\n",
    "    df = CSV.read(\"data_latest/\" * ticker * \".csv\", DataFrame)\n",
    "    day = SubString.(df.Date, 1, 10)\n",
    "    d = Date.(day)\n",
    "    select!(df, Not(:Date))\n",
    "    df[:, :Date] = d\n",
    "    df[:, :Day] = day\n",
    "    df\n",
    "end"
   ]
  }
 ],
 "metadata": {
  "kernelspec": {
   "display_name": "Julia 1.10.2",
   "language": "julia",
   "name": "julia-1.10"
  },
  "language_info": {
   "file_extension": ".jl",
   "mimetype": "application/julia",
   "name": "julia",
   "version": "1.10.2"
  }
 },
 "nbformat": 4,
 "nbformat_minor": 2
}
