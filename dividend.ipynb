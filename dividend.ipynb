{
 "cells": [
  {
   "cell_type": "code",
   "execution_count": 2,
   "metadata": {},
   "outputs": [
    {
     "data": {
      "text/plain": [
       "load2024 (generic function with 1 method)"
      ]
     },
     "metadata": {},
     "output_type": "display_data"
    }
   ],
   "source": [
    "using CSV, DataFrames, Dates, JSON, LinearAlgebra, MarketData, Plots, PrettyTables\n",
    "using Printf, Statistics, TimeSeries\n",
    "\n",
    "include(\"common.jl\")"
   ]
  },
  {
   "cell_type": "code",
   "execution_count": 4,
   "metadata": {},
   "outputs": [],
   "source": [
    "dbs = load(\"D05\");"
   ]
  },
  {
   "cell_type": "code",
   "execution_count": 33,
   "metadata": {},
   "outputs": [
    {
     "name": "stdout",
     "output_type": "stream",
     "text": [
      "Day,Close,Dividends,Adjustment Factor\n",
      "2022-04-08,31.4272,0.36,0.9886746866663311\n",
      "2022-05-11,29.514402,0.36,0.9879495495842896\n",
      "2022-08-15,30.659035,0.36,0.9883942230955928\n",
      "2022-11-11,32.861649,0.36,0.9891636926270577\n",
      "2023-04-10,31.059921,0.5,0.9841571213058486\n",
      "2023-05-09,30.803185,0.42,0.9865484575004119\n",
      "2023-08-11,33.133488,0.48,0.9857200181070171\n",
      "2023-11-14,32.599998,0.48,0.9854897210090522\n"
     ]
    }
   ],
   "source": [
    "function get_oprice(backday::String, price::Float64, df::DataFrame)::Float64\n",
    "    df2 = df[backday.<df.Day, :]\n",
    "    df2 = df2[df2.Dividends.>0, :]\n",
    "\n",
    "    rprice = price\n",
    "    for row in eachrow(df2)\n",
    "        adjustment_factor = row.Close / (row.Close + row.Dividends)\n",
    "        rprice = rprice / adjustment_factor\n",
    "    end\n",
    "\n",
    "    rprice\n",
    "end\n",
    "\n",
    "function list_dividend(backday::String, df::DataFrame)\n",
    "    df2 = df[backday.<df.Day, :]\n",
    "    df2 = df2[df2.Dividends.>0, :]\n",
    "\n",
    "    println(\"Day,Close,Dividends,Adjustment Factor\")\n",
    "    for row in eachrow(df2)\n",
    "        adjustment_factor = row.Close / (row.Close + row.Dividends)\n",
    "        println(row.Day, \",\", row.Close, \",\", row.Dividends, \",\", adjustment_factor)\n",
    "    end\n",
    "end\n",
    "\n",
    "function get_rprice(backday::String, price::Float64, df::DataFrame)::Float64\n",
    "    df2 = df[backday.<df.Day, :]\n",
    "    df2 = df2[df2.Dividends.>0, :]\n",
    "\n",
    "    rprice = price\n",
    "    for row in eachrow(df2)\n",
    "        adjustment_factor = row.Close / (row.Close + row.Dividends)\n",
    "        rprice = rprice * adjustment_factor\n",
    "    end\n",
    "\n",
    "    rprice\n",
    "end"
   ]
  },
  {
   "cell_type": "code",
   "execution_count": 29,
   "metadata": {},
   "outputs": [],
   "source": [
    "D8DU = load(\"D8DU\");"
   ]
  },
  {
   "cell_type": "code",
   "execution_count": 41,
   "metadata": {},
   "outputs": [
    {
     "name": "stdout",
     "output_type": "stream",
     "text": [
      "Day,Close,Dividends,Adjustment Factor\n",
      "2022-08-10,2.698085,0.07873,0.9716473729794746\n",
      "2023-02-09,2.660282,0.07925,0.9710717012978859\n",
      "2023-05-23,2.671326,0.06141,0.9775280158785921\n",
      "2023-08-07,2.677179,0.01578,0.994140274694119\n"
     ]
    }
   ],
   "source": [
    "list_dividend(\"2022-03-03\", load(\"A17U\"))\n",
    "# get_oprice(\"2022-03-03\", 0.048462, D8DU)\n"
   ]
  }
 ],
 "metadata": {
  "kernelspec": {
   "display_name": "Julia 1.10.2",
   "language": "julia",
   "name": "julia-1.10"
  },
  "language_info": {
   "file_extension": ".jl",
   "mimetype": "application/julia",
   "name": "julia",
   "version": "1.10.2"
  }
 },
 "nbformat": 4,
 "nbformat_minor": 2
}
