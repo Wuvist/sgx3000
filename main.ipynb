{
 "cells": [
  {
   "cell_type": "code",
   "execution_count": 2,
   "metadata": {},
   "outputs": [],
   "source": [
    "from pysgx import stocks, info, util\n",
    "import importlib\n",
    "import pandas as pd"
   ]
  },
  {
   "cell_type": "code",
   "execution_count": 23,
   "metadata": {},
   "outputs": [],
   "source": [
    "importlib.reload(info);"
   ]
  },
  {
   "cell_type": "code",
   "execution_count": 16,
   "metadata": {},
   "outputs": [],
   "source": [
    "df = pd.DataFrame.from_dict(info.get_active(), orient='index').reset_index()\n",
    "df.columns = ['Ticker', 'MarketCap']"
   ]
  },
  {
   "cell_type": "code",
   "execution_count": null,
   "metadata": {},
   "outputs": [],
   "source": [
    "df = util.to_df(info.get_all_with_mc(), ['Ticker', 'MarketCap'])\n",
    "plt = df[df.MarketCap<100000000].MarketCap.plot.hist(bins=50, alpha=0.5, title='SGX Stock Market Cap Distribution - Below(100M SGD)')\n",
    "plt.set_xlabel(\"Market Cap (100M)\")\n",
    "plt.get_figure().savefig('mc_100M.png')"
   ]
  },
  {
   "cell_type": "code",
   "execution_count": 7,
   "metadata": {},
   "outputs": [],
   "source": [
    "df = util.to_df(info.get_all_avg_vol(), ['Ticker', 'AvergeVolume'])\n",
    "df.AvergeVolume = df.AvergeVolume / 10000"
   ]
  },
  {
   "cell_type": "code",
   "execution_count": null,
   "metadata": {},
   "outputs": [],
   "source": [
    "plt = df[df.AvergeVolume<=1].plot.hist(bins=50, alpha=0.5, title='SGX Average Daily Trading Volume (ADTV) - Below(10K SGD)')\n",
    "plt.set_xlabel(\"ADTV (10K)\")\n",
    "plt.legend(['ADTV Total 365 stocks'])\n",
    "plt.get_figure().savefig('adtv_10K.png')"
   ]
  },
  {
   "cell_type": "code",
   "execution_count": null,
   "metadata": {},
   "outputs": [],
   "source": [
    "plt = df[1<df.AvergeVolume][df.AvergeVolume<=30].plot.hist(bins=50, alpha=0.5, title='SGX Average Daily Trading Volume (ADTV) 10K~300K SGD')\n",
    "plt.set_xlabel(\"ADTV (10K)\")\n",
    "plt.legend(['ADTV Total 207 stocks'])\n",
    "plt.get_figure().savefig('adtv_10K_300K.png')"
   ]
  },
  {
   "cell_type": "code",
   "execution_count": null,
   "metadata": {},
   "outputs": [],
   "source": [
    "plt = df[df.AvergeVolume>30][df.AvergeVolume<=300].plot.hist(bins=50, alpha=0.5, title='SGX Average Daily Trading Volume (ADTV) 300K~3M SGD')\n",
    "plt.set_xlabel(\"ADTV (10K)\")\n",
    "plt.legend(['ADTV Total 68 stocks'])\n",
    "plt.get_figure().savefig('adtv_300K_3M.png')\n",
    "# len(df[df.AvergeVolume>30][df.AvergeVolume<=300])"
   ]
  },
  {
   "cell_type": "code",
   "execution_count": 10,
   "metadata": {},
   "outputs": [],
   "source": [
    "df[df.AvergeVolume>300].sort_values(by=['AvergeVolume']).to_csv(\"adtv_3M_plus.csv\", index=False, float_format='%.6f')"
   ]
  },
  {
   "cell_type": "code",
   "execution_count": 44,
   "metadata": {},
   "outputs": [],
   "source": [
    "dbs = stocks.load(\"D05\")\n",
    "es3 = stocks.load(\"ES3\")"
   ]
  },
  {
   "cell_type": "code",
   "execution_count": 64,
   "metadata": {},
   "outputs": [
    {
     "name": "stderr",
     "output_type": "stream",
     "text": [
      "C:\\Users\\wuvis\\AppData\\Local\\Temp\\ipykernel_11084\\4157375174.py:2: UserWarning: Boolean Series key will be reindexed to match DataFrame index.\n",
      "  df = stock.price[stock.price['Day'] >= start][stock.price['Day'] <= end][[\"Day\", \"Close\", \"Adj Close\"]]\n"
     ]
    }
   ],
   "source": [
    "def get_rclose(stock, start, end):\n",
    "    df = stock.price[stock.price['Day'] >= start][stock.price['Day'] <= end][[\"Day\", \"Close\", \"Adj Close\"]]\n",
    "    df2 = stock.dividend[stock.dividend[\"Day\"] > \"2000-01-01\"]\n",
    "    col = df.apply(lambda row: row.Close + df2[row.Day > df2[\"Day\"]].Dividends.sum(), axis=1)\n",
    "    df = df.assign(RClose=col.values)\n",
    "    return df\n",
    "\n",
    "df = get_rclose(es3, \"2010-01-01\", \"2023-01-01\")\n",
    "# df"
   ]
  },
  {
   "cell_type": "code",
   "execution_count": 65,
   "metadata": {},
   "outputs": [],
   "source": [
    "df[\"Adj Close\"] = df[\"Adj Close\"] * 990\n",
    "df[\"RClose\"] = df[\"RClose\"] * 1010\n",
    "df[\"Close\"] = df[\"Close\"] * 1000"
   ]
  },
  {
   "cell_type": "code",
   "execution_count": null,
   "metadata": {},
   "outputs": [],
   "source": [
    "plt = df.plot(x=\"Day\", y = [\"RClose\", \"Close\", \"Adj Close\"], linewidth=0.8, figsize=(15, 10), title=\"Esitmated STI\")\n",
    "plt.legend(['Estimated STI if add back dividend', 'STI', 'Estimated STI if use Adj Close'])\n",
    "plt.get_figure().savefig('STI_estimated.png')"
   ]
  }
 ],
 "metadata": {
  "kernelspec": {
   "display_name": "Python 3",
   "language": "python",
   "name": "python3"
  },
  "language_info": {
   "codemirror_mode": {
    "name": "ipython",
    "version": 3
   },
   "file_extension": ".py",
   "mimetype": "text/x-python",
   "name": "python",
   "nbconvert_exporter": "python",
   "pygments_lexer": "ipython3",
   "version": "3.11.5"
  }
 },
 "nbformat": 4,
 "nbformat_minor": 2
}
