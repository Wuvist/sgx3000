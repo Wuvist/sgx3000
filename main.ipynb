{
 "cells": [
  {
   "cell_type": "code",
   "execution_count": 167,
   "metadata": {},
   "outputs": [],
   "source": [
    "from pysgx import stocks, info, util\n",
    "import importlib\n",
    "import pandas as pd"
   ]
  },
  {
   "cell_type": "code",
   "execution_count": 219,
   "metadata": {},
   "outputs": [],
   "source": [
    "importlib.reload(info);\n",
    "importlib.reload(stocks);"
   ]
  },
  {
   "cell_type": "code",
   "execution_count": 220,
   "metadata": {},
   "outputs": [
    {
     "name": "stdout",
     "output_type": "stream",
     "text": [
      "2000 46,011,036\n",
      "2001 45,380,830\n",
      "2002 35,310,171\n",
      "2003 46,858,297\n",
      "2004 48,670,589\n",
      "2005 47,406,619\n",
      "2006 3,164,993\n",
      "2007 18,783,310\n",
      "2008 113,399,544\n",
      "2009 95,692,490\n",
      "2010 75,329,427\n",
      "2011 70,858,700\n",
      "2012 54,664,968\n",
      "2013 66,044,826\n",
      "2014 65,766,391\n",
      "2015 85,022,473\n",
      "2016 94,909,119\n",
      "2017 94,160,027\n",
      "2018 130,625,746\n",
      "2019 98,996,767\n",
      "2020 132,553,697\n",
      "2021 124,086,315\n",
      "2022 143,933,843\n",
      "2023 122,276,053\n"
     ]
    }
   ],
   "source": [
    "stock = stocks.load(\"D05\")\n",
    "for i in range(2000, 2024):\n",
    "    start_day = str(i) + \"-01-01\"\n",
    "    end_day = str(i+1) + \"-01-01\"\n",
    "    # print(i, stocks.get_risk(start_day, end_day, stock))\n",
    "    print(i, stock.get_adtv(start_day, end_day))"
   ]
  },
  {
   "cell_type": "markdown",
   "metadata": {},
   "source": [
    "# Adj Close return vs AddBack Return"
   ]
  },
  {
   "cell_type": "code",
   "execution_count": 183,
   "metadata": {},
   "outputs": [
    {
     "name": "stdout",
     "output_type": "stream",
     "text": [
      "-0.0002463114195503293\n",
      "-0.00044110314428133615\n"
     ]
    },
    {
     "data": {
      "text/plain": [
       "0.04505055363062538"
      ]
     },
     "execution_count": 183,
     "metadata": {},
     "output_type": "execute_result"
    }
   ],
   "source": [
    "# stock = stocks.load(\"D05\")\n",
    "stock = stocks.load(\"D8DU\")\n",
    "df = stocks.get_addback_close(stock, \"2022-01-01\", \"2024-01-01\")\n",
    "\n",
    "return_adj_close = df[\"Adj Close\"].pct_change().dropna()\n",
    "return_addback_close = df[\"AddBackClose\"].pct_change().dropna()\n",
    "\n",
    "print(return_addback_close.mean())\n",
    "print(return_adj_close.mean())\n",
    "return_adj_close.std()  / return_addback_close.std() - 1\n",
    "# return_adj_close.mean()  / return_addback_close.mean() - 1"
   ]
  },
  {
   "cell_type": "code",
   "execution_count": 195,
   "metadata": {},
   "outputs": [
    {
     "data": {
      "text/plain": [
       "0.000718800466679042"
      ]
     },
     "execution_count": 195,
     "metadata": {},
     "output_type": "execute_result"
    }
   ],
   "source": [
    "df = pd.concat([return_addback_close, return_adj_close], axis=1)\n",
    "df.cov().iloc[0, 1]"
   ]
  },
  {
   "cell_type": "markdown",
   "metadata": {},
   "source": [
    "# Stock Market Cap Distribution"
   ]
  },
  {
   "cell_type": "code",
   "execution_count": null,
   "metadata": {},
   "outputs": [],
   "source": [
    "df = util.to_df(info.get_all_mc(), ['Ticker', 'MarketCap'])\n",
    "df.MarketCap = df.MarketCap / 1000000\n",
    "plt = df[df.MarketCap<100].MarketCap.plot.hist(bins=50, alpha=0.5, title='SGX Stock Market Cap Distribution - Below(100M SGD)')\n",
    "plt.legend(['Total 365 stocks'])\n",
    "plt.set_xlabel(\"Market Cap (1M)\")\n",
    "plt.get_figure().savefig('mc_100M.png')\n",
    "\n",
    "plt = df[df.MarketCap>100][df.MarketCap<1500].MarketCap.plot.hist(bins=50, alpha=0.5, title='SGX Stock Market Cap Distribution - 100M~1.5B SGD)')\n",
    "plt.legend(['Total 188 stocks'])\n",
    "plt.set_xlabel(\"Market Cap (1M)\")\n",
    "plt.get_figure().savefig('mc_100M_1.5B.png')\n",
    "\n",
    "plt = df[df.MarketCap>1500][df.MarketCap<30000].MarketCap.plot.hist(bins=50, alpha=0.5, title='SGX Stock Market Cap Distribution - 1.5B~30B SGD)')\n",
    "plt.legend(['Total 62 stocks'])\n",
    "plt.set_xlabel(\"Market Cap (1M)\")\n",
    "plt.get_figure().savefig('mc_1.5B_20B.png')\n",
    "\n",
    "df[df.MarketCap>10000].sort_values(by=['MarketCap']).to_csv(\"mc_10B_plus.csv\", index=False, float_format='%.6f')"
   ]
  },
  {
   "cell_type": "markdown",
   "metadata": {},
   "source": [
    "# Average Daily Trading Volume Hist"
   ]
  },
  {
   "cell_type": "code",
   "execution_count": null,
   "metadata": {},
   "outputs": [],
   "source": [
    "df = util.to_df(info.get_all_avg_vol(), ['Ticker', 'AvergeVolume'])\n",
    "df.AvergeVolume = df.AvergeVolume / 10000\n",
    "\n",
    "plt = df[df.AvergeVolume<=1].plot.hist(bins=50, alpha=0.5, title='SGX Average Daily Trading Volume (ADTV) - Below(10K SGD)')\n",
    "plt.set_xlabel(\"ADTV (10K)\")\n",
    "plt.legend(['ADTV Total 365 stocks'])\n",
    "plt.get_figure().savefig('adtv_10K.png')\n",
    "\n",
    "plt = df[1<df.AvergeVolume][df.AvergeVolume<=30].plot.hist(bins=50, alpha=0.5, title='SGX Average Daily Trading Volume (ADTV) 10K~300K SGD')\n",
    "plt.set_xlabel(\"ADTV (10K)\")\n",
    "plt.legend(['ADTV Total 207 stocks'])\n",
    "plt.get_figure().savefig('adtv_10K_300K.png')\n",
    "\n",
    "plt = df[df.AvergeVolume>30][df.AvergeVolume<=300].plot.hist(bins=50, alpha=0.5, title='SGX Average Daily Trading Volume (ADTV) 300K~3M SGD')\n",
    "plt.set_xlabel(\"ADTV (10K)\")\n",
    "plt.legend(['ADTV Total 68 stocks'])\n",
    "plt.get_figure().savefig('adtv_300K_3M.png')\n",
    "\n",
    "df[df.AvergeVolume>300].sort_values(by=['AvergeVolume']).to_csv(\"adtv_3M_plus.csv\", index=False, float_format='%.6f')"
   ]
  },
  {
   "cell_type": "markdown",
   "metadata": {},
   "source": [
    "# STI Estimate"
   ]
  },
  {
   "cell_type": "code",
   "execution_count": null,
   "metadata": {},
   "outputs": [],
   "source": [
    "es3 = stocks.load(\"ES3\")\n",
    "df = stocks.get_addback_close(es3, \"2010-03-01\", \"2024-03-15\")\n",
    "df[\"Adj Close\"] = df[\"Adj Close\"] * 990\n",
    "df[\"AddBackClose\"] = df[\"AddBackClose\"] * 1010\n",
    "df[\"Close\"] = df[\"Close\"] * 1000\n",
    "\n",
    "plt = df.plot(x=\"Day\", y = [\"AddBackClose\", \"Close\", \"Adj Close\"], linewidth=0.8, figsize=(15, 10), title=\"Esitmated STI\")\n",
    "plt.legend(['Estimated STI if add back dividend', 'STI', 'Estimated STI if use Adj Close'])\n",
    "plt.get_figure().savefig('STI_estimated.png')"
   ]
  }
 ],
 "metadata": {
  "kernelspec": {
   "display_name": "Python 3",
   "language": "python",
   "name": "python3"
  },
  "language_info": {
   "codemirror_mode": {
    "name": "ipython",
    "version": 3
   },
   "file_extension": ".py",
   "mimetype": "text/x-python",
   "name": "python",
   "nbconvert_exporter": "python",
   "pygments_lexer": "ipython3",
   "version": "3.11.5"
  }
 },
 "nbformat": 4,
 "nbformat_minor": 2
}
