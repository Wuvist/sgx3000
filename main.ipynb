{
 "cells": [
  {
   "cell_type": "code",
   "execution_count": 1,
   "metadata": {},
   "outputs": [],
   "source": [
    "from pysgx import stocks, info, util\n",
    "import importlib\n",
    "import pandas as pd"
   ]
  },
  {
   "cell_type": "code",
   "execution_count": 16,
   "metadata": {},
   "outputs": [],
   "source": [
    "importlib.reload(info);\n",
    "importlib.reload(stocks);"
   ]
  },
  {
   "cell_type": "markdown",
   "metadata": {},
   "source": [
    "# Portfolio"
   ]
  },
  {
   "cell_type": "code",
   "execution_count": 17,
   "metadata": {},
   "outputs": [
    {
     "name": "stdout",
     "output_type": "stream",
     "text": [
      "2001 ByAdjClose: nan ByAddBackClose: nan\n",
      "2001 ByAdjClose: nan ByAddBackClose: nan\n",
      "2001 ByAdjClose: nan ByAddBackClose: nan\n",
      "2002 ByAdjClose: nan ByAddBackClose: nan\n",
      "2002 ByAdjClose: nan ByAddBackClose: nan\n",
      "2002 ByAdjClose: nan ByAddBackClose: nan\n",
      "2003 ByAdjClose: nan ByAddBackClose: nan\n",
      "2003 ByAdjClose: nan ByAddBackClose: nan\n",
      "2003 ByAdjClose: nan ByAddBackClose: nan\n",
      "2004 ByAdjClose: nan ByAddBackClose: nan\n",
      "2004 ByAdjClose: nan ByAddBackClose: nan\n",
      "2004 ByAdjClose: nan ByAddBackClose: nan\n",
      "2005 ByAdjClose: nan ByAddBackClose: nan\n",
      "2005 ByAdjClose: nan ByAddBackClose: nan\n",
      "2005 ByAdjClose: nan ByAddBackClose: nan\n",
      "2006 ByAdjClose: nan ByAddBackClose: nan\n",
      "2006 ByAdjClose: nan ByAddBackClose: nan\n",
      "2006 ByAdjClose: nan ByAddBackClose: nan\n",
      "2007 ByAdjClose: nan ByAddBackClose: nan\n",
      "2007 ByAdjClose: nan ByAddBackClose: nan\n",
      "2007 ByAdjClose: nan ByAddBackClose: nan\n",
      "2008 ByAdjClose: nan ByAddBackClose: nan\n",
      "2008 ByAdjClose: nan ByAddBackClose: nan\n",
      "2008 ByAdjClose: nan ByAddBackClose: nan\n",
      "2009 ByAdjClose: nan ByAddBackClose: nan\n",
      "2009 ByAdjClose: nan ByAddBackClose: nan\n",
      "2009 ByAdjClose: nan ByAddBackClose: nan\n",
      "2010 ByAdjClose: nan ByAddBackClose: nan\n",
      "2010 ByAdjClose: nan ByAddBackClose: nan\n",
      "2010 ByAdjClose: nan ByAddBackClose: nan\n",
      "2011 ByAdjClose: nan ByAddBackClose: nan\n",
      "2011 ByAdjClose: nan ByAddBackClose: nan\n",
      "2011 ByAdjClose: nan ByAddBackClose: nan\n",
      "2012 ByAdjClose: nan ByAddBackClose: nan\n",
      "2012 ByAdjClose: nan ByAddBackClose: nan\n",
      "2012 ByAdjClose: nan ByAddBackClose: nan\n",
      "2013 ByAdjClose: nan ByAddBackClose: nan\n",
      "2013 ByAdjClose: nan ByAddBackClose: nan\n",
      "2013 ByAdjClose: nan ByAddBackClose: nan\n",
      "2014 ByAdjClose: nan ByAddBackClose: nan\n",
      "2014 ByAdjClose: nan ByAddBackClose: nan\n",
      "2014 ByAdjClose: nan ByAddBackClose: nan\n",
      "2015 ByAdjClose: -0.184390 ByAddBackClose: -0.177945\n",
      "2015 ByAdjClose: nan ByAddBackClose: nan\n",
      "2015 ByAdjClose: nan ByAddBackClose: nan\n",
      "2016 ByAdjClose:  0.027860 ByAddBackClose:  0.017356\n",
      "2016 ByAdjClose:  0.132165 ByAddBackClose:  0.148043\n",
      "2016 ByAdjClose:  0.131371 ByAddBackClose:  0.150089\n",
      "2017 ByAdjClose:  0.122660 ByAddBackClose:  0.119570\n",
      "2017 ByAdjClose:  1.542832 ByAddBackClose:  1.525566\n",
      "2017 ByAdjClose:  2.322337 ByAddBackClose:  2.310176\n",
      "2018 ByAdjClose: -0.237771 ByAddBackClose: -0.237111\n",
      "2018 ByAdjClose: -0.192695 ByAddBackClose: -0.191438\n",
      "2018 ByAdjClose: -0.196507 ByAddBackClose: -0.195318\n",
      "2019 ByAdjClose: -0.040670 ByAddBackClose: -0.040353\n",
      "2019 ByAdjClose: -0.154367 ByAddBackClose: -0.154456\n",
      "2019 ByAdjClose: -0.156138 ByAddBackClose: -0.156234\n",
      "2020 ByAdjClose: -0.060965 ByAddBackClose: -0.061641\n",
      "2020 ByAdjClose:  0.646855 ByAddBackClose:  0.655002\n",
      "2020 ByAdjClose:  0.657081 ByAddBackClose:  0.665232\n",
      "2021 ByAdjClose:  0.076696 ByAddBackClose:  0.075664\n",
      "2021 ByAdjClose: -0.025506 ByAddBackClose: -0.022978\n",
      "2021 ByAdjClose: -0.009085 ByAddBackClose: -0.006839\n",
      "2022 ByAdjClose:  0.049757 ByAddBackClose:  0.049912\n",
      "2022 ByAdjClose: -0.611910 ByAddBackClose: -0.612342\n",
      "2022 ByAdjClose: -0.621177 ByAddBackClose: -0.621615\n",
      "2023 ByAdjClose:  0.854294 ByAddBackClose:  0.850588\n",
      "2023 ByAdjClose:  0.852944 ByAddBackClose:  0.858739\n",
      "2023 ByAdjClose:  0.852992 ByAddBackClose:  0.858715\n",
      "2024 ByAdjClose:  0.029598 ByAddBackClose:  0.029598\n",
      "2024 ByAdjClose:  0.023282 ByAddBackClose:  0.023282\n",
      "2024 ByAdjClose:  0.023462 ByAddBackClose:  0.023462\n"
     ]
    }
   ],
   "source": [
    "dy1 = [\"M01\", \"5DD\", \"CC3\", \"i07\", \"BN4\"]\n",
    "dy2 = [\"L38\", \"E5H\", \"1D0\", \"Z74\", \"CY6U\"]\n",
    "ww = [\"A04\", \"5VP\", \"BQD\", \"F03\", \"NO4\", \"41B\", \"A34\", \"T14\", \"Q0X\"]\n",
    "\n",
    "for i in range(2001, 2025):\n",
    "    portfolio = stocks.loads(ww)\n",
    "\n",
    "    start_day = str(i-1) + \"-01-01\"\n",
    "    end_day = str(i-1) + \"-12-31\"\n",
    "\n",
    "    returns = stocks.get_returns(start_day, end_day, portfolio)\n",
    "    w1 = stocks.get_weights_by_returns(returns)\n",
    "\n",
    "    start_day = str(i) + \"-01-01\"\n",
    "    end_day = str(i) + \"-12-31\"\n",
    "    r = stocks.get_portfolio_return(start_day, end_day, portfolio)\n",
    "    print(i, r)\n",
    "\n",
    "    r = stocks.get_portfolio_return(start_day, end_day, portfolio, w1.ByAdjClose)\n",
    "    print(i, r)\n",
    "    r = stocks.get_portfolio_return(start_day, end_day, portfolio, w1.ByAddBackClose)\n",
    "    print(i, r)\n"
   ]
  },
  {
   "cell_type": "code",
   "execution_count": null,
   "metadata": {},
   "outputs": [],
   "source": [
    "# stock = stocks.load(\"D05\")\n",
    "# print(stock.get_sector())\n",
    "df = util.to_df(info.get_all_avg_vol(), ['Ticker', 'AvergeVolume'])\n",
    "df.AvergeVolume = df.AvergeVolume / 10000\n",
    "df = df[df.AvergeVolume>1].sort_values(by=['AvergeVolume'])\n",
    "\n",
    "# df = util.to_df(info.get_all_mc(), ['Ticker', 'MarketCap'])\n",
    "# df.MarketCap = df.MarketCap / 1000000\n",
    "# df = df[df.MarketCap>1000].sort_values(by=['MarketCap'])\n",
    "\n",
    "items = stocks.loads(df.Ticker.to_list())\n",
    "\n",
    "# for i in range(2000, 2024):\n",
    "#     start_day = str(i) + \"-01-01\"\n",
    "#     end_day = str(i+1) + \"-01-01\"\n",
    "#     # print(i, stocks.get_risk(start_day, end_day, stock))\n",
    "#     print(i, stock.get_adtv(start_day, end_day))\n",
    "\n",
    "for stock in items:\n",
    "    print(stock)"
   ]
  },
  {
   "cell_type": "markdown",
   "metadata": {},
   "source": [
    "# Adj Close return vs AddBack Return"
   ]
  },
  {
   "cell_type": "code",
   "execution_count": 183,
   "metadata": {},
   "outputs": [
    {
     "name": "stdout",
     "output_type": "stream",
     "text": [
      "-0.0002463114195503293\n",
      "-0.00044110314428133615\n"
     ]
    },
    {
     "data": {
      "text/plain": [
       "0.04505055363062538"
      ]
     },
     "execution_count": 183,
     "metadata": {},
     "output_type": "execute_result"
    }
   ],
   "source": [
    "# stock = stocks.load(\"D05\")\n",
    "stock = stocks.load(\"D8DU\")\n",
    "df = stocks.get_addback_close(stock, \"2022-01-01\", \"2024-01-01\")\n",
    "\n",
    "return_adj_close = df[\"Adj Close\"].pct_change().dropna()\n",
    "return_addback_close = df[\"AddBackClose\"].pct_change().dropna()\n",
    "\n",
    "print(return_addback_close.mean())\n",
    "print(return_adj_close.mean())\n",
    "return_adj_close.std()  / return_addback_close.std() - 1\n",
    "# return_adj_close.mean()  / return_addback_close.mean() - 1"
   ]
  },
  {
   "cell_type": "code",
   "execution_count": 195,
   "metadata": {},
   "outputs": [
    {
     "data": {
      "text/plain": [
       "0.000718800466679042"
      ]
     },
     "execution_count": 195,
     "metadata": {},
     "output_type": "execute_result"
    }
   ],
   "source": [
    "df = pd.concat([return_addback_close, return_adj_close], axis=1)\n",
    "df.cov().iloc[0, 1]"
   ]
  },
  {
   "cell_type": "markdown",
   "metadata": {},
   "source": [
    "# Stock Market Cap Distribution"
   ]
  },
  {
   "cell_type": "code",
   "execution_count": null,
   "metadata": {},
   "outputs": [],
   "source": [
    "df = util.to_df(info.get_all_mc(), ['Ticker', 'MarketCap'])\n",
    "df.MarketCap = df.MarketCap / 1000000\n",
    "plt = df[df.MarketCap<100].MarketCap.plot.hist(bins=50, alpha=0.5, title='SGX Stock Market Cap Distribution - Below(100M SGD)')\n",
    "plt.legend(['Total 365 stocks'])\n",
    "plt.set_xlabel(\"Market Cap (1M)\")\n",
    "plt.get_figure().savefig('mc_100M.png')\n",
    "\n",
    "plt = df[df.MarketCap>100][df.MarketCap<1500].MarketCap.plot.hist(bins=50, alpha=0.5, title='SGX Stock Market Cap Distribution - 100M~1.5B SGD)')\n",
    "plt.legend(['Total 188 stocks'])\n",
    "plt.set_xlabel(\"Market Cap (1M)\")\n",
    "plt.get_figure().savefig('mc_100M_1.5B.png')\n",
    "\n",
    "plt = df[df.MarketCap>1500][df.MarketCap<30000].MarketCap.plot.hist(bins=50, alpha=0.5, title='SGX Stock Market Cap Distribution - 1.5B~30B SGD)')\n",
    "plt.legend(['Total 62 stocks'])\n",
    "plt.set_xlabel(\"Market Cap (1M)\")\n",
    "plt.get_figure().savefig('mc_1.5B_20B.png')\n",
    "\n",
    "df[df.MarketCap>10000].sort_values(by=['MarketCap']).to_csv(\"mc_10B_plus.csv\", index=False, float_format='%.6f')"
   ]
  },
  {
   "cell_type": "markdown",
   "metadata": {},
   "source": [
    "# Average Daily Trading Volume Hist"
   ]
  },
  {
   "cell_type": "code",
   "execution_count": null,
   "metadata": {},
   "outputs": [],
   "source": [
    "df = util.to_df(info.get_all_avg_vol(), ['Ticker', 'AvergeVolume'])\n",
    "df.AvergeVolume = df.AvergeVolume / 10000\n",
    "\n",
    "plt = df[df.AvergeVolume<=1].plot.hist(bins=50, alpha=0.5, title='SGX Average Daily Trading Volume (ADTV) - Below(10K SGD)')\n",
    "plt.set_xlabel(\"ADTV (10K)\")\n",
    "plt.legend(['ADTV Total 365 stocks'])\n",
    "plt.get_figure().savefig('adtv_10K.png')\n",
    "\n",
    "plt = df[1<df.AvergeVolume][df.AvergeVolume<=30].plot.hist(bins=50, alpha=0.5, title='SGX Average Daily Trading Volume (ADTV) 10K~300K SGD')\n",
    "plt.set_xlabel(\"ADTV (10K)\")\n",
    "plt.legend(['ADTV Total 207 stocks'])\n",
    "plt.get_figure().savefig('adtv_10K_300K.png')\n",
    "\n",
    "plt = df[df.AvergeVolume>30][df.AvergeVolume<=300].plot.hist(bins=50, alpha=0.5, title='SGX Average Daily Trading Volume (ADTV) 300K~3M SGD')\n",
    "plt.set_xlabel(\"ADTV (10K)\")\n",
    "plt.legend(['ADTV Total 68 stocks'])\n",
    "plt.get_figure().savefig('adtv_300K_3M.png')\n",
    "\n",
    "df[df.AvergeVolume>300].sort_values(by=['AvergeVolume']).to_csv(\"adtv_3M_plus.csv\", index=False, float_format='%.6f')"
   ]
  },
  {
   "cell_type": "markdown",
   "metadata": {},
   "source": [
    "# STI Estimate"
   ]
  },
  {
   "cell_type": "code",
   "execution_count": null,
   "metadata": {},
   "outputs": [],
   "source": [
    "es3 = stocks.load(\"ES3\")\n",
    "df = stocks.get_addback_close(es3, \"2010-03-01\", \"2024-03-15\")\n",
    "df[\"Adj Close\"] = df[\"Adj Close\"] * 990\n",
    "df[\"AddBackClose\"] = df[\"AddBackClose\"] * 1010\n",
    "df[\"Close\"] = df[\"Close\"] * 1000\n",
    "\n",
    "plt = df.plot(x=\"Day\", y = [\"AddBackClose\", \"Close\", \"Adj Close\"], linewidth=0.8, figsize=(15, 10), title=\"Esitmated STI\")\n",
    "plt.legend(['Estimated STI if add back dividend', 'STI', 'Estimated STI if use Adj Close'])\n",
    "plt.get_figure().savefig('STI_estimated.png')"
   ]
  }
 ],
 "metadata": {
  "kernelspec": {
   "display_name": "Python 3",
   "language": "python",
   "name": "python3"
  },
  "language_info": {
   "codemirror_mode": {
    "name": "ipython",
    "version": 3
   },
   "file_extension": ".py",
   "mimetype": "text/x-python",
   "name": "python",
   "nbconvert_exporter": "python",
   "pygments_lexer": "ipython3",
   "version": "3.11.5"
  }
 },
 "nbformat": 4,
 "nbformat_minor": 2
}
