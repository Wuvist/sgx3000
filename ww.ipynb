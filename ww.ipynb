{
 "cells": [
  {
   "cell_type": "code",
   "execution_count": 1,
   "metadata": {},
   "outputs": [
    {
     "name": "stderr",
     "output_type": "stream",
     "text": [
      "c:\\Users\\vic52\\Documents\\GitHub\\sgx3000\\pysgx\\dm_test.py:108: SyntaxWarning: invalid escape sequence '\\d'\n",
      "  comp = re_compile(\"^\\d+?\\.\\d+?$\")\n"
     ]
    }
   ],
   "source": [
    "from pysgx import info, stocks, util, dm_test\n",
    "import importlib\n",
    "import pandas as pd\n",
    "import numpy as np"
   ]
  },
  {
   "cell_type": "code",
   "execution_count": 91,
   "metadata": {},
   "outputs": [],
   "source": [
    "# Re-run this cell if pysgx module have hot changes\n",
    "importlib.reload(info);\n",
    "importlib.reload(stocks);\n",
    "importlib.reload(util);"
   ]
  },
  {
   "cell_type": "markdown",
   "metadata": {},
   "source": [
    "# Portfolio"
   ]
  },
  {
   "cell_type": "code",
   "execution_count": 2,
   "metadata": {},
   "outputs": [],
   "source": [
    "# Load ALL stocks!\n",
    "all_stocks = stocks.loads(info.all_tickers)\n",
    "\n",
    "def get_portfolio(tickers):\n",
    "    portfolio = []\n",
    "    for stock in all_stocks:\n",
    "        if stock.ticker in tickers:\n",
    "            portfolio.append(stock)\n",
    "    return portfolio"
   ]
  },
  {
   "cell_type": "markdown",
   "metadata": {},
   "source": [
    "# Rolling Test using AddBack Close Return"
   ]
  },
  {
   "cell_type": "code",
   "execution_count": 9,
   "metadata": {},
   "outputs": [
    {
     "name": "stdout",
     "output_type": "stream",
     "text": [
      "Evaluate 1Y since:  2000-01-01 dict_keys(['L02', '5AB', 'J36', 'CTO', 'H78', 'BTJ', 'BDA', 'LJ3', 'KUH', 'H02'])\n",
      "backtest 1Q 2001-01-01 2001-04-01 ByAdjClose: -0.153297 ByAddBackClose: -0.152858\n",
      "\n",
      "Evaluate 1Y since:  2000-04-01 dict_keys(['L02', 'LJ3', 'J36', 'H78', 'H02', 'C52', 'U14', '5AB', 'S63', 'S20'])\n",
      "backtest 1Q 2001-04-01 2001-07-01 ByAdjClose:  0.046727 ByAddBackClose:  0.044415\n",
      "\n",
      "Evaluate 1Y since:  2000-07-01 dict_keys(['600', 'T14', 'AZR', 'L02', 'LJ3', 'G07', 'H02', 'F13', 'WPC', 'J36'])\n",
      "backtest 1Q 2001-07-01 2001-10-01 ByAdjClose: nan ByAddBackClose: -0.088402\n",
      "\n",
      "Evaluate 1Y since:  2000-10-01 dict_keys(['AZR', 'T14', '600', 'D01', 'G07', 'LJ3', 'S20', 'H02', 'F13', 'BAZ'])\n",
      "backtest 1Q 2001-10-01 2002-01-01 ByAdjClose:  0.244899 ByAddBackClose:  0.244330\n",
      "\n",
      "Evaluate 1Y since:  2001-01-01 dict_keys(['T14', '600', 'AZR', 'G13', 'F13', 'D01', 'G07', 'BAZ', 'T15', 'G92'])\n",
      "backtest 1Q 2002-01-01 2002-04-01 ByAdjClose:  0.089573 ByAddBackClose:  0.088380\n",
      "\n",
      "Evaluate 1Y since:  2001-04-01 dict_keys(['T14', '600', 'AZR', 'F03', '578', '558', 'F13', 'G13', '554', '504'])\n",
      "backtest 1Q 2002-04-01 2002-07-01 ByAdjClose: -0.080948 ByAddBackClose: -0.084891\n",
      "\n",
      "Evaluate 1Y since:  2001-07-01 dict_keys(['F03', '596', '578', 'H22', 'T14', 'F10', '558', 'S59', 'Q01', '1H2'])\n",
      "backtest 1Q 2002-07-01 2002-10-01 ByAdjClose: -0.070662 ByAddBackClose: -0.164951\n",
      "\n",
      "Evaluate 1Y since:  2001-10-01 dict_keys(['F03', '558', 'N02', 'H22', '596', '578', 'T14', 'S59', '580', 'F10'])\n",
      "backtest 1Q 2002-10-01 2003-01-01 ByAdjClose:  0.054434 ByAddBackClose:  0.054612\n",
      "\n",
      "Evaluate 1Y since:  2002-01-01 dict_keys(['F03', 'N02', '596', '558', '580', 'T14', '5AI', 'H22', 'D01', '578'])\n",
      "backtest 1Q 2003-01-01 2003-04-01 ByAdjClose:  0.100923 ByAddBackClose:  0.102001\n",
      "\n",
      "Evaluate 1Y since:  2002-04-01 dict_keys(['N02', 'H22', 'D01', 'V3M', 'T14', 'M01', '580', 'A05', 'D03', 'BDU'])\n",
      "backtest 1Q 2003-04-01 2003-07-01 ByAdjClose:  0.235920 ByAddBackClose:  0.233897\n",
      "\n",
      "Evaluate 1Y since:  2002-07-01 dict_keys(['5NV', 'A26', 'BTE', 'BDU', 'N02', 'T14', 'A05', '5CP', 'V3M', 'M01'])\n",
      "backtest 1Q 2003-07-01 2003-10-01 ByAdjClose:  0.327488 ByAddBackClose:  0.181205\n",
      "\n",
      "Evaluate 1Y since:  2002-10-01 dict_keys(['M14', 'A26', 'BTE', 'MT1', 'S56', 'BQM', 'G0I', '575', '5AU', 'A04'])\n",
      "backtest 1Q 2003-10-01 2004-01-01 ByAdjClose:  0.025537 ByAddBackClose:  0.025300\n",
      "\n",
      "Evaluate 1Y since:  2003-01-01 dict_keys(['BQM', '566', 'M14', 'A26', 'BIP', 'BTE', '575', 'S56', 'G0I', 'G92'])\n",
      "backtest 1Q 2004-01-01 2004-04-01 ByAdjClose:  0.151382 ByAddBackClose:  0.151444\n",
      "\n",
      "Evaluate 1Y since:  2003-04-01 dict_keys(['566', 'G92', '575', 'BTE', 'A26', 'A50', 'BQM', 'M14', 'BIP', 'MT1'])\n",
      "backtest 1Q 2004-04-01 2004-07-01 ByAdjClose: -0.186538 ByAddBackClose: -0.186443\n",
      "\n",
      "Evaluate 1Y since:  2003-07-01 dict_keys(['G92', '575', 'BQM', 'A50', '566', 'J03', 'B69', 'MT1', 'Y3D', 'G0I'])\n",
      "backtest 1Q 2004-07-01 2004-10-01 ByAdjClose: -0.006490 ByAddBackClose: -0.006493\n",
      "\n",
      "Evaluate 1Y since:  2003-10-01 dict_keys(['L02', 'G92', 'B69', 'J36', 'D01', 'C09', 'C52', 'J03', 'T14', 'F13'])\n",
      "backtest 1Q 2004-10-01 2005-01-01 ByAdjClose: -0.038320 ByAddBackClose: -0.038361\n",
      "\n",
      "Evaluate 1Y since:  2004-01-01 dict_keys(['L23', 'L02', 'B69', 'C52', 'Y3D', '600', 'C07', 'A26', 'BTE', 'BTG'])\n",
      "backtest 1Q 2005-01-01 2005-04-01 ByAdjClose: -0.082557 ByAddBackClose: -0.082396\n",
      "\n",
      "Evaluate 1Y since:  2004-04-01 dict_keys(['L23', 'V3M', '578', '600', 'L02', 'C07', 'PRH', 'S61', 'J36', 'H78'])\n",
      "backtest 1Q 2005-04-01 2005-07-01 ByAdjClose:  0.086213 ByAddBackClose:  0.086108\n",
      "\n",
      "Evaluate 1Y since:  2004-07-01 dict_keys(['L23', '600', '578', 'C07', 'V3M', 'U96', 'CC3', 'S19', 'H78', 'F86'])\n",
      "backtest 1Q 2005-07-01 2005-10-01 ByAdjClose:  0.116707 ByAddBackClose:  0.116647\n",
      "\n",
      "Evaluate 1Y since:  2004-10-01 dict_keys(['L23', 'H78', '578', 'M04', 'CC3', 'H13', 'U96', 'D01', '600', 'U77'])\n",
      "backtest 1Q 2005-10-01 2006-01-01 ByAdjClose: -0.013432 ByAddBackClose: -0.013696\n",
      "\n",
      "Evaluate 1Y since:  2005-01-01 dict_keys(['U77', '578', 'D01', 'H78', 'H13', 'CC3', 'M04', 'VC2', 'M01', 'U96'])\n",
      "backtest 1Q 2006-01-01 2006-04-01 ByAdjClose:  0.236994 ByAddBackClose:  0.237019\n",
      "\n",
      "Evaluate 1Y since:  2005-04-01 dict_keys(['U77', 'H13', 'AZA', 'BHK', 'F1E', '5DN', 'BAI', 'BDU', 'H78', 'VC2'])\n",
      "backtest 1Q 2006-04-01 2006-07-01 ByAdjClose: -0.124201 ByAddBackClose: -0.123492\n",
      "\n",
      "Evaluate 1Y since:  2005-07-01 dict_keys(['5IG', 'BQC', 'BHK', 'U77', '5EN', 'BAI', 'H78', 'H13', 'BDU', 'F1E'])\n",
      "backtest 1Q 2006-07-01 2006-10-01 ByAdjClose:  0.087449 ByAddBackClose:  0.087325\n",
      "\n",
      "Evaluate 1Y since:  2005-10-01 dict_keys(['5IG', 'BQC', '5EN', 'BTE', '532', 'BHK', '5I4', 'S68', 'B61', 'F9D'])\n",
      "backtest 1Q 2006-10-01 2007-01-01 ByAdjClose: -0.013945 ByAddBackClose: -0.011156\n",
      "\n",
      "Evaluate 1Y since:  2006-01-01 dict_keys(['5IG', '5CP', 'BRD', '5EN', '5I4', 'BQC', 'Z25', 'G13', 'F34', 'F83'])\n",
      "backtest 1Q 2007-01-01 2007-04-01 ByAdjClose: -0.054728 ByAddBackClose: -0.054758\n",
      "\n",
      "Evaluate 1Y since:  2006-04-01 dict_keys(['AXB', '5IG', 'KJ5', 'C06', 'OU8', 'BEZ', 'PRH', 'CTO', '5EN', '5GD'])\n",
      "backtest 1Q 2007-04-01 2007-07-01 ByAdjClose:  0.481509 ByAddBackClose:  0.479692\n",
      "\n",
      "Evaluate 1Y since:  2006-07-01 dict_keys(['AXB', 'BTP', '5AL', 'AVX', '1C0', '566', 'BEZ', 'CTO', 'OU8', '5GJ'])\n",
      "backtest 1Q 2007-07-01 2007-10-01 ByAdjClose:  0.102975 ByAddBackClose:  0.102975\n",
      "\n",
      "Evaluate 1Y since:  2006-10-01 dict_keys(['1C0', 'BTP', 'AXB', '5CF', '5RA', '566', 'OU8', 'CTO', 'RDR', '5GJ'])\n",
      "backtest 1Q 2007-10-01 2008-01-01 ByAdjClose: -0.225904 ByAddBackClose: -0.225880\n",
      "\n",
      "Evaluate 1Y since:  2007-01-01 dict_keys(['1C0', 'BTP', '5CF', 'Q0X', '595', '5GJ', 'BQM', 'OU8', 'BEZ', 'F17'])\n",
      "backtest 1Q 2008-01-01 2008-04-01 ByAdjClose: -0.280465 ByAddBackClose: -0.280465\n",
      "\n",
      "Evaluate 1Y since:  2007-04-01 dict_keys(['1C0', 'S07', 'LYY', '5JS', '5NV', 'Y92', '5CF', 'BTP', 'Q0X', 'CIN'])\n",
      "backtest 1Q 2008-04-01 2008-07-01 ByAdjClose: nan ByAddBackClose: -0.051580\n",
      "\n",
      "Evaluate 1Y since:  2007-07-01 dict_keys(['R14', '5JS', 'Y92', 'F34', '579', 'E5H', 'S20', 'J36', 'S51', 'CHJ'])\n",
      "backtest 1Q 2008-07-01 2008-10-01 ByAdjClose: nan ByAddBackClose: -0.356724\n",
      "\n",
      "Evaluate 1Y since:  2007-10-01 dict_keys(['Y92', 'LUY', 'i07', 'D01', '579', 'J36', 'R14', 'E3B', 'CC3', 'C07'])\n",
      "backtest 1Q 2008-10-01 2009-01-01 ByAdjClose: nan ByAddBackClose: -0.230683\n",
      "\n",
      "Evaluate 1Y since:  2008-01-01 dict_keys(['Y92', 'LUY', 'D01', 'GU5', 'i07', 'D03', 'R14', 'S20', 'C52', 'S08'])\n",
      "backtest 1Q 2009-01-01 2009-04-01 ByAdjClose: nan ByAddBackClose: -0.119737\n",
      "\n",
      "Evaluate 1Y since:  2008-04-01 dict_keys(['Y92', 'LUY', '5LY', 'D01', 'O87', 'GU5', 'P74', 'G13', 'A7RU', 'LJ3'])\n",
      "backtest 1Q 2009-04-01 2009-07-01 ByAdjClose: nan ByAddBackClose: 0.210902\n",
      "\n",
      "Evaluate 1Y since:  2008-07-01 dict_keys(['Y92', 'A78', 'G3B', 'D01', 'BHU', 'E3B', 'Z25', 'G13', 'C07', 'C8R'])\n",
      "backtest 1Q 2009-07-01 2009-10-01 ByAdjClose: nan ByAddBackClose: 0.401601\n",
      "\n",
      "Evaluate 1Y since:  2008-10-01 dict_keys(['5CF', 'A78', '5CT', '546', 'BAI', 'BQM', 'B9S', 'P36', 'BTP', 'TVV'])\n",
      "backtest 1Q 2009-10-01 2010-01-01 ByAdjClose: -0.022258 ByAddBackClose: -0.022182\n",
      "\n",
      "Evaluate 1Y since:  2009-01-01 dict_keys(['H20', '546', 'H22', 'T14', '5OU', 'A78', 'H13', '5JS', 'R14', 'B69'])\n",
      "backtest 1Q 2010-01-01 2010-04-01 ByAdjClose:  0.022156 ByAddBackClose:  0.022157\n",
      "\n",
      "Evaluate 1Y since:  2009-04-01 dict_keys(['H22', '5JK', 'U77', 'B69', 'P36', 'H20', 'H13', 'BHD', 'A78', 'AZG'])\n",
      "backtest 1Q 2010-04-01 2010-07-01 ByAdjClose: -0.118293 ByAddBackClose: -0.117578\n",
      "\n",
      "Evaluate 1Y since:  2009-07-01 dict_keys(['H20', 'B69', 'U77', 'M14', 'BTP', 'BKV', '1H2', 'Y92', 'T14', '558'])\n",
      "backtest 1Q 2010-07-01 2010-10-01 ByAdjClose:  0.126534 ByAddBackClose:  0.069703\n",
      "\n",
      "Evaluate 1Y since:  2009-10-01 dict_keys(['1H2', '5NV', '5AB', 'S69', '558', 'B69', 'Y92', 'WPC', 'G20', 'BN2'])\n",
      "backtest 1Q 2010-10-01 2011-01-01 ByAdjClose: -0.040141 ByAddBackClose: -0.036783\n",
      "\n",
      "Evaluate 1Y since:  2010-01-01 dict_keys(['B49', '558', 'N0Z', 'S69', 'Y92', '5NV', '5AB', 'BN2', 'WPC', 'BQD'])\n",
      "backtest 1Q 2011-01-01 2011-04-01 ByAdjClose: -0.040663 ByAddBackClose: -0.041643\n",
      "\n",
      "Evaluate 1Y since:  2010-04-01 dict_keys(['AFC', 'B49', '558', 'G13', 'LYY', 'T4B', 'Y92', 'A78', 'EG0', 'N0Z'])\n",
      "backtest 1Q 2011-04-01 2011-07-01 ByAdjClose:  0.119258 ByAddBackClose:  -0.016849\n",
      "\n",
      "Evaluate 1Y since:  2010-07-01 dict_keys(['AFC', 'BLS', '5SR', 'E6R', 'B49', '583', 'L02', 'TVV', 'Y92', 'A78'])\n",
      "backtest 1Q 2011-07-01 2011-10-01 ByAdjClose:  0.033264 ByAddBackClose:  -0.038760\n",
      "\n",
      "Evaluate 1Y since:  2010-10-01 dict_keys(['BLS', '5SR', 'AFC', 'Y92', 'A78', 'TVV', 'B49', 'A30', '583', 'DU4'])\n",
      "backtest 1Q 2011-10-01 2012-01-01 ByAdjClose: -0.076502 ByAddBackClose: -0.074579\n",
      "\n",
      "Evaluate 1Y since:  2011-01-01 dict_keys(['BLS', '5SR', 'TVV', 'A30', 'Y92', '583', 'DU4', '5F7', 'QC7', 'E6R'])\n",
      "backtest 1Q 2012-01-01 2012-04-01 ByAdjClose:  0.277952 ByAddBackClose:  0.274240\n",
      "\n",
      "Evaluate 1Y since:  2011-04-01 dict_keys(['Z59', 'TVV', 'A30', 'Y3D', '5SR', '5GI', 'Y92', 'U77', '583', 'A31'])\n",
      "backtest 1Q 2012-04-01 2012-07-01 ByAdjClose:  0.238476 ByAddBackClose:  0.091991\n",
      "\n",
      "Evaluate 1Y since:  2011-07-01 dict_keys(['BDX', 'Z59', 'T09', '5GI', 'Y92', 'i06', 'U09', 'AWX', 'A30', 'Y3D'])\n",
      "backtest 1Q 2012-07-01 2012-10-01 ByAdjClose:  0.374477 ByAddBackClose:  0.330773\n",
      "\n",
      "Evaluate 1Y since:  2011-10-01 dict_keys(['BDX', 'Z59', 'T09', '5GI', 'A33', 'U09', 'Y3D', 'i06', '505', 'A30'])\n",
      "backtest 1Q 2012-10-01 2013-01-01 ByAdjClose:  0.280626 ByAddBackClose:  0.280566\n",
      "\n",
      "Evaluate 1Y since:  2012-01-01 dict_keys(['5QT', 'BDX', 'T09', 'A33', 'QZG', '5GI', 'A50', '505', 'U09', 'Z59'])\n",
      "backtest 1Q 2013-01-01 2013-04-01 ByAdjClose:  0.355952 ByAddBackClose:  0.355952\n",
      "\n",
      "Evaluate 1Y since:  2012-04-01 dict_keys(['A33', 'QZG', '5QT', 'BDX', 'i07', 'WVJ', 'Y35', 'A50', '5BI', '9QX'])\n",
      "backtest 1Q 2013-04-01 2013-07-01 ByAdjClose:  0.080280 ByAddBackClose:  0.080311\n",
      "\n",
      "Evaluate 1Y since:  2012-07-01 dict_keys(['A33', 'i07', '5QT', 'QZG', 'A50', '5BI', 'M15', '5PO', 'T4B', 'Y92'])\n",
      "backtest 1Q 2013-07-01 2013-10-01 ByAdjClose:  0.220832 ByAddBackClose:  0.209001\n",
      "\n",
      "Evaluate 1Y since:  2012-10-01 dict_keys(['A33', '5QT', '9QX', 'i07', 'AOF', '5OU', 'A50', 'QZG', 'O08', '1B6'])\n",
      "backtest 1Q 2013-10-01 2014-01-01 ByAdjClose: -0.200394 ByAddBackClose: -0.200394\n",
      "\n",
      "Evaluate 1Y since:  2013-01-01 dict_keys(['i07', '5OU', 'WPC', '9QX', '1B6', 'BCD', 'AOF', 'BTJ', '504', 'Y45'])\n",
      "backtest 1Q 2014-01-01 2014-04-01 ByAdjClose: -0.140971 ByAddBackClose: -0.142222\n",
      "\n",
      "Evaluate 1Y since:  2013-04-01 dict_keys(['5OU', 'Y45', 'U9E', 'BTJ', 'OU8', 'WPC', 'RCU', 'O08', 'BCD', '5RA'])\n",
      "backtest 1Q 2014-04-01 2014-07-01 ByAdjClose: -0.169408 ByAddBackClose: -0.169386\n",
      "\n",
      "Evaluate 1Y since:  2013-07-01 dict_keys(['41F', 'RCU', 'Y45', 'QS9', 'WPC', 'BTM', 'O08', 'BN2', 'L02', 'BHK'])\n",
      "backtest 1Q 2014-07-01 2014-10-01 ByAdjClose: -0.033824 ByAddBackClose: -0.031747\n",
      "\n",
      "Evaluate 1Y since:  2013-10-01 dict_keys(['41F', 'RCU', 'Y92', 'QES', 'QS9', 'S85', 'BTM', '5UN', 'U77', 'BN2'])\n",
      "backtest 1Q 2014-10-01 2015-01-01 ByAdjClose: -0.054419 ByAddBackClose: -0.054387\n",
      "\n",
      "Evaluate 1Y since:  2014-01-01 dict_keys(['41F', 'RCU', '5OC', '5UN', '42N', 'BEZ', 'L38', 'Y92', 'QS9', 'QES'])\n",
      "backtest 1Q 2015-01-01 2015-04-01 ByAdjClose:  0.013933 ByAddBackClose:  0.013879\n",
      "\n",
      "Evaluate 1Y since:  2014-04-01 dict_keys(['5OC', '42N', 'TVV', 'RCU', 'L38', 'Y92', '5HH', 'JK8', 'QES', 'J2T'])\n",
      "backtest 1Q 2015-04-01 2015-07-01 ByAdjClose:  0.196606 ByAddBackClose:  0.114022\n",
      "\n",
      "Evaluate 1Y since:  2014-07-01 dict_keys(['42N', '5OC', 'Y92', '5AB', '1B0', 'JK8', 'RCU', 'D8DU', 'AP4', 'QC7'])\n",
      "backtest 1Q 2015-07-01 2015-10-01 ByAdjClose: -0.121387 ByAddBackClose: -0.125130\n",
      "\n",
      "Evaluate 1Y since:  2014-10-01 dict_keys(['Y35', '42N', '1B0', 'BQC', '5OC', 'QC7', 'AP4', 'Y92', 'P15', 'D8DU'])\n",
      "backtest 1Q 2015-10-01 2016-01-01 ByAdjClose:  0.087260 ByAddBackClose:  0.087211\n",
      "\n",
      "Evaluate 1Y since:  2015-01-01 dict_keys(['Y35', 'BTF', '1B0', '42N', 'AP4', '5GD', '5OC', '8K7', '8A1', 'Y92'])\n",
      "backtest 1Q 2016-01-01 2016-04-01 ByAdjClose: -0.132301 ByAddBackClose: -0.132304\n",
      "\n",
      "Evaluate 1Y since:  2015-04-01 dict_keys(['Y35', '1B0', '5GD', '8A1', 'BTF', 'T4B', 'CGN', 'Y92', 'AP4', 'F13'])\n",
      "backtest 1Q 2016-04-01 2016-07-01 ByAdjClose:  0.344264 ByAddBackClose:  0.190357\n",
      "\n",
      "Evaluate 1Y since:  2015-07-01 dict_keys(['Y35', 'CGN', '8A1', '43F', '1B0', '5GD', 'UD2', 'Y92', 'T4B', '5TP'])\n",
      "backtest 1Q 2016-07-01 2016-10-01 ByAdjClose:  0.096871 ByAddBackClose:  0.092552\n",
      "\n",
      "Evaluate 1Y since:  2015-10-01 dict_keys(['CGN', '43F', '5TP', 'UD2', '1B0', '40E', 'Y92', 'G92', '5GD', '42R'])\n",
      "backtest 1Q 2016-10-01 2017-01-01 ByAdjClose:  0.053794 ByAddBackClose:  0.053767\n",
      "\n",
      "Evaluate 1Y since:  2016-01-01 dict_keys(['CGN', '5TP', '1B0', 'Y92', '43F', 'G92', 'F03', 'BDX', 'UD2', '5GD'])\n",
      "backtest 1Q 2017-01-01 2017-04-01 ByAdjClose:  0.266968 ByAddBackClose:  0.220686\n",
      "\n",
      "Evaluate 1Y since:  2016-04-01 dict_keys(['CGN', '532', '5RF', 'J03', 'PH0', 'AWX', '40F', '41H', 'FQ7', 'RE4'])\n",
      "backtest 1Q 2017-04-01 2017-07-01 ByAdjClose: -0.112325 ByAddBackClose: -0.111751\n",
      "\n",
      "Evaluate 1Y since:  2016-07-01 dict_keys(['AWX', '5RF', 'J03', '40F', 'FQ7', '41H', '5NV', '41F', 'CGN', '532'])\n",
      "backtest 1Q 2017-07-01 2017-10-01 ByAdjClose: -0.049237 ByAddBackClose: -0.049349\n",
      "\n",
      "Evaluate 1Y since:  2016-10-01 dict_keys(['AWX', 'FQ7', '5RF', '41H', 'J03', '575', '5NV', 'C8R', 'M03', '5GZ'])\n",
      "backtest 1Q 2017-10-01 2018-01-01 ByAdjClose:  0.008469 ByAddBackClose:  0.008103\n",
      "\n",
      "Evaluate 1Y since:  2017-01-01 dict_keys(['C8R', 'AWX', '40F', 'J03', 'BEC', 'MT1', 'S71', '5WA', '5DD', '5NV'])\n",
      "backtest 1Q 2018-01-01 2018-04-01 ByAdjClose:  0.017655 ByAddBackClose:  0.017839\n",
      "\n",
      "Evaluate 1Y since:  2017-04-01 dict_keys(['C76', 'AWX', 'C8R', '1J4', 'V03', 'BEC', '1F1', '5DD', '1H3', 'QES'])\n",
      "backtest 1Q 2018-04-01 2018-07-01 ByAdjClose: -0.185315 ByAddBackClose: -0.184386\n",
      "\n",
      "Evaluate 1Y since:  2017-07-01 dict_keys(['C76', 'C8R', 'AWX', 'QES', '1F1', '1J4', '575', 'BEC', '5DD', 'V03'])\n",
      "backtest 1Q 2018-07-01 2018-10-01 ByAdjClose: -0.068362 ByAddBackClose: -0.068310\n",
      "\n",
      "Evaluate 1Y since:  2017-10-01 dict_keys(['C76', 'BEW', '5WH', '1J4', 'M11', 'BEC', 'M14', 'F83', '544', 'Y92'])\n",
      "backtest 1Q 2018-10-01 2019-01-01 ByAdjClose: -0.203104 ByAddBackClose: -0.203104\n",
      "\n",
      "Evaluate 1Y since:  2018-01-01 dict_keys(['C76', 'CGN', '5EN', 'UD2', 'QES', 'BEW', 'Y92', 'AIY', 'CTO', 'OV8'])\n",
      "backtest 1Q 2019-01-01 2019-04-01 ByAdjClose:  0.328128 ByAddBackClose:  0.157353\n",
      "\n",
      "Evaluate 1Y since:  2018-04-01 dict_keys(['Y92', 'S61', '5WH', 'UD2', 'CTO', '544', 'BS6', 'C52', 'AIY', 'N2IU'])\n",
      "backtest 1Q 2019-04-01 2019-07-01 ByAdjClose: -0.001001 ByAddBackClose: -0.006027\n",
      "\n",
      "Evaluate 1Y since:  2018-07-01 dict_keys(['Y92', 'BS6', 'S61', '5WH', 'M14', 'E28', 'CY6U', 'N2IU', 'C38U', 'M44U'])\n",
      "backtest 1Q 2019-07-01 2019-10-01 ByAdjClose: -0.015241 ByAddBackClose: -0.015431\n",
      "\n",
      "Evaluate 1Y since:  2018-10-01 dict_keys(['Y92', 'BTM', 'QS9', '5JS', 'S61', 'E28', 'AJBU', 'CY6U', 'N2IU', 'AWX'])\n",
      "backtest 1Q 2019-10-01 2020-01-01 ByAdjClose:  0.148459 ByAddBackClose:  0.148511\n",
      "\n",
      "Evaluate 1Y since:  2019-01-01 dict_keys(['QS9', '5WH', 'Y92', '5GI', 'BTM', 'AWX', 'E28', 'Z4D', '5GD', '558'])\n",
      "backtest 1Q 2020-01-01 2020-04-01 ByAdjClose: -0.465977 ByAddBackClose: -0.465581\n",
      "\n",
      "Evaluate 1Y since:  2019-04-01 dict_keys(['584', '5AI', '546', '5WV', 'QS9', 'AJBU', 'BVA', 'AWX', '5JS', 'V2Y'])\n",
      "backtest 1Q 2020-04-01 2020-07-01 ByAdjClose:  0.974988 ByAddBackClose:  0.974640\n",
      "\n",
      "Evaluate 1Y since:  2019-07-01 dict_keys(['Y35', '546', '8K7', '584', '40V', '5AI', 'NC2', 'BVA', 'AAJ', 'AWX'])\n",
      "backtest 1Q 2020-07-01 2020-10-01 ByAdjClose:  0.169549 ByAddBackClose:  0.170034\n",
      "\n",
      "Evaluate 1Y since:  2019-10-01 dict_keys(['546', '8K7', 'Y35', '584', 'BVA', 'C8R', '569', 'NC2', 'AP4', 'MXNU'])\n",
      "backtest 1Q 2020-10-01 2021-01-01 ByAdjClose:  0.007467 ByAddBackClose:  -0.021510\n",
      "\n",
      "Evaluate 1Y since:  2020-01-01 dict_keys(['546', '8K7', '42F', '579', 'Y35', 'LS9', 'NC2', '5EF', 'BVA', 'C8R'])\n",
      "backtest 1Q 2021-01-01 2021-04-01 ByAdjClose:  0.199473 ByAddBackClose:  0.199157\n",
      "\n",
      "Evaluate 1Y since:  2020-04-01 dict_keys(['579', '42F', '1D3', '546', 'MXNU', 'E27', 'C8R', '8K7', 'L23', 'AIY'])\n",
      "backtest 1Q 2021-04-01 2021-07-01 ByAdjClose:  0.113570 ByAddBackClose:  0.114275\n",
      "\n",
      "Evaluate 1Y since:  2020-07-01 dict_keys(['42F', '5EB', 'E27', 'MXNU', 'AZT', 'AIY', 'C8R', '579', '43E', 'A78'])\n",
      "backtest 1Q 2021-07-01 2021-10-01 ByAdjClose: -0.280798 ByAddBackClose: 0.144495\n",
      "\n",
      "Evaluate 1Y since:  2020-10-01 dict_keys(['MXNU', 'E27', 'T13', '5EB', 'EB7', '579', 'NC2', 'YYR', 'JLB', 'Y45'])\n",
      "backtest 1Q 2021-10-01 2022-01-01 ByAdjClose: nan ByAddBackClose: -0.028352\n",
      "\n",
      "Evaluate 1Y since:  2021-01-01 dict_keys(['MXNU', 'T13', 'NC2', '5HH', 'EB7', 'YYR', 'V3M', 'Y45', 'JLB', '5CT'])\n",
      "backtest 1Q 2022-01-01 2022-04-01 ByAdjClose: nan ByAddBackClose: 0.381355\n",
      "\n",
      "Evaluate 1Y since:  2021-04-01 dict_keys(['T13', 'MXNU', 'Y45', '5HH', '5EB', '532', 'NC2', 'S56', 'RE4', 'AGS'])\n",
      "backtest 1Q 2022-04-01 2022-07-01 ByAdjClose: -0.178016 ByAddBackClose: -0.178016\n",
      "\n",
      "Evaluate 1Y since:  2021-07-01 dict_keys(['MXNU', '5HH', 'O9E', '5FW', '5G9', 'NO4', 'V3M', 'S56', 'RE4', 'S3N'])\n",
      "backtest 1Q 2022-07-01 2022-10-01 ByAdjClose: -0.174956 ByAddBackClose: -0.174956\n",
      "\n",
      "Evaluate 1Y since:  2021-10-01 dict_keys(['MXNU', 'O9E', '532', '5FW', 'N32', '5WV', 'NO4', 'C07', 'U96', '5G9'])\n",
      "backtest 1Q 2022-10-01 2023-01-01 ByAdjClose:  0.033413 ByAddBackClose:  0.033413\n",
      "\n",
      "Evaluate 1Y since:  2022-01-01 dict_keys(['O9E', 'MXNU', '5FW', 'NO4', 'N32', 'BS6', '5VJ', 'S51', 'U96', 'Y92'])\n",
      "backtest 1Q 2023-01-01 2023-04-01 ByAdjClose:  0.044522 ByAddBackClose:  0.044522\n",
      "\n",
      "Evaluate 1Y since:  2022-04-01 dict_keys(['O9E', '5FW', 'N32', 'NO4', 'F03', '5AE', 'CGN', '5VJ', 'U96', 'P34'])\n",
      "backtest 1Q 2023-04-01 2023-07-01 ByAdjClose:  0.016828 ByAddBackClose:  0.016828\n",
      "\n",
      "Evaluate 1Y since:  2022-07-01 dict_keys(['O9E', 'U96', 'F03', '5VJ', 'T14', '5LY', 'NO4', 'P34', 'BN4', 'BS6'])\n",
      "backtest 1Q 2023-07-01 2023-10-01 ByAdjClose: -0.006342 ByAddBackClose: -0.006248\n",
      "\n",
      "Evaluate 1Y since:  2022-10-01 dict_keys(['Q0X', 'NO4', 'F03', 'T14', 'NHD', '5PO', 'ENV', '5VJ', 'BQD', 'P34'])\n",
      "backtest 1Q 2023-10-01 2024-01-01 ByAdjClose: -0.033192 ByAddBackClose: -0.033192\n",
      "\n",
      "Evaluate 1Y since:  2023-01-01 dict_keys(['Q0X', 'T14', 'A34', 'NO4', 'F03', 'BQD', 'BN4', 'Y45', 'U96', 'P34'])\n",
      "backtest 1Q 2024-01-01 2024-04-01 ByAdjClose: -0.024978 ByAddBackClose: -0.024978\n",
      "\n"
     ]
    }
   ],
   "source": [
    "period_start = util.YearMonth(2000, 1)\n",
    "period_last = util.YearMonth(2023, 1)\n",
    "\n",
    "ByAddBackClose = []\n",
    "ByAdjClose = []\n",
    "\n",
    "while period_start <= period_last:\n",
    "    returns = dict()\n",
    "    for stock in all_stocks:\n",
    "        period_end = util.get_next(period_start, 12)\n",
    "        adtv = stock.get_adtv(period_start, period_end)\n",
    "\n",
    "        if adtv > 100000:\n",
    "            r = stocks.get_return(period_start, period_end, stock, False)\n",
    "            if not np.isnan(r.ByAddBackClose):\n",
    "                returns[stock.ticker] = r.ByAddBackClose\n",
    "\n",
    "    # sort to find top 10 return stocks using AddBack Close\n",
    "    returns2 = sorted(returns.items(), key=lambda x: x[1], reverse=True)[:10]\n",
    "    top_returns = {k[0]: returns[k[0]] for k in returns2}\n",
    "\n",
    "    print(\"Evaluate 1Y since: \", period_start, top_returns.keys())\n",
    "    eval_period_end = util.get_next(period_end, 3)\n",
    "\n",
    "    r = stocks.get_portfolio_return(period_end, eval_period_end, get_portfolio(top_returns.keys()))\n",
    "    print(\"backtest 1Q\", period_end, eval_period_end, r)\n",
    "    ByAdjClose.append(r.ByAdjClose)\n",
    "    ByAddBackClose.append(r.ByAddBackClose)\n",
    "    print(\"\")\n",
    "\n",
    "    # roll to next quarter\n",
    "    period_start = util.get_next(period_start, 3)"
   ]
  },
  {
   "cell_type": "code",
   "execution_count": 86,
   "metadata": {},
   "outputs": [
    {
     "data": {
      "text/plain": [
       "3.07166240833986"
      ]
     },
     "execution_count": 86,
     "metadata": {},
     "output_type": "execute_result"
    }
   ],
   "source": [
    "df = pd.DataFrame(ByAddBackClose, columns=['ByAddBackClose'])\n",
    "returns = df['ByAddBackClose'] + 1\n",
    "returns.product()"
   ]
  },
  {
   "cell_type": "code",
   "execution_count": 85,
   "metadata": {},
   "outputs": [
    {
     "data": {
      "text/plain": [
       "6.466738845153519"
      ]
     },
     "execution_count": 85,
     "metadata": {},
     "output_type": "execute_result"
    }
   ],
   "source": [
    "df = pd.DataFrame(ByAdjClose, columns=['ByAdjClose'])\n",
    "returns = df['ByAdjClose'].dropna() + 1\n",
    "returns.product()"
   ]
  },
  {
   "cell_type": "markdown",
   "metadata": {},
   "source": [
    "# Rolling Test using Adj Close Return"
   ]
  },
  {
   "cell_type": "code",
   "execution_count": 21,
   "metadata": {},
   "outputs": [
    {
     "name": "stdout",
     "output_type": "stream",
     "text": [
      "Evaluate 1Y since:  2000-01-01 dict_keys(['L02', '5AB', 'J36', 'H78', 'CTO', 'BTJ', 'LJ3', 'BDA', 'H02', 'KUH'])\n",
      "backtest 1Q 2001-01-01 2001-04-01 ByAdjClose: -0.153297 ByAddBackClose: -0.152858\n",
      "\n",
      "Evaluate 1Y since:  2000-04-01 dict_keys(['L02', 'LJ3', 'J36', 'H78', 'H02', 'C52', 'U14', '5AB', 'S63', 'S20'])\n",
      "backtest 1Q 2001-04-01 2001-07-01 ByAdjClose:  0.046727 ByAddBackClose:  0.044415\n",
      "\n",
      "Evaluate 1Y since:  2000-07-01 dict_keys(['600', 'AZR', 'L02', 'LJ3', 'G07', 'H02', 'F13', 'CTO', 'WPC', 'J36'])\n",
      "backtest 1Q 2001-07-01 2001-10-01 ByAdjClose: -0.205341 ByAddBackClose: -0.211244\n",
      "\n",
      "Evaluate 1Y since:  2000-10-01 dict_keys(['AZR', '600', 'D01', 'G07', 'LJ3', 'S20', 'H02', 'F13', 'BAZ', 'M01'])\n",
      "backtest 1Q 2001-10-01 2002-01-01 ByAdjClose:  0.218573 ByAddBackClose:  0.218573\n",
      "\n",
      "Evaluate 1Y since:  2001-01-01 dict_keys(['AZR', '600', 'G13', 'F13', 'D01', 'G07', 'BAZ', 'T15', 'G92', 'S41'])\n",
      "backtest 1Q 2002-01-01 2002-04-01 ByAdjClose:  0.081422 ByAddBackClose:  0.081422\n",
      "\n",
      "Evaluate 1Y since:  2001-04-01 dict_keys(['600', 'AZR', 'F03', '578', '558', 'F13', 'G13', '554', '504', 'AWC'])\n",
      "backtest 1Q 2002-04-01 2002-07-01 ByAdjClose: -0.066475 ByAddBackClose: -0.071299\n",
      "\n",
      "Evaluate 1Y since:  2001-07-01 dict_keys(['F03', '596', '578', 'H22', 'F10', '558', 'S59', 'AZR', 'Q01', '1H2'])\n",
      "backtest 1Q 2002-07-01 2002-10-01 ByAdjClose: -0.249864 ByAddBackClose: -0.250252\n",
      "\n",
      "Evaluate 1Y since:  2001-10-01 dict_keys(['F03', 'T14', '558', 'N02', 'H22', '596', '578', 'S59', '580', 'F10'])\n",
      "backtest 1Q 2002-10-01 2003-01-01 ByAdjClose:  0.054434 ByAddBackClose:  0.054612\n",
      "\n",
      "Evaluate 1Y since:  2002-01-01 dict_keys(['T14', 'F03', 'N02', '596', '558', '580', '5AI', 'H22', 'D01', '578'])\n",
      "backtest 1Q 2003-01-01 2003-04-01 ByAdjClose:  0.100923 ByAddBackClose:  0.102001\n",
      "\n",
      "Evaluate 1Y since:  2002-04-01 dict_keys(['T14', 'N02', 'H22', 'D01', 'V3M', 'M01', '580', 'A05', 'D03', 'BDU'])\n",
      "backtest 1Q 2003-04-01 2003-07-01 ByAdjClose:  0.235920 ByAddBackClose:  0.233897\n",
      "\n",
      "Evaluate 1Y since:  2002-07-01 dict_keys(['5NV', 'T14', 'BTE', 'A26', 'BDU', 'N02', 'A05', '5CP', 'V3M', 'M01'])\n",
      "backtest 1Q 2003-07-01 2003-10-01 ByAdjClose:  0.327488 ByAddBackClose:  0.181205\n",
      "\n",
      "Evaluate 1Y since:  2002-10-01 dict_keys(['M14', 'BTE', 'A26', 'T14', 'MT1', 'S56', 'BQM', 'G0I', '575', '5AU'])\n",
      "backtest 1Q 2003-10-01 2004-01-01 ByAdjClose:  0.039897 ByAddBackClose:  0.039854\n",
      "\n",
      "Evaluate 1Y since:  2003-01-01 dict_keys(['BQM', '566', 'T14', 'M14', 'A26', 'BTE', 'BIP', '575', 'S56', 'G0I'])\n",
      "backtest 1Q 2004-01-01 2004-04-01 ByAdjClose:  0.052316 ByAddBackClose:  0.052394\n",
      "\n",
      "Evaluate 1Y since:  2003-04-01 dict_keys(['566', 'G92', '575', 'BTE', 'A26', 'A50', 'BQM', 'M14', 'BIP', 'T14'])\n",
      "backtest 1Q 2004-04-01 2004-07-01 ByAdjClose: -0.179136 ByAddBackClose: -0.179075\n",
      "\n",
      "Evaluate 1Y since:  2003-07-01 dict_keys(['G92', '575', 'BQM', 'T14', 'A50', '566', 'J03', 'B69', 'MT1', 'D01'])\n",
      "backtest 1Q 2004-07-01 2004-10-01 ByAdjClose:  0.225227 ByAddBackClose:  0.097899\n",
      "\n",
      "Evaluate 1Y since:  2003-10-01 dict_keys(['L02', 'T14', 'G92', 'B69', 'J36', 'D01', 'C09', 'C52', 'J03', 'F13'])\n",
      "backtest 1Q 2004-10-01 2005-01-01 ByAdjClose: -0.038320 ByAddBackClose: -0.038361\n",
      "\n",
      "Evaluate 1Y since:  2004-01-01 dict_keys(['L23', 'L02', 'B69', 'T14', 'C52', 'Y3D', '600', 'C07', 'BTG', 'A26'])\n",
      "backtest 1Q 2005-01-01 2005-04-01 ByAdjClose: -0.091673 ByAddBackClose: -0.091540\n",
      "\n",
      "Evaluate 1Y since:  2004-04-01 dict_keys(['L23', 'V3M', 'T14', '578', '600', 'L02', 'C07', 'PRH', 'S61', 'J36'])\n",
      "backtest 1Q 2005-04-01 2005-07-01 ByAdjClose:  0.349884 ByAddBackClose:  0.153345\n",
      "\n",
      "Evaluate 1Y since:  2004-07-01 dict_keys(['L23', '600', '578', 'C07', 'V3M', 'U96', 'CC3', 'S19', 'H78', 'F86'])\n",
      "backtest 1Q 2005-07-01 2005-10-01 ByAdjClose:  0.116707 ByAddBackClose:  0.116647\n",
      "\n",
      "Evaluate 1Y since:  2004-10-01 dict_keys(['L23', 'H78', '578', 'M04', 'CC3', 'H13', 'U96', 'D01', '600', 'U77'])\n",
      "backtest 1Q 2005-10-01 2006-01-01 ByAdjClose: -0.013432 ByAddBackClose: -0.013696\n",
      "\n",
      "Evaluate 1Y since:  2005-01-01 dict_keys(['U77', '578', 'D01', 'H78', 'H13', 'CC3', 'M04', 'A78', 'VC2', 'M01'])\n",
      "backtest 1Q 2006-01-01 2006-04-01 ByAdjClose:  0.230912 ByAddBackClose:  0.230938\n",
      "\n",
      "Evaluate 1Y since:  2005-04-01 dict_keys(['U77', 'F1E', 'H13', 'BHK', 'AZA', '5DN', 'BAI', 'BDU', 'H78', '5EN'])\n",
      "backtest 1Q 2006-04-01 2006-07-01 ByAdjClose: -0.081665 ByAddBackClose: -0.080902\n",
      "\n",
      "Evaluate 1Y since:  2005-07-01 dict_keys(['5IG', 'BQC', 'BHK', 'U77', '5EN', 'BAI', 'H78', 'H13', 'BDU', 'B61'])\n",
      "backtest 1Q 2006-07-01 2006-10-01 ByAdjClose:  0.120934 ByAddBackClose:  0.119951\n",
      "\n",
      "Evaluate 1Y since:  2005-10-01 dict_keys(['5IG', 'BQC', '5EN', 'BTE', '532', 'BHK', '5I4', 'B61', 'S68', 'F9D'])\n",
      "backtest 1Q 2006-10-01 2007-01-01 ByAdjClose: -0.013945 ByAddBackClose: -0.011156\n",
      "\n",
      "Evaluate 1Y since:  2006-01-01 dict_keys(['5IG', '5CP', 'BRD', '5EN', '5I4', 'BQC', 'Z25', 'G13', 'F34', 'S68'])\n",
      "backtest 1Q 2007-01-01 2007-04-01 ByAdjClose: -0.060507 ByAddBackClose: -0.060532\n",
      "\n",
      "Evaluate 1Y since:  2006-04-01 dict_keys(['AXB', '5IG', 'KJ5', 'C06', 'OU8', 'BEZ', 'PRH', 'CTO', '5EN', '5GD'])\n",
      "backtest 1Q 2007-04-01 2007-07-01 ByAdjClose:  0.481509 ByAddBackClose:  0.479692\n",
      "\n",
      "Evaluate 1Y since:  2006-07-01 dict_keys(['AXB', 'BTP', '5AL', 'AVX', '1C0', '566', 'BEZ', 'CTO', 'OU8', '5GJ'])\n",
      "backtest 1Q 2007-07-01 2007-10-01 ByAdjClose:  0.102975 ByAddBackClose:  0.102975\n",
      "\n",
      "Evaluate 1Y since:  2006-10-01 dict_keys(['1C0', 'BTP', '5CF', 'AXB', '5RA', '566', 'OU8', 'RDR', 'CTO', '5GJ'])\n",
      "backtest 1Q 2007-10-01 2008-01-01 ByAdjClose: -0.225904 ByAddBackClose: -0.225880\n",
      "\n",
      "Evaluate 1Y since:  2007-01-01 dict_keys(['1C0', 'BTP', '5CF', 'Q0X', '595', '5GJ', 'BQM', 'OU8', 'BEZ', 'F17'])\n",
      "backtest 1Q 2008-01-01 2008-04-01 ByAdjClose: -0.280465 ByAddBackClose: -0.280465\n",
      "\n",
      "Evaluate 1Y since:  2007-04-01 dict_keys(['1C0', 'S07', 'LYY', '5JS', '5NV', '5CF', 'BTP', 'Q0X', 'CIN', '595'])\n",
      "backtest 1Q 2008-04-01 2008-07-01 ByAdjClose: -0.103964 ByAddBackClose: -0.101769\n",
      "\n",
      "Evaluate 1Y since:  2007-07-01 dict_keys(['R14', '5JS', 'F34', '579', 'E5H', 'S20', 'J36', 'S51', 'F9D', 'i07'])\n",
      "backtest 1Q 2008-07-01 2008-10-01 ByAdjClose: -0.393984 ByAddBackClose: -0.391942\n",
      "\n",
      "Evaluate 1Y since:  2007-10-01 dict_keys(['LUY', 'i07', 'D01', '579', 'J36', 'E3B', 'CC3', 'R14', 'C07', 'A7RU'])\n",
      "backtest 1Q 2008-10-01 2009-01-01 ByAdjClose: -0.247088 ByAddBackClose: -0.246942\n",
      "\n",
      "Evaluate 1Y since:  2008-01-01 dict_keys(['LUY', 'D01', 'GU5', 'i07', 'D03', 'S20', 'R14', 'C52', 'BKV', 'BRD'])\n",
      "backtest 1Q 2009-01-01 2009-04-01 ByAdjClose: -0.171368 ByAddBackClose: -0.171500\n",
      "\n",
      "Evaluate 1Y since:  2008-04-01 dict_keys(['LUY', '5LY', 'D01', 'O87', 'GU5', 'G13', 'P74', 'A7RU', 'LJ3', 'L02'])\n",
      "backtest 1Q 2009-04-01 2009-07-01 ByAdjClose:  0.163294 ByAddBackClose:  0.163333\n",
      "\n",
      "Evaluate 1Y since:  2008-07-01 dict_keys(['BHU', 'A78', 'G3B', 'D01', 'E3B', 'Z25', 'ER0', 'C07', 'G13', 'C8R'])\n",
      "backtest 1Q 2009-07-01 2009-10-01 ByAdjClose:  0.318850 ByAddBackClose:  0.319236\n",
      "\n",
      "Evaluate 1Y since:  2008-10-01 dict_keys(['5CF', 'A78', '5CT', '546', 'B9S', 'BQM', 'BAI', 'BHU', 'P36', 'BTP'])\n",
      "backtest 1Q 2009-10-01 2010-01-01 ByAdjClose:  0.056107 ByAddBackClose:  0.056183\n",
      "\n",
      "Evaluate 1Y since:  2009-01-01 dict_keys(['H20', '546', 'H22', 'T14', 'H13', '5OU', 'A78', 'BHU', 'B69', '5JS'])\n",
      "backtest 1Q 2010-01-01 2010-04-01 ByAdjClose:  0.025952 ByAddBackClose:  0.025952\n",
      "\n",
      "Evaluate 1Y since:  2009-04-01 dict_keys(['H22', '5JK', 'B69', 'U77', 'P36', 'H20', 'H13', 'BHD', 'A78', 'AZG'])\n",
      "backtest 1Q 2010-04-01 2010-07-01 ByAdjClose: -0.118293 ByAddBackClose: -0.117578\n",
      "\n",
      "Evaluate 1Y since:  2009-07-01 dict_keys(['H20', 'B69', 'U77', 'M14', 'BTP', 'BKV', '1H2', 'T55', 'T14', '558'])\n",
      "backtest 1Q 2010-07-01 2010-10-01 ByAdjClose:  0.036713 ByAddBackClose:  0.036023\n",
      "\n",
      "Evaluate 1Y since:  2009-10-01 dict_keys(['1H2', '5NV', '558', 'S69', '5AB', 'B69', 'BN2', 'G20', 'WPC', 'BAZ'])\n",
      "backtest 1Q 2010-10-01 2011-01-01 ByAdjClose: -0.047549 ByAddBackClose: -0.047827\n",
      "\n",
      "Evaluate 1Y since:  2010-01-01 dict_keys(['B49', '558', 'N0Z', 'BN2', 'S69', '5NV', '5AB', 'BQD', 'WPC', 'KUH'])\n",
      "backtest 1Q 2011-01-01 2011-04-01 ByAdjClose: -0.048996 ByAddBackClose: -0.048281\n",
      "\n",
      "Evaluate 1Y since:  2010-04-01 dict_keys(['B49', 'AFC', 'T4B', '558', 'G13', 'LYY', 'BN2', 'T55', 'A78', 'EG0'])\n",
      "backtest 1Q 2011-04-01 2011-07-01 ByAdjClose: -0.018174 ByAddBackClose: -0.025187\n",
      "\n",
      "Evaluate 1Y since:  2010-07-01 dict_keys(['Y92', 'AFC', '5SR', 'E6R', 'B49', '583', 'L02', 'TVV', 'BN2', 'T55'])\n",
      "backtest 1Q 2011-07-01 2011-10-01 ByAdjClose:  0.064225 ByAddBackClose:  -0.028489\n",
      "\n",
      "Evaluate 1Y since:  2010-10-01 dict_keys(['Y92', '5SR', 'AFC', 'A78', 'TVV', 'B49', 'A30', '583', 'BN2', 'E6R'])\n",
      "backtest 1Q 2011-10-01 2012-01-01 ByAdjClose: -0.074978 ByAddBackClose: -0.073054\n",
      "\n",
      "Evaluate 1Y since:  2011-01-01 dict_keys(['Y92', '5SR', 'TVV', 'A30', '583', 'BN2', '5F7', 'QC7', 'E6R', 'T55'])\n",
      "backtest 1Q 2012-01-01 2012-04-01 ByAdjClose:  0.252104 ByAddBackClose:  0.248390\n",
      "\n",
      "Evaluate 1Y since:  2011-04-01 dict_keys(['Y92', 'Z59', 'TVV', 'A30', 'Y3D', '5SR', '5GI', 'U77', '583', 'A31'])\n",
      "backtest 1Q 2012-04-01 2012-07-01 ByAdjClose:  0.238476 ByAddBackClose:  0.091991\n",
      "\n",
      "Evaluate 1Y since:  2011-07-01 dict_keys(['Y92', 'BDX', 'Z59', 'T09', '5GI', 'i06', 'U09', 'AWX', 'A30', 'Y3D'])\n",
      "backtest 1Q 2012-07-01 2012-10-01 ByAdjClose:  0.374477 ByAddBackClose:  0.330773\n",
      "\n",
      "Evaluate 1Y since:  2011-10-01 dict_keys(['BDX', 'Z59', 'Y92', 'T09', '5GI', 'A33', 'U09', 'Y3D', 'i06', '505'])\n",
      "backtest 1Q 2012-10-01 2013-01-01 ByAdjClose:  0.281745 ByAddBackClose:  0.282436\n",
      "\n",
      "Evaluate 1Y since:  2012-01-01 dict_keys(['5QT', 'BDX', 'T09', 'A33', 'Y92', 'QZG', '5GI', 'A50', '505', 'U09'])\n",
      "backtest 1Q 2013-01-01 2013-04-01 ByAdjClose:  0.403939 ByAddBackClose:  0.404556\n",
      "\n",
      "Evaluate 1Y since:  2012-04-01 dict_keys(['A33', 'QZG', '5QT', 'Y92', 'BDX', 'i07', 'WVJ', 'Y35', 'A50', '5BI'])\n",
      "backtest 1Q 2013-04-01 2013-07-01 ByAdjClose:  0.219460 ByAddBackClose:  0.174934\n",
      "\n",
      "Evaluate 1Y since:  2012-07-01 dict_keys(['A33', 'i07', '5QT', 'QZG', 'Y92', 'A50', '5BI', 'M15', '5PO', 'T4B'])\n",
      "backtest 1Q 2013-07-01 2013-10-01 ByAdjClose:  0.220832 ByAddBackClose:  0.209001\n",
      "\n",
      "Evaluate 1Y since:  2012-10-01 dict_keys(['A33', '5QT', '9QX', 'i07', 'AOF', '5OU', '1B6', 'A50', 'QZG', 'O08'])\n",
      "backtest 1Q 2013-10-01 2014-01-01 ByAdjClose: -0.200394 ByAddBackClose: -0.200394\n",
      "\n",
      "Evaluate 1Y since:  2013-01-01 dict_keys(['i07', '5OU', 'WPC', '1B6', 'Y92', '9QX', 'BTJ', 'AOF', 'BCD', '504'])\n",
      "backtest 1Q 2014-01-01 2014-04-01 ByAdjClose: -0.140017 ByAddBackClose: -0.141296\n",
      "\n",
      "Evaluate 1Y since:  2013-04-01 dict_keys(['5OU', 'Y45', 'U9E', 'BTJ', 'Y92', 'OU8', 'WPC', 'RCU', 'BN2', 'O08'])\n",
      "backtest 1Q 2014-04-01 2014-07-01 ByAdjClose:  0.018254 ByAddBackClose:  -0.038271\n",
      "\n",
      "Evaluate 1Y since:  2013-07-01 dict_keys(['41F', 'BN2', 'RCU', 'Y45', 'QS9', 'Y92', 'WPC', 'BTM', 'O08', 'L02'])\n",
      "backtest 1Q 2014-07-01 2014-10-01 ByAdjClose:  0.021792 ByAddBackClose:  0.012765\n",
      "\n",
      "Evaluate 1Y since:  2013-10-01 dict_keys(['41F', 'Y92', 'RCU', 'QES', 'QS9', 'S85', 'BTM', '5UN', 'U77', 'L38'])\n",
      "backtest 1Q 2014-10-01 2015-01-01 ByAdjClose: -0.034370 ByAddBackClose: -0.034516\n",
      "\n",
      "Evaluate 1Y since:  2014-01-01 dict_keys(['41F', 'RCU', 'Y92', '5OC', '5UN', '42N', 'BEZ', 'L38', 'QS9', 'QES'])\n",
      "backtest 1Q 2015-01-01 2015-04-01 ByAdjClose:  0.013933 ByAddBackClose:  0.013879\n",
      "\n",
      "Evaluate 1Y since:  2014-04-01 dict_keys(['5OC', '42N', 'Y92', 'TVV', 'RCU', 'L38', '5HH', 'JK8', 'J2T', 'QES'])\n",
      "backtest 1Q 2015-04-01 2015-07-01 ByAdjClose:  0.196606 ByAddBackClose:  0.114022\n",
      "\n",
      "Evaluate 1Y since:  2014-07-01 dict_keys(['42N', 'Y92', '5OC', '5AB', '1B0', 'JK8', 'RCU', 'AP4', 'D8DU', 'BTF'])\n",
      "backtest 1Q 2015-07-01 2015-10-01 ByAdjClose: -0.174325 ByAddBackClose: -0.178078\n",
      "\n",
      "Evaluate 1Y since:  2014-10-01 dict_keys(['Y35', '42N', 'Y92', '1B0', 'BQC', '5OC', 'QC7', 'AP4', 'P15', 'D8DU'])\n",
      "backtest 1Q 2015-10-01 2016-01-01 ByAdjClose:  0.087260 ByAddBackClose:  0.087211\n",
      "\n",
      "Evaluate 1Y since:  2015-01-01 dict_keys(['Y35', 'BTF', '1B0', 'Y92', '42N', 'AP4', '5GD', '5OC', '8K7', '8A1'])\n",
      "backtest 1Q 2016-01-01 2016-04-01 ByAdjClose: -0.132301 ByAddBackClose: -0.132304\n",
      "\n",
      "Evaluate 1Y since:  2015-04-01 dict_keys(['Y35', '1B0', '5GD', '8A1', 'Y92', 'BTF', 'T4B', 'CGN', 'AP4', 'F13'])\n",
      "backtest 1Q 2016-04-01 2016-07-01 ByAdjClose:  0.344264 ByAddBackClose:  0.190357\n",
      "\n",
      "Evaluate 1Y since:  2015-07-01 dict_keys(['Y35', 'CGN', 'Y92', '8A1', '43F', '1B0', '5GD', 'UD2', 'T4B', '5TP'])\n",
      "backtest 1Q 2016-07-01 2016-10-01 ByAdjClose:  0.096871 ByAddBackClose:  0.092552\n",
      "\n",
      "Evaluate 1Y since:  2015-10-01 dict_keys(['CGN', 'Y92', '5TP', '43F', 'UD2', '1B0', '40E', 'G92', '5GD', '42R'])\n",
      "backtest 1Q 2016-10-01 2017-01-01 ByAdjClose:  0.053794 ByAddBackClose:  0.053767\n",
      "\n",
      "Evaluate 1Y since:  2016-01-01 dict_keys(['CGN', 'Y92', '5TP', '1B0', '43F', 'G92', 'F03', 'BDX', 'UD2', '5GD'])\n",
      "backtest 1Q 2017-01-01 2017-04-01 ByAdjClose:  0.266968 ByAddBackClose:  0.220686\n",
      "\n",
      "Evaluate 1Y since:  2016-04-01 dict_keys(['Y92', 'CGN', '532', '5RF', 'J03', 'AWX', 'PH0', '40F', '41H', 'FQ7'])\n",
      "backtest 1Q 2017-04-01 2017-07-01 ByAdjClose: -0.062136 ByAddBackClose: -0.069466\n",
      "\n",
      "Evaluate 1Y since:  2016-07-01 dict_keys(['AWX', '5RF', 'J03', '40F', 'FQ7', '41H', '5NV', '41F', 'Y92', 'CGN'])\n",
      "backtest 1Q 2017-07-01 2017-10-01 ByAdjClose: -0.034952 ByAddBackClose: -0.035064\n",
      "\n",
      "Evaluate 1Y since:  2016-10-01 dict_keys(['AWX', 'FQ7', '5RF', '41H', 'J03', '5NV', '575', 'M03', 'C8R', '5GZ'])\n",
      "backtest 1Q 2017-10-01 2018-01-01 ByAdjClose:  0.008469 ByAddBackClose:  0.008103\n",
      "\n",
      "Evaluate 1Y since:  2017-01-01 dict_keys(['C8R', 'AWX', '40F', 'J03', 'BEC', 'MT1', 'S71', 'Y92', '5WA', '5DD'])\n",
      "backtest 1Q 2018-01-01 2018-04-01 ByAdjClose:  0.095006 ByAddBackClose:  0.054451\n",
      "\n",
      "Evaluate 1Y since:  2017-04-01 dict_keys(['C76', 'AWX', 'C8R', 'V03', '1J4', 'BEC', '1F1', 'Y92', '5DD', '1H3'])\n",
      "backtest 1Q 2018-04-01 2018-07-01 ByAdjClose: -0.189363 ByAddBackClose: -0.191095\n",
      "\n",
      "Evaluate 1Y since:  2017-07-01 dict_keys(['C76', 'C8R', 'AWX', 'QES', 'Y92', '1F1', '1J4', '575', 'BEC', '5DD'])\n",
      "backtest 1Q 2018-07-01 2018-10-01 ByAdjClose: -0.072174 ByAddBackClose: -0.072129\n",
      "\n",
      "Evaluate 1Y since:  2017-10-01 dict_keys(['C76', 'BEW', '5WH', 'Y92', '1J4', 'M11', 'BEC', '544', 'M14', 'F83'])\n",
      "backtest 1Q 2018-10-01 2019-01-01 ByAdjClose: -0.203104 ByAddBackClose: -0.203104\n",
      "\n",
      "Evaluate 1Y since:  2018-01-01 dict_keys(['C76', 'CGN', '5EN', 'Y92', 'UD2', 'QES', 'BEW', 'AIY', 'CTO', 'OV8'])\n",
      "backtest 1Q 2019-01-01 2019-04-01 ByAdjClose:  0.328128 ByAddBackClose:  0.157353\n",
      "\n",
      "Evaluate 1Y since:  2018-04-01 dict_keys(['Y92', 'S61', '5WH', 'UD2', '544', 'CTO', 'BS6', 'C52', 'AIY', 'N2IU'])\n",
      "backtest 1Q 2019-04-01 2019-07-01 ByAdjClose: -0.001001 ByAddBackClose: -0.006027\n",
      "\n",
      "Evaluate 1Y since:  2018-07-01 dict_keys(['Y92', 'BS6', 'S61', '5WH', 'M14', 'E28', 'CY6U', 'N2IU', 'C38U', 'M44U'])\n",
      "backtest 1Q 2019-07-01 2019-10-01 ByAdjClose: -0.015241 ByAddBackClose: -0.015431\n",
      "\n",
      "Evaluate 1Y since:  2018-10-01 dict_keys(['Y92', 'BTM', 'QS9', '5JS', 'S61', 'E28', 'CY6U', 'AJBU', 'N2IU', 'AWX'])\n",
      "backtest 1Q 2019-10-01 2020-01-01 ByAdjClose:  0.148459 ByAddBackClose:  0.148511\n",
      "\n",
      "Evaluate 1Y since:  2019-01-01 dict_keys(['Y92', 'QS9', '5WH', '5GI', 'AWX', 'BTM', 'E28', 'Z4D', '5GD', '558'])\n",
      "backtest 1Q 2020-01-01 2020-04-01 ByAdjClose: -0.465977 ByAddBackClose: -0.465581\n",
      "\n",
      "Evaluate 1Y since:  2019-04-01 dict_keys(['584', '5AI', '546', '5WV', 'QS9', 'AJBU', 'BVA', 'AWX', '5JS', 'V2Y'])\n",
      "backtest 1Q 2020-04-01 2020-07-01 ByAdjClose:  0.974988 ByAddBackClose:  0.974640\n",
      "\n",
      "Evaluate 1Y since:  2019-07-01 dict_keys(['NC2', 'Y35', '546', '8K7', '584', '40V', '5AI', 'BVA', 'AAJ', 'AWX'])\n",
      "backtest 1Q 2020-07-01 2020-10-01 ByAdjClose:  0.169549 ByAddBackClose:  0.170034\n",
      "\n",
      "Evaluate 1Y since:  2019-10-01 dict_keys(['546', 'NC2', '8K7', 'Y35', '584', 'BVA', '569', 'C8R', 'AP4', 'AWX'])\n",
      "backtest 1Q 2020-10-01 2021-01-01 ByAdjClose: -0.004917 ByAddBackClose: -0.033894\n",
      "\n",
      "Evaluate 1Y since:  2020-01-01 dict_keys(['NC2', '546', '8K7', '42F', '579', 'Y35', 'LS9', '5EF', 'BVA', 'C8R'])\n",
      "backtest 1Q 2021-01-01 2021-04-01 ByAdjClose:  0.199473 ByAddBackClose:  0.199157\n",
      "\n",
      "Evaluate 1Y since:  2020-04-01 dict_keys(['NC2', '579', '42F', '1D3', '546', 'E27', 'V2Y', 'C8R', '8K7', 'L23'])\n",
      "backtest 1Q 2021-04-01 2021-07-01 ByAdjClose:  1.302266 ByAddBackClose:  0.184864\n",
      "\n",
      "Evaluate 1Y since:  2020-07-01 dict_keys(['NC2', '42F', '5EB', 'E27', 'AZT', 'AIY', 'C8R', '579', '43E', 'A78'])\n",
      "backtest 1Q 2021-07-01 2021-10-01 ByAdjClose:  0.099062 ByAddBackClose:  -0.063139\n",
      "\n",
      "Evaluate 1Y since:  2020-10-01 dict_keys(['NC2', 'E27', 'T13', '5EB', 'EB7', '579', 'YYR', 'JLB', 'Y45', 'AIY'])\n",
      "backtest 1Q 2021-10-01 2022-01-01 ByAdjClose:  5.658537 ByAddBackClose:  -0.035860\n",
      "\n",
      "Evaluate 1Y since:  2021-01-01 dict_keys(['NC2', 'T13', '5HH', 'EB7', 'YYR', 'V3M', 'Y45', 'JLB', '5CT', '5EB'])\n",
      "backtest 1Q 2022-01-01 2022-04-01 ByAdjClose: -0.019299 ByAddBackClose: -0.019299\n",
      "\n",
      "Evaluate 1Y since:  2021-04-01 dict_keys(['NC2', 'T13', 'Y45', '5HH', '5EB', '532', 'RE4', 'S56', 'AGS', '5G2'])\n",
      "backtest 1Q 2022-04-01 2022-07-01 ByAdjClose: -0.169168 ByAddBackClose: -0.169168\n",
      "\n",
      "Evaluate 1Y since:  2021-07-01 dict_keys(['5HH', 'O9E', '5FW', '5G9', 'NO4', 'V3M', 'Y92', 'S56', 'RE4', 'S3N'])\n",
      "backtest 1Q 2022-07-01 2022-10-01 ByAdjClose: -0.157739 ByAddBackClose: -0.157739\n",
      "\n",
      "Evaluate 1Y since:  2021-10-01 dict_keys(['O9E', '532', '5FW', 'N32', '5WV', 'Y92', 'NO4', 'C07', 'U96', '5G9'])\n",
      "backtest 1Q 2022-10-01 2023-01-01 ByAdjClose:  0.049591 ByAddBackClose:  0.049591\n",
      "\n",
      "Evaluate 1Y since:  2022-01-01 dict_keys(['O9E', '5FW', 'Y92', 'NO4', 'N32', 'BS6', '5VJ', 'S51', 'U96', '5WV'])\n",
      "backtest 1Q 2023-01-01 2023-04-01 ByAdjClose:  0.011188 ByAddBackClose:  0.011188\n",
      "\n",
      "Evaluate 1Y since:  2022-04-01 dict_keys(['O9E', '5FW', 'N32', 'NO4', 'F03', '5AE', 'CGN', '5VJ', 'U96', 'BS6'])\n",
      "backtest 1Q 2023-04-01 2023-07-01 ByAdjClose:  0.031844 ByAddBackClose:  0.030768\n",
      "\n",
      "Evaluate 1Y since:  2022-07-01 dict_keys(['O9E', 'U96', 'F03', '5VJ', 'T14', '5LY', 'NO4', 'P34', 'BN4', 'BS6'])\n",
      "backtest 1Q 2023-07-01 2023-10-01 ByAdjClose: -0.006342 ByAddBackClose: -0.006248\n",
      "\n",
      "Evaluate 1Y since:  2022-10-01 dict_keys(['Q0X', 'NO4', 'F03', 'T14', 'NHD', '5PO', 'ENV', '5VJ', 'BQD', 'P34'])\n",
      "backtest 1Q 2023-10-01 2024-01-01 ByAdjClose: -0.033192 ByAddBackClose: -0.033192\n",
      "\n",
      "Evaluate 1Y since:  2023-01-01 dict_keys(['Q0X', 'T14', 'A34', 'NO4', 'F03', 'BQD', 'BN4', 'Y45', 'U96', 'P34'])\n",
      "backtest 1Q 2024-01-01 2024-04-01 ByAdjClose: -0.024978 ByAddBackClose: -0.024978\n",
      "\n"
     ]
    }
   ],
   "source": [
    "period_start = util.YearMonth(2000, 1)\n",
    "period_last = util.YearMonth(2023, 1)\n",
    "\n",
    "ByAddBackClose = []\n",
    "ByAdjClose = []\n",
    "\n",
    "while period_start <= period_last:\n",
    "    returns = dict()\n",
    "    for stock in all_stocks:\n",
    "        period_end = util.get_next(period_start, 12)\n",
    "        adtv = stock.get_adtv(period_start, period_end)\n",
    "\n",
    "        if adtv > 100000:\n",
    "            r = stocks.get_return(period_start, period_end, stock, False)\n",
    "            if not np.isnan(r.ByAdjClose):\n",
    "                returns[stock.ticker] = r.ByAdjClose\n",
    "\n",
    "    # sort to find top 10 return stocks using Adj Close\n",
    "    returns2 = sorted(returns.items(), key=lambda x: x[1], reverse=True)[:10]\n",
    "    top_returns = {k[0]: returns[k[0]] for k in returns2}\n",
    "\n",
    "    print(\"Evaluate 1Y since: \", period_start, top_returns.keys())\n",
    "    eval_period_end = util.get_next(period_end, 3)\n",
    "    if len(top_returns) == 10:\n",
    "        r = stocks.get_portfolio_return(period_end, eval_period_end, get_portfolio(top_returns.keys()))\n",
    "        print(\"backtest 1Q\", period_end, eval_period_end, r)\n",
    "        ByAdjClose.append(r.ByAdjClose)\n",
    "        ByAddBackClose.append(r.ByAddBackClose)\n",
    "    print(\"\")\n",
    "\n",
    "    # roll to next quarter\n",
    "    period_start = util.get_next(period_start, 3)"
   ]
  },
  {
   "cell_type": "code",
   "execution_count": 22,
   "metadata": {},
   "outputs": [
    {
     "data": {
      "text/plain": [
       "1.8382072607663853"
      ]
     },
     "execution_count": 22,
     "metadata": {},
     "output_type": "execute_result"
    }
   ],
   "source": [
    "df = pd.DataFrame(ByAddBackClose, columns=['ByAddBackClose'])\n",
    "returns = df['ByAddBackClose'] + 1\n",
    "returns.product()"
   ]
  },
  {
   "cell_type": "code",
   "execution_count": 23,
   "metadata": {},
   "outputs": [
    {
     "data": {
      "text/plain": [
       "98.17057979089792"
      ]
     },
     "execution_count": 23,
     "metadata": {},
     "output_type": "execute_result"
    }
   ],
   "source": [
    "df = pd.DataFrame(ByAdjClose, columns=['ByAdjClose'])\n",
    "returns = df['ByAdjClose'].dropna() + 1\n",
    "returns.product()"
   ]
  },
  {
   "cell_type": "markdown",
   "metadata": {},
   "source": [
    "# Manual portfolio"
   ]
  },
  {
   "cell_type": "code",
   "execution_count": 20,
   "metadata": {},
   "outputs": [
    {
     "name": "stdout",
     "output_type": "stream",
     "text": [
      "2008-01-01 2008-04-01 ByAdjClose: -0.144110 ByAddBackClose: -0.144110\n",
      "2008-04-01 2008-07-01 ByAdjClose: -0.018033 ByAddBackClose: -0.018033\n",
      "2008-07-01 2008-10-01 ByAdjClose: -0.194631 ByAddBackClose: -0.194631\n",
      "2008-10-01 2009-01-01 ByAdjClose: -0.244813 ByAddBackClose: -0.244813\n",
      "2009-01-01 2009-04-01 ByAdjClose: -0.085106 ByAddBackClose: -0.085106\n",
      "2009-04-01 2009-07-01 ByAdjClose:  0.377907 ByAddBackClose:  0.377907\n",
      "2009-07-01 2009-10-01 ByAdjClose:  0.142858 ByAddBackClose:  0.142857\n",
      "2009-10-01 2010-01-01 ByAdjClose:  0.096654 ByAddBackClose:  0.096654\n",
      "2010-01-01 2010-04-01 ByAdjClose: -0.010101 ByAddBackClose: -0.010101\n",
      "2010-04-01 2010-07-01 ByAdjClose: -0.023649 ByAddBackClose: -0.023649\n",
      "2010-07-01 2010-10-01 ByAdjClose:  0.097902 ByAddBackClose:  0.097902\n",
      "2010-10-01 2011-01-01 ByAdjClose:  0.031446 ByAddBackClose:  0.031447\n",
      "2011-01-01 2011-04-01 ByAdjClose: -0.054217 ByAddBackClose: -0.054217\n",
      "2011-04-01 2011-07-01 ByAdjClose:  0.006309 ByAddBackClose:  0.006309\n",
      "2011-07-01 2011-10-01 ByAdjClose: -0.152648 ByAddBackClose: -0.152648\n",
      "2011-10-01 2012-01-01 ByAdjClose:  0.022388 ByAddBackClose:  0.022388\n",
      "2012-01-01 2012-04-01 ByAdjClose:  0.089928 ByAddBackClose:  0.089928\n",
      "2012-04-01 2012-07-01 ByAdjClose: -0.029605 ByAddBackClose: -0.029605\n",
      "2012-07-01 2012-10-01 ByAdjClose:  0.050676 ByAddBackClose:  0.050676\n",
      "2012-10-01 2013-01-01 ByAdjClose:  0.038709 ByAddBackClose:  0.038710\n",
      "2013-01-01 2013-04-01 ByAdjClose:  0.021472 ByAddBackClose:  0.021472\n",
      "2013-04-01 2013-07-01 ByAdjClose: -0.038922 ByAddBackClose: -0.038922\n",
      "2013-07-01 2013-10-01 ByAdjClose:  0.026495 ByAddBackClose:  0.026646\n",
      "2013-10-01 2014-01-01 ByAdjClose: -0.012233 ByAddBackClose: -0.012232\n",
      "2014-01-01 2014-04-01 ByAdjClose:  0.004756 ByAddBackClose:  0.004037\n",
      "2014-04-01 2014-07-01 ByAdjClose:  0.031348 ByAddBackClose:  0.031348\n",
      "2014-07-01 2014-10-01 ByAdjClose:  0.019714 ByAddBackClose:  0.019817\n",
      "2014-10-01 2015-01-01 ByAdjClose:  0.030303 ByAddBackClose:  0.030303\n",
      "2015-01-01 2015-04-01 ByAdjClose:  0.020057 ByAddBackClose:  0.019941\n",
      "2015-04-01 2015-07-01 ByAdjClose: -0.026163 ByAddBackClose: -0.026163\n",
      "2015-07-01 2015-10-01 ByAdjClose: -0.141673 ByAddBackClose: -0.139763\n",
      "2015-10-01 2016-01-01 ByAdjClose:  0.035087 ByAddBackClose:  0.035088\n",
      "2016-01-01 2016-04-01 ByAdjClose:  0.005709 ByAddBackClose:  0.003793\n",
      "2016-04-01 2016-07-01 ByAdjClose:  0.017668 ByAddBackClose:  0.017668\n",
      "2016-07-01 2016-10-01 ByAdjClose:  0.021413 ByAddBackClose:  0.021453\n",
      "2016-10-01 2017-01-01 ByAdjClose:  0.006849 ByAddBackClose:  0.006849\n",
      "2017-01-01 2017-04-01 ByAdjClose:  0.096266 ByAddBackClose:  0.095608\n",
      "2017-04-01 2017-07-01 ByAdjClose:  0.021875 ByAddBackClose:  0.021875\n",
      "2017-07-01 2017-10-01 ByAdjClose:  0.008159 ByAddBackClose:  0.008563\n",
      "2017-10-01 2018-01-01 ByAdjClose:  0.045455 ByAddBackClose:  0.045455\n",
      "2018-01-01 2018-04-01 ByAdjClose:  0.000443 ByAddBackClose:  0.000862\n",
      "2018-04-01 2018-07-01 ByAdjClose: -0.031778 ByAddBackClose: -0.031778\n",
      "2018-07-01 2018-10-01 ByAdjClose:  0.017709 ByAddBackClose:  0.017879\n",
      "2018-10-01 2019-01-01 ByAdjClose: -0.053734 ByAddBackClose: -0.053734\n",
      "2019-01-01 2019-04-01 ByAdjClose:  0.049581 ByAddBackClose:  0.049406\n",
      "2019-04-01 2019-07-01 ByAdjClose:  0.041256 ByAddBackClose:  0.041256\n",
      "2019-07-01 2019-10-01 ByAdjClose: -0.061264 ByAddBackClose: -0.060641\n",
      "2019-10-01 2020-01-01 ByAdjClose:  0.028894 ByAddBackClose:  0.028894\n",
      "2020-01-01 2020-04-01 ByAdjClose: -0.235095 ByAddBackClose: -0.231397\n",
      "2020-04-01 2020-07-01 ByAdjClose:  0.079592 ByAddBackClose:  0.079592\n",
      "2020-07-01 2020-10-01 ByAdjClose: -0.063087 ByAddBackClose: -0.063087\n",
      "2020-10-01 2021-01-01 ByAdjClose:  0.153389 ByAddBackClose:  0.153389\n",
      "2021-01-01 2021-04-01 ByAdjClose:  0.097687 ByAddBackClose:  0.097687\n",
      "2021-04-01 2021-07-01 ByAdjClose: -0.003765 ByAddBackClose: -0.003765\n",
      "2021-07-01 2021-10-01 ByAdjClose: -0.015778 ByAddBackClose: -0.015778\n",
      "2021-10-01 2022-01-01 ByAdjClose:  0.030126 ByAddBackClose:  0.030126\n",
      "2022-01-01 2022-04-01 ByAdjClose:  0.074121 ByAddBackClose:  0.074121\n",
      "2022-04-01 2022-07-01 ByAdjClose: -0.069188 ByAddBackClose: -0.069188\n",
      "2022-07-01 2022-10-01 ByAdjClose:  0.004430 ByAddBackClose:  0.004430\n",
      "2022-10-01 2023-01-01 ByAdjClose:  0.049794 ByAddBackClose:  0.049794\n",
      "2023-01-01 2023-04-01 ByAdjClose: -0.011222 ByAddBackClose: -0.011222\n",
      "2023-04-01 2023-07-01 ByAdjClose: -0.001824 ByAddBackClose: -0.001824\n",
      "2023-07-01 2023-10-01 ByAdjClose: -0.003647 ByAddBackClose: -0.003647\n",
      "2023-10-01 2024-01-01 ByAdjClose:  0.012232 ByAddBackClose:  0.012232\n",
      "2024-01-01 2024-04-01 ByAdjClose: -0.037576 ByAddBackClose: -0.037576\n",
      "0.9838701319381784\n",
      "0.9892744759816728\n"
     ]
    }
   ],
   "source": [
    "dy1 = [\"M01\", \"5DD\", \"CC3\", \"i07\", \"BN4\"]\n",
    "dy2 = [\"L38\", \"E5H\", \"1D0\", \"Z74\", \"CY6U\"]\n",
    "# ww = [\"A04\", \"5VP\", \"BQD\", \"F03\", \"NO4\", \"41B\", \"A34\", \"T14\", \"Q0X\"]\n",
    "\n",
    "ww = [\"ES3\"]\n",
    "\n",
    "ByAddBackClose = []\n",
    "ByAdjClose = []\n",
    "\n",
    "\n",
    "period_start = util.YearMonth(2008, 1)\n",
    "period_last = util.YearMonth(2024, 1)\n",
    "\n",
    "portfolio = stocks.loads(ww)\n",
    "while period_start <= period_last:\n",
    "    period_end = util.get_next(period_start, 3)\n",
    "\n",
    "    # returns = stocks.get_returns(period_start, period_end, portfolio)\n",
    "    # w1 = stocks.get_weights_by_returns(returns)\n",
    "\n",
    "    r = stocks.get_portfolio_return(period_start, period_end, portfolio)\n",
    "    print(period_start, period_end, r)\n",
    "    ByAdjClose.append(r.ByAdjClose)\n",
    "    ByAddBackClose.append(r.ByAddBackClose)\n",
    "\n",
    "    # r = stocks.get_portfolio_return(period_end, backtest_period_end, portfolio, w1.ByAddBackClose)\n",
    "    # print(backtest_period_start, backtest_period_end, r)\n",
    "\n",
    "    # roll to next quarter\n",
    "    period_start = util.get_next(period_start, 3)\n",
    "\n",
    "stocks.get_overall_return(ByAdjClose, ByAddBackClose)"
   ]
  },
  {
   "cell_type": "code",
   "execution_count": 8,
   "metadata": {},
   "outputs": [
    {
     "name": "stdout",
     "output_type": "stream",
     "text": [
      "2000-01-01 :  109   0.047040682895506294\n",
      "2001-01-01 :  124   0.06357748477897936\n",
      "2002-01-01 :  114   0.05655976607323115\n",
      "2003-01-01 :  132   0.05138115624439527\n",
      "2004-01-01 :  145   0.051459969970127625\n",
      "2005-01-01 :  172   0.0724260613838125\n",
      "2006-01-01 :  202   0.061370292063319586\n",
      "2007-01-01 :  225   0.05993048506935729\n",
      "2008-01-01 :  249   0.11842908787730255\n",
      "2009-01-01 :  225   0.061051344779131975\n",
      "2010-01-01 :  253   0.06526285336138526\n",
      "2011-01-01 :  287   0.09221663132394683\n",
      "2012-01-01 :  288   0.06942911037241112\n",
      "2013-01-01 :  308   0.06373178925316576\n",
      "2014-01-01 :  320   0.09257821969571672\n",
      "2015-01-01 :  304   0.06790733199557104\n",
      "2016-01-01 :  294   0.08978533747252226\n",
      "2017-01-01 :  297   0.06304922512826906\n",
      "2018-01-01 :  321   0.07262295335139904\n",
      "2019-01-01 :  307   0.07756952077879974\n",
      "2020-01-01 :  303   0.08269244711683504\n",
      "2021-01-01 :  308   0.13286366346367773\n",
      "2022-01-01 :  197   0.10787902286600858\n",
      "2023-01-01 :  172   0.06832384807589578\n",
      "0.07454742855794864\n"
     ]
    }
   ],
   "source": [
    "# stock = stocks.load(\"D05\")\n",
    "# print(stock.get_sector())\n",
    "# df = util.to_df(info.get_all_avg_vol(), ['Ticker', 'AvergeVolume'])\n",
    "# df.AvergeVolume = df.AvergeVolume / 10000\n",
    "# df = df[df.AvergeVolume>1].sort_values(by=['AvergeVolume'])\n",
    "\n",
    "# df = util.to_df(info.get_all_mc(), ['Ticker', 'MarketCap'])\n",
    "# df.MarketCap = df.MarketCap / 1000000\n",
    "# df = df[df.MarketCap>1000].sort_values(by=['MarketCap'])\n",
    "\n",
    "# items = stocks.loads(df.Ticker.to_list())\n",
    "\n",
    "period_start = util.YearMonth(2000, 1)\n",
    "period_last = util.YearMonth(2024, 1)\n",
    "\n",
    "y_yields = []\n",
    "while period_start < period_last:\n",
    "    period_end = util.get_next(period_start, 12)\n",
    "    count = 0\n",
    "    total_yield = 0\n",
    "    for stock in all_stocks:\n",
    "        df = stock.dividend\n",
    "        dividend = df.loc[df[\"Day\"] > str(period_start)].loc[df[\"Day\"] < str(period_end)].Dividends.sum()\n",
    "        sell_index = stock.price['Day'].searchsorted(str(period_end))\n",
    "        if dividend > 0:\n",
    "            dyield = dividend / stock.price.iloc[sell_index].Close\n",
    "            count += 1\n",
    "            total_yield += dyield\n",
    "    y_yield = total_yield / count\n",
    "    y_yields.append(y_yield)\n",
    "    print(period_start, \": \", count, \" \", y_yield)\n",
    "    period_start = period_end\n",
    "\n",
    "print(sum(y_yields) / len(y_yields))"
   ]
  },
  {
   "cell_type": "markdown",
   "metadata": {},
   "source": [
    "# DM test"
   ]
  },
  {
   "cell_type": "code",
   "execution_count": null,
   "metadata": {},
   "outputs": [],
   "source": [
    "period_start = util.YearMonth(2000, 1)\n",
    "period_last = util.YearMonth(2023, 1)\n",
    "\n",
    "ByAddBackClose = []\n",
    "ByAddBackCloseW1 = []\n",
    "ByAddBackCloseW2 = []\n",
    "\n",
    "while period_start <= period_last:\n",
    "    returns = dict()\n",
    "    stock_returns = dict()\n",
    "    for stock in all_stocks:\n",
    "        period_end = util.get_next(period_start, 12)\n",
    "        adtv = stock.get_adtv(period_start, period_end)\n",
    "\n",
    "        if adtv > 100000:\n",
    "            r = stocks.get_return(period_start, period_end, stock, False)\n",
    "            returns[stock.ticker] = r.ByAddBackClose\n",
    "            stock_returns[stock.ticker] = r\n",
    "\n",
    "    # sort to find top 10 return stocks using AddBack Close\n",
    "    returns2 = sorted(returns.items(), key=lambda x: x[1], reverse=True)[:10]\n",
    "    top_returns = {k[0]: returns[k[0]] for k in returns2}\n",
    "\n",
    "    portfolio = get_portfolio(top_returns.keys())\n",
    "\n",
    "    top_stock_returns = [stock_returns[k[0]] for k in returns2]\n",
    "    w1 = stocks.get_weights_by_returns(top_stock_returns).ByAddBackClose\n",
    "\n",
    "    risks = stocks.get_risks(period_start, period_end, portfolio)\n",
    "    w2 = stocks.get_weights_by_risks(risks).ByAddBackClose\n",
    "\n",
    "    eval_period_end = util.get_next(period_end, 3)\n",
    "\n",
    "    r = stocks.get_portfolio_return(period_end, eval_period_end, portfolio)\n",
    "    ByAddBackClose.append(r.ByAddBackClose)\n",
    "\n",
    "    r = stocks.get_portfolio_return(period_end, eval_period_end, portfolio, w1)\n",
    "    ByAddBackCloseW1.append(r.ByAddBackClose)\n",
    "\n",
    "    r = stocks.get_portfolio_return(period_end, eval_period_end, portfolio, w2)\n",
    "    ByAddBackCloseW2.append(r.ByAddBackClose)\n",
    "\n",
    "    # roll to next quarter\n",
    "    period_start = util.get_next(period_start, 3)\n",
    "\n",
    "print(\"ByAddBackClose\")\n",
    "print(ByAddBackClose)\n",
    "print(\"ByAddBackCloseW1\")\n",
    "print(ByAddBackCloseW1)\n",
    "print(\"ByAddBackCloseW2\")\n",
    "print(ByAddBackCloseW2)"
   ]
  },
  {
   "cell_type": "code",
   "execution_count": 12,
   "metadata": {},
   "outputs": [
    {
     "name": "stdout",
     "output_type": "stream",
     "text": [
      "s0 vs s1\n",
      "dm_return(DM=0.11823563676620152, p_value=0.9061387226118884)\n",
      "s0 vs s2\n",
      "dm_return(DM=1.4118301667098272, p_value=0.16137333663157002)\n",
      "s1 vs s2\n",
      "dm_return(DM=0.0953629138384972, p_value=0.9242339807716745)\n"
     ]
    }
   ],
   "source": [
    "# ByAddBackClose\n",
    "s0_return = [-0.15285830881861276, 0.04441541329149104, -0.088402378610857, 0.24433046442410372, 0.0883799568020283, -0.08489086962964883, -0.16495054637832032, 0.05461221209610552, 0.10200050295096036, 0.2338967515183634, 0.18120520920749306, 0.025300184911485023, 0.15144374764251517, -0.18644310861424324, -0.006493237185101017, -0.03836095574976314, -0.08239579469669979, 0.08610782868046507, 0.11664684439916914, -0.013695876059588682, 0.23701916490905584, -0.12349164865016672, 0.08732470660854186, -0.011155704216471413, -0.05475815698943616, 0.4796924198084972, 0.1029746285974737, -0.22588015514154908, -0.28046509354705007, -0.051580339465586364, -0.3567243641357939, -0.2306828169568687, -0.11973713095288765, 0.2109021825521924, 0.4016009682615337, -0.02218195502185547, 0.0221567204780441, -0.11757836721760974, 0.06970326374661977, -0.036783208461998965, -0.04164288062252413, -0.016848634932226422, -0.03875988995141196, -0.07457857322355779, 0.27424000199288096, 0.09199052244206304, 0.3307733776873145, 0.28056604593993323, 0.35595224722587404, 0.08031125674739543, 0.20900121090478796, -0.20039421888243175, -0.1422219898994231, -0.16938626362517656, -0.03174688822144675, -0.05438667913226916, 0.013878754882218656, 0.11402170357270339, -0.12513047802493457, 0.0872114720379353, -0.13230395354194904, 0.19035747287035032, 0.09255175479983577, 0.05376730208926507, 0.22068577307800927, -0.11175077081145504, -0.049349282989739826, 0.008102616979111636, 0.01783886672294005, -0.18438575356323247, -0.06830966432367953, -0.20310356465071072, 0.15735285245964414, -0.006026759120876234, -0.01543149018723396, 0.1485107681807331, -0.46558066446896035, 0.974639716023122, 0.17003365120758354, -0.02150993469673424, 0.19915741106802914, 0.11427547242454539, 0.14449503215807866, -0.028351514834700164, 0.38135545959548045, -0.17801574108833082, -0.1749560063419107, 0.03341264980943798, 0.044521647776395286, 0.01682785407000275, -0.006248194112466563, -0.03319231733179102, -0.024978058449474712]\n",
    "\n",
    "# ByAddBackCloseW1\n",
    "s1_return = [-0.20001710091756622, 0.15540044210511766, -0.11859881817291108, 0.2983122450431943, 0.0868398759348324, -0.12542446049381817, -0.20220785505011504, 0.05865790679072406, 0.07303617583620824, 0.25095202438538666, 0.08969616935525125, 0.03176637735091256, 0.15827350990534297, -0.26653892793435113, -0.015259919249663193, 0.003594821275029936, -0.05123504252591182, 0.13826403223924483, 0.08364805230677216, -0.034119933293853155, 0.2410083610697461, -0.12638638326814874, 0.1409391659833895, -0.09373093535317574, -0.04626455309703413, 0.3503282264693986, 0.2953428754847402, -0.24057733466209769, -0.26246760365916677, -0.22361506827092004, -0.4240740125044331, -0.35526575822978873, 0.5797188813968784, 0.41403721669769555, 0.3639981154339941, -0.012697553481340803, -0.0023563100736405454, -0.11690351481975776, 0.0755184198725493, -0.02990513153499819, -0.024465771705704138, -0.02174309807398537, -0.0605608006783991, -0.04075832620086401, 0.21820179477030552, 0.07288420152599133, 0.3148868460265421, 0.16828544273750867, 0.31666841992929035, -0.05156604093165883, 0.2188227219223031, -0.07134360921705656, -0.14044921962290924, -0.2039908961064354, -0.0340556069150546, -0.0985802167352831, 0.04836023043331749, 0.1153198331044662, -0.05405066954485042, 0.19906825161047031, 0.07687186380765906, 0.17470418230334978, 0.12164908684641879, 0.09396470630774137, 0.17284780404395567, -0.14586908855153868, -0.057640281364134426, -0.028381734731711628, 0.03090181682741609, -0.22073544901946787, -0.12849882477472982, -0.24867594803924173, 0.056525692632758764, -0.025400703360895872, -0.026495178537536516, 0.1519268004204091, -0.45907521668029927, 1.0012853955684005, 0.31754331455994894, -0.1037623263494014, 0.1786020908239908, 0.12838919940558224, 0.015757300064673407, -0.06717050620438919, 0.37015379595195563, -0.16107323149738897, -0.2307417961015681, 0.008981980645851425, 0.17735089388281908, -0.1195975821737507, -0.00011080089053170164, -0.0384871974398854, -0.016625518448852444]\n",
    "\n",
    "# ByAddBackCloseW2\n",
    "s2_return = [-0.14684056285824468, 0.03308163231304791, -0.1090086998871648, 0.23751631497902526, 0.08965787628341876, -0.08012647258370167, -0.17355461489229929, 0.05125241696534283, 0.10635143529548145, 0.23366672021009166, 0.1945471852270691, 0.023675727828367486, 0.16290823451831035, -0.17379581741106426, -0.005140852800104716, -0.03651410146198267, -0.08553086437022477, 0.08914919912426286, 0.11369106422869897, -0.014280534651125092, 0.23693353723235738, -0.12427120125379751, 0.02408108194514539, -0.01515566418758476, -0.04364123242026778, 0.5058745982501307, 0.0801549519182231, -0.24451674561638048, -0.28444592106796956, -0.0445663711945195, -0.353609826786269, -0.22883705523872894, -0.11726519942613557, 0.2208101676940229, 0.4103434268928471, -0.015891178191261984, 0.04528061027423274, -0.11688682120325249, 0.06897258906077958, -0.03155330219665291, -0.04062219291064524, -0.009011575261779037, -0.0370630067509137, -0.0775990410410669, 0.2794943788027251, 0.11745199190241144, 0.3119884227791262, 0.2959567808179755, 0.35346104703871184, 0.0995688932754597, 0.21098082118421907, -0.19827606641218912, -0.15329259528352143, -0.16046295895839446, -0.02854270448442676, -0.044040247877653836, 0.019452478551008144, 0.11521132419116818, -0.1341423017556126, 0.0839262605581221, -0.14308394786842613, 0.228580920966294, 0.10215771646827723, 0.04926174680028303, 0.2205413851761361, -0.1089231677545609, -0.045940137005316684, 0.012423153972983974, 0.04502664684470052, -0.18908688390275558, -0.07804459694946884, -0.19297291388516144, 0.14997258554811613, 0.000548517141804131, -0.01622681645797771, 0.15156464928115365, -0.45359364380152206, 1.0268240951961263, 0.20547508118509958, -0.024370644627460143, 0.18872300128793884, 0.14389557764444538, 0.13419123939856054, -0.027026499455437766, 0.32489087612900946, -0.17374387492856866, -0.17458701986548764, 0.036951959632490324, 0.05875252001063429, 0.03563401038049434, 0.00010051507306975058, -0.04837750519881171, -0.02036274261340815]\n",
    "\n",
    "print(\"s0 vs s1\")\n",
    "rt = dm_test.test_strategy(s0_return, s1_return)\n",
    "print(rt)\n",
    "\n",
    "print(\"s0 vs s2\")\n",
    "rt = dm_test.test_strategy(s0_return, s2_return)\n",
    "print(rt)\n",
    "\n",
    "print(\"s1 vs s2\")\n",
    "rt = dm_test.test_strategy(s1_return, s2_return)\n",
    "print(rt)"
   ]
  },
  {
   "cell_type": "code",
   "execution_count": 13,
   "metadata": {},
   "outputs": [
    {
     "name": "stdout",
     "output_type": "stream",
     "text": [
      "dm_return(DM=1.8331375977777478, p_value=0.07001611485180186)\n"
     ]
    }
   ],
   "source": [
    "rt = dm_test.dm_test(s0_return, s1_return, s2_return)\n",
    "print(rt)"
   ]
  },
  {
   "cell_type": "code",
   "execution_count": 4,
   "metadata": {},
   "outputs": [
    {
     "name": "stdout",
     "output_type": "stream",
     "text": [
      "overall return\n",
      "2.07166240833986 \t 1.384823130491502 \t 2.657403780155815\n",
      "mean\n",
      "0.029004794431215623 \t 0.03023370650106794 \t 0.03124872304010862\n",
      "risk\n",
      "0.03749130452568611 \t 0.045624301425866334 \t 0.038815941108419884\n"
     ]
    }
   ],
   "source": [
    "s1 = pd.Series(s0_return)\n",
    "s2 = pd.Series(s1_return)\n",
    "s3 = pd.Series(s2_return)\n",
    "\n",
    "print(\"overall return\")\n",
    "print((s1+1).product() - 1, \"\\t\", (s2+1).product()-1, \"\\t\", (s3+1).product()-1)\n",
    "\n",
    "print(\"mean\")\n",
    "print(s1.mean(), \"\\t\", s2.mean(), \"\\t\", s3.mean())\n",
    "\n",
    "print(\"risk\")\n",
    "print(s1.var(), \"\\t\", s2.var(), \"\\t\", s3.var())"
   ]
  },
  {
   "cell_type": "code",
   "execution_count": null,
   "metadata": {},
   "outputs": [],
   "source": []
  },
  {
   "cell_type": "markdown",
   "metadata": {},
   "source": [
    "# Divident Stats"
   ]
  },
  {
   "cell_type": "code",
   "execution_count": 4,
   "metadata": {},
   "outputs": [
    {
     "name": "stdout",
     "output_type": "stream",
     "text": [
      "708   542\n"
     ]
    }
   ],
   "source": [
    "stock_with_dividend = 0\n",
    "for s in all_stocks:\n",
    "    if len(s.dividend) > 0:\n",
    "        stock_with_dividend +=1\n",
    "\n",
    "print(len(all_stocks), \" \", stock_with_dividend)\n",
    "\n",
    "period_start = util.YearMonth(2015, 1)\n",
    "period_last = util.YearMonth(2023, 1)\n",
    "\n",
    "portfolio = stocks.loads(ww)\n",
    "while period_start <= period_last:\n",
    "    period_end = util.get_next(period_start, 12)"
   ]
  },
  {
   "cell_type": "markdown",
   "metadata": {},
   "source": [
    "# Adj Close return vs AddBack Return"
   ]
  },
  {
   "cell_type": "code",
   "execution_count": 12,
   "metadata": {},
   "outputs": [
    {
     "name": "stdout",
     "output_type": "stream",
     "text": [
      "== csv\n",
      "\n",
      "Day,Close,Original Close,Dividends,Adjustment Factor\n",
      "2024-02-14,1.91,1.91,0.0545,0.9722575719012472\n",
      "2023-08-08,1.886869,1.9407089793193715,0.053,0.9734163809513997\n",
      "2023-02-08,1.922083,2.030916897832926,0.0536,0.9742866080597751\n",
      "2022-08-04,2.020652,2.191415895484169,0.0522,0.9767339854807299\n",
      "\n",
      "\n",
      "total_adjustment_factor: 0.900622964950044\n",
      "\n",
      "# Return by Adj Close BUY: 2022-03-03 SELL: 2024-03-15\n",
      "buy: 1.918871 sell: 1.920000 gain: 0.001129\n",
      "\n",
      "return: 0.06% (0.000588)\n",
      "Total Dividend: 0.213300\n",
      "\n",
      "# Actual Return by adding back dividend\n",
      "buy: 2.130000 sell: 2.133300 gain: 0.003300\n",
      "return: 0.15% (0.001549)\n",
      "\n",
      "# Return difference\n",
      "-62.02% (-0.620236)\n",
      "ByAdjClose:  0.000588 ByAddBackClose:  0.001549\n"
     ]
    }
   ],
   "source": [
    "stock = stocks.load(\"C38U\")\n",
    "stocks.list_dividend(\"2022-03-03\", stock)\n",
    "r = stocks.get_return(\"2022-03-03\", \"2024-03-16\", stock)\n",
    "print(r)"
   ]
  },
  {
   "cell_type": "code",
   "execution_count": 183,
   "metadata": {},
   "outputs": [
    {
     "name": "stdout",
     "output_type": "stream",
     "text": [
      "-0.0002463114195503293\n",
      "-0.00044110314428133615\n"
     ]
    },
    {
     "data": {
      "text/plain": [
       "0.04505055363062538"
      ]
     },
     "execution_count": 183,
     "metadata": {},
     "output_type": "execute_result"
    }
   ],
   "source": [
    "# stock = stocks.load(\"D05\")\n",
    "stock = stocks.load(\"D8DU\")\n",
    "df = stocks.get_addback_close(stock, \"2022-01-01\", \"2024-01-01\")\n",
    "\n",
    "return_adj_close = df[\"Adj Close\"].pct_change().dropna()\n",
    "return_addback_close = df[\"AddBackClose\"].pct_change().dropna()\n",
    "\n",
    "print(return_addback_close.mean())\n",
    "print(return_adj_close.mean())\n",
    "return_adj_close.std()  / return_addback_close.std() - 1\n",
    "# return_adj_close.mean()  / return_addback_close.mean() - 1"
   ]
  },
  {
   "cell_type": "code",
   "execution_count": 195,
   "metadata": {},
   "outputs": [
    {
     "data": {
      "text/plain": [
       "0.000718800466679042"
      ]
     },
     "execution_count": 195,
     "metadata": {},
     "output_type": "execute_result"
    }
   ],
   "source": [
    "df = pd.concat([return_addback_close, return_adj_close], axis=1)\n",
    "df.cov().iloc[0, 1]"
   ]
  },
  {
   "cell_type": "markdown",
   "metadata": {},
   "source": [
    "# Stock Market Cap Distribution"
   ]
  },
  {
   "cell_type": "code",
   "execution_count": null,
   "metadata": {},
   "outputs": [],
   "source": [
    "df = util.to_df(info.get_all_mc(), ['Ticker', 'MarketCap'])\n",
    "df.MarketCap = df.MarketCap / 1000000\n",
    "plt = df[df.MarketCap<100].MarketCap.plot.hist(bins=50, alpha=0.5, title='SGX Stock Market Cap Distribution - Below(100M SGD)')\n",
    "plt.legend(['Total 365 stocks'])\n",
    "plt.set_xlabel(\"Market Cap (1M)\")\n",
    "plt.get_figure().savefig('mc_100M.png')\n",
    "\n",
    "plt = df[df.MarketCap>100][df.MarketCap<1500].MarketCap.plot.hist(bins=50, alpha=0.5, title='SGX Stock Market Cap Distribution - 100M~1.5B SGD)')\n",
    "plt.legend(['Total 188 stocks'])\n",
    "plt.set_xlabel(\"Market Cap (1M)\")\n",
    "plt.get_figure().savefig('mc_100M_1.5B.png')\n",
    "\n",
    "plt = df[df.MarketCap>1500][df.MarketCap<30000].MarketCap.plot.hist(bins=50, alpha=0.5, title='SGX Stock Market Cap Distribution - 1.5B~30B SGD)')\n",
    "plt.legend(['Total 62 stocks'])\n",
    "plt.set_xlabel(\"Market Cap (1M)\")\n",
    "plt.get_figure().savefig('mc_1.5B_20B.png')\n",
    "\n",
    "df[df.MarketCap>10000].sort_values(by=['MarketCap']).to_csv(\"mc_10B_plus.csv\", index=False, float_format='%.6f')"
   ]
  },
  {
   "cell_type": "markdown",
   "metadata": {},
   "source": [
    "# Average Daily Trading Volume Hist"
   ]
  },
  {
   "cell_type": "code",
   "execution_count": null,
   "metadata": {},
   "outputs": [],
   "source": [
    "df = util.to_df(info.get_all_avg_vol(), ['Ticker', 'AvergeVolume'])\n",
    "df.AvergeVolume = df.AvergeVolume / 10000\n",
    "\n",
    "plt = df[df.AvergeVolume<=1].plot.hist(bins=50, alpha=0.5, title='SGX Average Daily Trading Volume (ADTV) - Below(10K SGD)')\n",
    "plt.set_xlabel(\"ADTV (10K)\")\n",
    "plt.legend(['ADTV Total 365 stocks'])\n",
    "plt.get_figure().savefig('adtv_10K.png')\n",
    "\n",
    "plt = df[1<df.AvergeVolume][df.AvergeVolume<=30].plot.hist(bins=50, alpha=0.5, title='SGX Average Daily Trading Volume (ADTV) 10K~300K SGD')\n",
    "plt.set_xlabel(\"ADTV (10K)\")\n",
    "plt.legend(['ADTV Total 207 stocks'])\n",
    "plt.get_figure().savefig('adtv_10K_300K.png')\n",
    "\n",
    "plt = df[df.AvergeVolume>30][df.AvergeVolume<=300].plot.hist(bins=50, alpha=0.5, title='SGX Average Daily Trading Volume (ADTV) 300K~3M SGD')\n",
    "plt.set_xlabel(\"ADTV (10K)\")\n",
    "plt.legend(['ADTV Total 68 stocks'])\n",
    "plt.get_figure().savefig('adtv_300K_3M.png')\n",
    "\n",
    "df[df.AvergeVolume>300].sort_values(by=['AvergeVolume']).to_csv(\"adtv_3M_plus.csv\", index=False, float_format='%.6f')"
   ]
  },
  {
   "cell_type": "markdown",
   "metadata": {},
   "source": [
    "# STI Estimate"
   ]
  },
  {
   "cell_type": "code",
   "execution_count": null,
   "metadata": {},
   "outputs": [],
   "source": [
    "es3 = stocks.load(\"ES3\")\n",
    "df = stocks.get_addback_close(es3, \"2010-03-01\", \"2024-03-15\")\n",
    "df[\"Adj Close\"] = df[\"Adj Close\"] * 990\n",
    "df[\"AddBackClose\"] = df[\"AddBackClose\"] * 1010\n",
    "df[\"Close\"] = df[\"Close\"] * 1000\n",
    "\n",
    "plt = df.plot(x=\"Day\", y = [\"AddBackClose\", \"Close\", \"Adj Close\"], linewidth=0.8, figsize=(15, 10), title=\"Esitmated STI\")\n",
    "plt.legend(['Estimated STI if add back dividend', 'STI', 'Estimated STI if use Adj Close'])\n",
    "plt.get_figure().savefig('STI_estimated.png')"
   ]
  },
  {
   "cell_type": "markdown",
   "metadata": {},
   "source": [
    "# Strategy comparison"
   ]
  },
  {
   "cell_type": "code",
   "execution_count": 18,
   "metadata": {},
   "outputs": [],
   "source": [
    "# Load ALL stocks!\n",
    "all_stocks = stocks.loads(info.all_tickers)\n",
    "\n",
    "def get_portfolio(tickers):\n",
    "    portfolio = []\n",
    "    for stock in all_stocks:\n",
    "        if stock.ticker in tickers:\n",
    "            portfolio.append(stock)\n",
    "    return portfolio"
   ]
  },
  {
   "cell_type": "markdown",
   "metadata": {},
   "source": [
    "## High market cap high P/E ratio"
   ]
  },
  {
   "cell_type": "code",
   "execution_count": 82,
   "metadata": {},
   "outputs": [
    {
     "name": "stdout",
     "output_type": "stream",
     "text": [
      "2022-01-01 2022-04-01 ByAdjClose:  0.003161 ByAddBackClose:  0.003248\n",
      "2022-04-01 2022-07-01 ByAdjClose: -0.055573 ByAddBackClose: -0.055683\n",
      "2022-07-01 2022-10-01 ByAdjClose: -0.033883 ByAddBackClose: -0.033613\n",
      "2022-10-01 2023-01-01 ByAdjClose: -0.024424 ByAddBackClose: -0.024374\n",
      "0.8929557795085016\n",
      "0.8932239048359752\n"
     ]
    }
   ],
   "source": [
    "# Investor 3-1 portfolio return\n",
    "dy1 = [\"M01\", \"5DD\", \"CC3\", \"i07\", \"BN4\"]\n",
    "dy2 = [\"L38\", \"E5H\", \"1D0\", \"Z74\", \"CY6U\"]\n",
    "#ww = [\"A04\", \"5VP\", \"BQD\", \"F03\", \"NO4\", \"41B\", \"A34\", \"T14\", \"Q0X\"]\n",
    "\n",
    "\n",
    "ByAddBackClose = []\n",
    "ByAdjClose = []\n",
    "\n",
    "\n",
    "period_start = util.YearMonth(2022, 1)\n",
    "period_last = util.YearMonth(2022, 12)\n",
    "\n",
    "portfolio = stocks.loads(dy1)\n",
    "while period_start <= period_last:\n",
    "    period_end = util.get_next(period_start, 3)\n",
    "\n",
    "    #returns = stocks.get_returns(period_start, period_end, portfolio)\n",
    "    #w1 = stocks.get_weights_by_returns(returns)\n",
    "\n",
    "    r = stocks.get_portfolio_return(period_start, period_end, portfolio)\n",
    "    print(period_start, period_end, r)\n",
    "    ByAdjClose.append(r.ByAdjClose)\n",
    "    ByAddBackClose.append(r.ByAddBackClose)\n",
    "\n",
    "    #r = stocks.get_portfolio_return(period_end, backtest_period_end, portfolio, w1.ByAddBackClose)\n",
    "    #print(backtest_period_start, backtest_period_end, r)\n",
    "\n",
    "    # roll to next quarter\n",
    "    period_start = util.get_next(period_start, 3)\n",
    "\n",
    "stocks.get_overall_return(ByAdjClose, ByAddBackClose)"
   ]
  },
  {
   "cell_type": "code",
   "execution_count": 83,
   "metadata": {},
   "outputs": [
    {
     "name": "stdout",
     "output_type": "stream",
     "text": [
      "[0.0032478125859561474, -0.055683145690671974, -0.033612868611718354, -0.024374289777115657]\n"
     ]
    }
   ],
   "source": [
    "print(ByAddBackClose)"
   ]
  },
  {
   "cell_type": "code",
   "execution_count": 36,
   "metadata": {},
   "outputs": [
    {
     "data": {
      "text/plain": [
       "[0.0271470647228335,\n",
       " 0.12526051034443852,\n",
       " 0.05214539230908373,\n",
       " -0.054634366212942,\n",
       " -0.0787152977163386,\n",
       " 0.036515271642701075,\n",
       " -0.08358628253989185,\n",
       " 0.015731283858857782,\n",
       " 0.016887575636170982,\n",
       " -0.075590173767214,\n",
       " 0.08767017128606211,\n",
       " -0.22989934788661281,\n",
       " 0.18590482210337703,\n",
       " 0.14361192398490602,\n",
       " 0.12050465802104321,\n",
       " 0.10810341256044242,\n",
       " 0.029927346317255868,\n",
       " -0.02888471366718135,\n",
       " 0.06577817661112005,\n",
       " 0.0032478125859561474,\n",
       " -0.055683145690671974,\n",
       " -0.033612868611718354,\n",
       " -0.024374289777115657,\n",
       " 0.001022908923912512]"
      ]
     },
     "execution_count": 36,
     "metadata": {},
     "output_type": "execute_result"
    }
   ],
   "source": [
    "v1_r=ByAddBackClose\n",
    "v1_r"
   ]
  },
  {
   "cell_type": "code",
   "execution_count": 5,
   "metadata": {},
   "outputs": [
    {
     "name": "stdout",
     "output_type": "stream",
     "text": [
      "[nan, nan, nan, nan, nan, nan, nan, nan, nan, nan, nan, nan, nan, nan, nan, nan, nan, nan, nan, nan, nan, nan, nan, nan, nan, nan, nan, nan, nan, 0.11098336339032261, 0.017597321217329508, -0.017565624422355607, -0.07133982726848812, 0.07159418579449064, -0.1715003015370804, -0.2573099547384745, -0.25919147647279245, 0.46192578037754867, 0.18538514606394396, 0.036834674945772305, 0.02693945700310827, -0.022908989540734635, 0.21456932835717685, 0.04007752042936212, 0.0012437325915352956, 0.11662598158888327, -0.134665152679311, 0.06839210695222704, 0.07095039652038078, 0.013672165845963133, 0.05495594295853318, 0.00943975090754312, 0.7758047612918498, 0.26503580604819127, 0.024364601459183868, -0.031733782385490614, -0.02324210959602462, 0.03372771344681069, -0.057628368438236516, -0.05200634801064341, 0.010738735360127035, 0.03640557596946681, -0.10755872323485485, 0.06098091830050532, -0.009094908333034037, 0.033594857394246364, -0.004609469599860061, 0.025008966583831362, 0.11327000238812154, 0.0271470647228335, 0.12526051034443852, 0.05214539230908373, -0.054634366212942, -0.0787152977163386, 0.036515271642701075, -0.08358628253989185, 0.015731283858857782, 0.016887575636170982, -0.075590173767214, 0.08767017128606211, -0.22989934788661281, 0.18590482210337703, 0.14361192398490602, 0.12050465802104321, 0.10810341256044242, 0.029927346317255868, -0.02888471366718135, 0.06577817661112005, 0.0032478125859561474, -0.055683145690671974, -0.033612868611718354, -0.024374289777115657, 0.001022908923912512, -0.001519946829067094, -0.03045319741498722, 0.020277458476205167]\n"
     ]
    }
   ],
   "source": [
    "print(ByAddBackClose)"
   ]
  },
  {
   "cell_type": "markdown",
   "metadata": {},
   "source": [
    "## High market cap low P/E ratio"
   ]
  },
  {
   "cell_type": "code",
   "execution_count": 77,
   "metadata": {},
   "outputs": [
    {
     "name": "stdout",
     "output_type": "stream",
     "text": [
      "2017-01-01 2017-04-01 ByAdjClose:  0.010481 ByAddBackClose:  0.010481\n",
      "2017-04-01 2017-07-01 ByAdjClose: -0.054967 ByAddBackClose: -0.054930\n",
      "2017-07-01 2017-10-01 ByAdjClose: -0.001289 ByAddBackClose: -0.001029\n",
      "2017-10-01 2018-01-01 ByAdjClose:  0.052924 ByAddBackClose:  0.052984\n",
      "1.0041814059282395\n",
      "1.004539823147689\n"
     ]
    }
   ],
   "source": [
    "# Investor 3-2 portfolio return\n",
    "dy1 = [\"M01\", \"5DD\", \"CC3\", \"i07\", \"BN4\"]\n",
    "dy2 = [\"L38\", \"E5H\", \"1D0\", \"Z74\", \"CY6U\"]\n",
    "# ww = [\"A04\", \"5VP\", \"BQD\", \"F03\", \"NO4\", \"41B\", \"A34\", \"T14\", \"Q0X\"]\n",
    "\n",
    "\n",
    "ByAddBackClose = []\n",
    "ByAdjClose = []\n",
    "\n",
    "\n",
    "period_start = util.YearMonth(2017, 1)\n",
    "period_last = util.YearMonth(2017, 12)\n",
    "\n",
    "portfolio = stocks.loads(dy2)\n",
    "while period_start <= period_last:\n",
    "    period_end = util.get_next(period_start, 3)\n",
    "\n",
    "    # returns = stocks.get_returns(period_start, period_end, portfolio)\n",
    "    # w1 = stocks.get_weights_by_returns(returns)\n",
    "\n",
    "    r = stocks.get_portfolio_return(period_start, period_end, portfolio)\n",
    "    print(period_start, period_end, r)\n",
    "    ByAdjClose.append(r.ByAdjClose)\n",
    "    ByAddBackClose.append(r.ByAddBackClose)\n",
    "\n",
    "    # r = stocks.get_portfolio_return(period_end, backtest_period_end, portfolio, w1.ByAddBackClose)\n",
    "    # print(backtest_period_start, backtest_period_end, r)\n",
    "\n",
    "    # roll to next quarter\n",
    "    period_start = util.get_next(period_start, 3)\n",
    "\n",
    "stocks.get_overall_return(ByAdjClose, ByAddBackClose)"
   ]
  },
  {
   "cell_type": "code",
   "execution_count": 69,
   "metadata": {},
   "outputs": [
    {
     "name": "stdout",
     "output_type": "stream",
     "text": [
      "[0.0393129640712212, -0.05768356619331527, -0.008870449196184427, -0.009239495355153806]\n"
     ]
    }
   ],
   "source": [
    "print(ByAddBackClose)"
   ]
  },
  {
   "cell_type": "markdown",
   "metadata": {},
   "source": [
    "# return outcome"
   ]
  },
  {
   "cell_type": "code",
   "execution_count": 33,
   "metadata": {},
   "outputs": [
    {
     "name": "stdout",
     "output_type": "stream",
     "text": [
      "ByAddBackClose\n",
      "[-0.18438575356323247, -0.06830966432367953, -0.20310356465071072, 0.15735285245964414, -0.006026759120876234, -0.01543149018723396, 0.1485107681807331, -0.46558066446896035, 0.974639716023122, 0.17003365120758354, -0.02150993469673424, 0.19915741106802914, 0.11427547242454539, 0.14449503215807866, -0.028351514834700164, 0.38135545959548045, -0.17801574108833082, -0.1749560063419107, 0.03341264980943798, 0.044521647776395286, 0.01682785407000275, -0.006248194112466563, -0.03319231733179102, -0.024978058449474712]\n",
      "ByAddBackCloseW1\n",
      "[-0.22073544901946787, -0.12849882477472982, -0.24867594803924173, 0.056525692632758764, -0.025400703360895872, -0.026495178537536516, 0.1519268004204091, -0.45907521668029927, 1.0012853955684005, 0.31754331455994894, -0.1037623263494014, 0.1786020908239908, 0.12838919940558224, 0.015757300064673407, -0.06717050620438919, 0.37015379595195563, -0.16107323149738897, -0.2307417961015681, 0.008981980645851425, 0.17735089388281908, -0.1195975821737507, -0.00011080089053170164, -0.0384871974398854, -0.016625518448852444]\n",
      "ByAddBackCloseW2\n",
      "[-0.18908688390275558, -0.07804459694946884, -0.19297291388516144, 0.14997258554811613, 0.000548517141804131, -0.01622681645797771, 0.15156464928115365, -0.45359364380152206, 1.0268240951961263, 0.20547508118509958, -0.024370644627460143, 0.18872300128793884, 0.14389557764444538, 0.13419123939856054, -0.027026499455437766, 0.32489087612900946, -0.17374387492856866, -0.17458701986548764, 0.036951959632490324, 0.05875252001063429, 0.03563401038049434, 0.00010051507306975058, -0.04837750519881171, -0.02036274261340815]\n"
     ]
    }
   ],
   "source": [
    "period_start = util.YearMonth(2017, 4)\n",
    "period_last = util.YearMonth(2023, 1)\n",
    "\n",
    "ByAddBackClose = []\n",
    "ByAddBackCloseW1 = []\n",
    "ByAddBackCloseW2 = []\n",
    "\n",
    "while period_start <= period_last:\n",
    "    returns = dict()\n",
    "    stock_returns = dict()\n",
    "    for stock in all_stocks:\n",
    "        period_end = util.get_next(period_start, 12)\n",
    "        adtv = stock.get_adtv(period_start, period_end)\n",
    "\n",
    "        if adtv > 100000:\n",
    "            r = stocks.get_return(period_start, period_end, stock, False)\n",
    "            returns[stock.ticker] = r.ByAddBackClose\n",
    "            stock_returns[stock.ticker] = r\n",
    "\n",
    "    # sort to find top 10 return stocks using AddBack Close\n",
    "    returns2 = sorted(returns.items(), key=lambda x: x[1], reverse=True)[:10]\n",
    "    top_returns = {k[0]: returns[k[0]] for k in returns2}\n",
    "\n",
    "    portfolio = get_portfolio(top_returns.keys())\n",
    "\n",
    "    top_stock_returns = [stock_returns[k[0]] for k in returns2]\n",
    "    w1 = stocks.get_weights_by_returns(top_stock_returns).ByAddBackClose\n",
    "\n",
    "    risks = stocks.get_risks(period_start, period_end, portfolio)\n",
    "    w2 = stocks.get_weights_by_risks(risks).ByAddBackClose\n",
    "\n",
    "    eval_period_end = util.get_next(period_end, 3)\n",
    "\n",
    "    r = stocks.get_portfolio_return(period_end, eval_period_end, portfolio)\n",
    "    ByAddBackClose.append(r.ByAddBackClose)\n",
    "\n",
    "    r = stocks.get_portfolio_return(period_end, eval_period_end, portfolio, w1)\n",
    "    ByAddBackCloseW1.append(r.ByAddBackClose)\n",
    "\n",
    "    r = stocks.get_portfolio_return(period_end, eval_period_end, portfolio, w2)\n",
    "    ByAddBackCloseW2.append(r.ByAddBackClose)\n",
    "\n",
    "    # roll to next quarter\n",
    "    period_start = util.get_next(period_start, 3)\n",
    "\n",
    "print(\"ByAddBackClose\")\n",
    "print(ByAddBackClose)\n",
    "print(\"ByAddBackCloseW1\")\n",
    "print(ByAddBackCloseW1)\n",
    "print(\"ByAddBackCloseW2\")\n",
    "print(ByAddBackCloseW2)"
   ]
  },
  {
   "cell_type": "code",
   "execution_count": 34,
   "metadata": {},
   "outputs": [
    {
     "data": {
      "text/plain": [
       "[-0.18438575356323247,\n",
       " -0.06830966432367953,\n",
       " -0.20310356465071072,\n",
       " 0.15735285245964414,\n",
       " -0.006026759120876234,\n",
       " -0.01543149018723396,\n",
       " 0.1485107681807331,\n",
       " -0.46558066446896035,\n",
       " 0.974639716023122,\n",
       " 0.17003365120758354,\n",
       " -0.02150993469673424,\n",
       " 0.19915741106802914,\n",
       " 0.11427547242454539,\n",
       " 0.14449503215807866,\n",
       " -0.028351514834700164,\n",
       " 0.38135545959548045,\n",
       " -0.17801574108833082,\n",
       " -0.1749560063419107,\n",
       " 0.03341264980943798,\n",
       " 0.044521647776395286,\n",
       " 0.01682785407000275,\n",
       " -0.006248194112466563,\n",
       " -0.03319231733179102,\n",
       " -0.024978058449474712]"
      ]
     },
     "execution_count": 34,
     "metadata": {},
     "output_type": "execute_result"
    }
   ],
   "source": [
    "s0_r=ByAddBackClose\n",
    "s0_r"
   ]
  },
  {
   "cell_type": "markdown",
   "metadata": {},
   "source": [
    "## 2017"
   ]
  },
  {
   "cell_type": "code",
   "execution_count": 78,
   "metadata": {},
   "outputs": [
    {
     "name": "stdout",
     "output_type": "stream",
     "text": [
      "s0 vs v1\n",
      "{'mean_difference': -0.11136674274969116, 'dm_test': -1.9972413840570438, 'p_value': 0.13969902280558016}\n",
      "s1 vs v1\n",
      "{'mean_difference': -0.14362881504752634, 'dm_test': -2.1685918737418204, 'p_value': 0.11861298027626105}\n",
      "s2 vs v1\n",
      "{'mean_difference': -0.10564615076919183, 'dm_test': -1.8079763510590785, 'p_value': 0.16833087214931966}\n",
      "v1 vs v2\n",
      "{'mean_difference': 0.07757902864509883, 'dm_test': 2.805209645966729, 'p_value': 0.06756036829246757}\n"
     ]
    }
   ],
   "source": [
    "# ByAddBackClose\n",
    "s0_return = [0.01783886672294005, -0.18438575356323247, -0.06830966432367953, -0.20310356465071072]\n",
    "\n",
    "# ByAddBackCloseW1\n",
    "s1_return = [0.03090181682741609, -0.22073544901946787, -0.12849882477472982, -0.24867594803924173]\n",
    "\n",
    "# ByAddBackCloseW2\n",
    "s2_return = [0.04502664684470052, -0.18908688390275558, -0.07804459694946884, -0.19297291388516144]\n",
    "\n",
    "# ByAddBackClosev1\n",
    "v1_return = [0.11327000238812154, 0.0271470647228335, 0.12526051034443852, 0.05214539230908373]\n",
    "v2_return = [0.010480931601673672, -0.05492964145838924, -0.0010286609881583492, 0.052984226028955875]\n",
    "\n",
    "print(\"s0 vs v1\")\n",
    "rt = dm_test.test_strategy(s0_return, v2_return)\n",
    "print(rt)\n",
    "\n",
    "print(\"s1 vs v1\")\n",
    "rt = dm_test.test_strategy(s1_return, v2_return)\n",
    "print(rt)\n",
    "\n",
    "print(\"s2 vs v1\")\n",
    "rt = dm_test.test_strategy(s2_return, v2_return)\n",
    "print(rt)\n",
    "\n",
    "print(\"v1 vs v2\")\n",
    "rt = dm_test.test_strategy(v1_return, v2_return)\n",
    "print(rt)\n",
    "\n"
   ]
  },
  {
   "cell_type": "markdown",
   "metadata": {},
   "source": [
    "## 2022"
   ]
  },
  {
   "cell_type": "code",
   "execution_count": 84,
   "metadata": {},
   "outputs": [
    {
     "name": "stdout",
     "output_type": "stream",
     "text": [
      "s0 vs v1\n",
      "{'mean_difference': 0.01459738426889319, 'dm_test': 0.6941068458363885, 'p_value': 0.5375355862979212}\n",
      "s1 vs v1\n",
      "{'mean_difference': 0.013908965013020892, 'dm_test': 0.3173849734129288, 'p_value': 0.7717584269150695}\n",
      "s2 vs v1\n",
      "{'mean_difference': 0.02064752173470474, 'dm_test': 0.7542322586201686, 'p_value': 0.5055122627100315}\n",
      "v1 vs v2\n",
      "{'mean_difference': -0.018485486205029385, 'dm_test': -2.2941761003381966, 'p_value': 0.10555083324484736}\n"
     ]
    }
   ],
   "source": [
    "\n",
    "s0_return = [0.044521647776395286, 0.01682785407000275, -0.006248194112466563, -0.03319231733179102]\n",
    "\n",
    "s1_return = [0.17735089388281908, -0.1195975821737507, -0.00011080089053170164, -0.0384871974398854]\n",
    "\n",
    "s2_return = [0.05875252001063429, 0.03563401038049434, 0.00010051507306975058, -0.04837750519881171]\n",
    "\n",
    "v1_return = [0.0032478125859561474, -0.055683145690671974, -0.033612868611718354, -0.024374289777115657]\n",
    "v2_return = [0.0393129640712212, -0.05768356619331527, -0.008870449196184427, -0.009239495355153806]\n",
    "\n",
    "print(\"s0 vs v1\")\n",
    "rt = dm_test.test_strategy(s0_return, v2_return)\n",
    "print(rt)\n",
    "\n",
    "print(\"s1 vs v1\")\n",
    "rt = dm_test.test_strategy(s1_return, v2_return)\n",
    "print(rt)\n",
    "\n",
    "print(\"s2 vs v1\")\n",
    "rt = dm_test.test_strategy(s2_return, v2_return)\n",
    "print(rt)\n",
    "\n",
    "print(\"v1 vs v2\")\n",
    "rt = dm_test.test_strategy(v1_return, v2_return)\n",
    "print(rt)\n"
   ]
  },
  {
   "cell_type": "code",
   "execution_count": 65,
   "metadata": {},
   "outputs": [
    {
     "name": "stdout",
     "output_type": "stream",
     "text": [
      "   Quarter  GDP\n",
      "0  2017 Q4  6.4\n",
      "1  2018 Q1  6.7\n",
      "2  2018 Q2  8.1\n",
      "3  2018 Q3  5.0\n",
      "4  2018 Q4  8.4\n"
     ]
    }
   ],
   "source": [
    "import pandas as pd\n",
    "\n",
    "gdp = pd.read_csv(\"REITs analysis/SGgdp.csv\")\n",
    "\n",
    "# Access data by column names or index\n",
    "print(gdp.head())  # View the first few rows\n"
   ]
  },
  {
   "cell_type": "code",
   "execution_count": 70,
   "metadata": {},
   "outputs": [
    {
     "name": "stdout",
     "output_type": "stream",
     "text": [
      "Error: ufunc 'isfinite' not supported for the input types, and the inputs could not be safely coerced to any supported types according to the casting rule ''safe''\n"
     ]
    }
   ],
   "source": [
    "import numpy as np\n",
    "from numpy import nan\n",
    "import statsmodels.api as sm\n",
    "\n",
    "# Calculate the difference between s0_r and v1_r\n",
    "difference = np.subtract(s0_r, v1_r)\n",
    "\n",
    "# Check if gdp is a NumPy array\n",
    "if not isinstance(gdp, np.ndarray):\n",
    "    gdp = gdp.to_numpy()  # Convert to NumPy array if necessary\n",
    "\n",
    "# Perform the regression using OLS\n",
    "try:\n",
    "    model = sm.OLS(difference, gdp).fit()\n",
    "    print(model.summary())\n",
    "except Exception as e:\n",
    "    print(\"Error:\", e)  # Handle potential errors\n"
   ]
  },
  {
   "cell_type": "code",
   "execution_count": 85,
   "metadata": {},
   "outputs": [
    {
     "name": "stdout",
     "output_type": "stream",
     "text": [
      "          mean_difference   dm_test   p_value\n",
      "s0 vs v2         0.014597  0.694107  0.537536\n",
      "s1 vs v2         0.013909  0.317385  0.771758\n",
      "s2 vs v2         0.020648  0.754232  0.505512\n",
      "v1 vs v2        -0.018485 -2.294176  0.105551\n"
     ]
    }
   ],
   "source": [
    "# Data as a dictionary\n",
    "data = {\n",
    "    's0 vs v2': {'mean_difference': 0.01459738426889319, 'dm_test': 0.6941068458363885, 'p_value': 0.5375355862979212},\n",
    "    's1 vs v2': {'mean_difference': 0.013908965013020892, 'dm_test': 0.3173849734129288, 'p_value': 0.7717584269150695},\n",
    "    's2 vs v2': {'mean_difference': 0.02064752173470474, 'dm_test': 0.7542322586201686, 'p_value': 0.5055122627100315},\n",
    "    'v1 vs v2': {'mean_difference': -0.018485486205029385, 'dm_test': -2.2941761003381966, 'p_value': 0.10555083324484736},\n",
    "}\n",
    "\n",
    "# Extract keys (comparison pairs) and values (statistics) into separate lists\n",
    "comparison_pairs = list(data.keys())\n",
    "statistics = list(data.values())\n",
    "\n",
    "# Create a DataFrame with columns for comparison pairs, mean difference, dm_test, and p_value\n",
    "df = pd.DataFrame(statistics, columns=['mean_difference', 'dm_test', 'p_value'], index=comparison_pairs)\n",
    "\n",
    "# Print the DataFrame as a table\n",
    "print(df.to_string())"
   ]
  }
 ],
 "metadata": {
  "kernelspec": {
   "display_name": "Python 3",
   "language": "python",
   "name": "python3"
  },
  "language_info": {
   "codemirror_mode": {
    "name": "ipython",
    "version": 3
   },
   "file_extension": ".py",
   "mimetype": "text/x-python",
   "name": "python",
   "nbconvert_exporter": "python",
   "pygments_lexer": "ipython3",
   "version": "3.12.2"
  }
 },
 "nbformat": 4,
 "nbformat_minor": 2
}
