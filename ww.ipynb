{
 "cells": [
  {
   "cell_type": "code",
   "execution_count": 1,
   "metadata": {},
   "outputs": [],
   "source": [
    "from pysgx import info, stocks, util\n",
    "import importlib\n",
    "import pandas as pd\n",
    "import numpy as np"
   ]
  },
  {
   "cell_type": "code",
   "execution_count": 7,
   "metadata": {},
   "outputs": [],
   "source": [
    "import warnings\n",
    "\n",
    "warnings.filterwarnings('ignore')"
   ]
  },
  {
   "cell_type": "code",
   "execution_count": 70,
   "metadata": {},
   "outputs": [],
   "source": [
    "# Re-run this cell if pysgx module have hot changes\n",
    "importlib.reload(info);\n",
    "importlib.reload(stocks);\n",
    "importlib.reload(util);"
   ]
  },
  {
   "cell_type": "markdown",
   "metadata": {},
   "source": [
    "# Portfolio"
   ]
  },
  {
   "cell_type": "code",
   "execution_count": 3,
   "metadata": {},
   "outputs": [],
   "source": [
    "# Load ALL stocks!\n",
    "all_stocks = stocks.loads(info.all_tickers)\n",
    "\n",
    "def get_portfolio(tickers):\n",
    "    portfolio = []\n",
    "    for stock in all_stocks:\n",
    "        if stock.ticker in tickers:\n",
    "            portfolio.append(stock)\n",
    "    return portfolio"
   ]
  },
  {
   "cell_type": "markdown",
   "metadata": {},
   "source": [
    "# Rolling Test using AddBack Close Return"
   ]
  },
  {
   "cell_type": "code",
   "execution_count": null,
   "metadata": {},
   "outputs": [],
   "source": [
    "period_start = util.YearMonth(2000, 1)\n",
    "period_last = util.YearMonth(2023, 1)\n",
    "\n",
    "ByAddBackClose = []\n",
    "ByAdjClose = []\n",
    "\n",
    "while period_start <= period_last:\n",
    "    returns = dict()\n",
    "    for stock in all_stocks:\n",
    "        period_end = util.get_next(period_start, 12)\n",
    "        adtv = stock.get_adtv(period_start, period_end)\n",
    "\n",
    "        if adtv > 100000:\n",
    "            r = stocks.get_return(period_start, period_end, stock, False)\n",
    "            if not np.isnan(r.ByAddBackClose):\n",
    "                returns[stock.ticker] = r.ByAddBackClose\n",
    "\n",
    "    # sort to find top 10 return stocks using AddBack Close\n",
    "    returns2 = sorted(returns.items(), key=lambda x: x[1], reverse=True)[:10]\n",
    "    top_returns = {k[0]: returns[k[0]] for k in returns2}\n",
    "\n",
    "    print(\"Evaluate 1Y since: \", period_start, top_returns.keys())\n",
    "    eval_period_end = util.get_next(period_end, 3)\n",
    "    if len(top_returns) == 10:\n",
    "        r = stocks.get_portfolio_return(period_end, eval_period_end, get_portfolio(top_returns.keys()))\n",
    "        print(\"backtest 1Q\", period_end, eval_period_end, r)\n",
    "        ByAdjClose.append(r.ByAdjClose)\n",
    "        ByAddBackClose.append(r.ByAddBackClose)\n",
    "    print(\"\")\n",
    "\n",
    "    # roll to next quarter\n",
    "    period_start = util.get_next(period_start, 3)"
   ]
  },
  {
   "cell_type": "code",
   "execution_count": 86,
   "metadata": {},
   "outputs": [
    {
     "data": {
      "text/plain": [
       "3.07166240833986"
      ]
     },
     "execution_count": 86,
     "metadata": {},
     "output_type": "execute_result"
    }
   ],
   "source": [
    "df = pd.DataFrame(ByAddBackClose, columns=['ByAddBackClose'])\n",
    "returns = df['ByAddBackClose'] + 1\n",
    "returns.product()"
   ]
  },
  {
   "cell_type": "code",
   "execution_count": 85,
   "metadata": {},
   "outputs": [
    {
     "data": {
      "text/plain": [
       "6.466738845153519"
      ]
     },
     "execution_count": 85,
     "metadata": {},
     "output_type": "execute_result"
    }
   ],
   "source": [
    "df = pd.DataFrame(ByAdjClose, columns=['ByAdjClose'])\n",
    "returns = df['ByAdjClose'].dropna() + 1\n",
    "returns.product()"
   ]
  },
  {
   "cell_type": "markdown",
   "metadata": {},
   "source": [
    "# Rolling Test using Adj Close Return"
   ]
  },
  {
   "cell_type": "code",
   "execution_count": null,
   "metadata": {},
   "outputs": [],
   "source": [
    "period_start = util.YearMonth(2000, 1)\n",
    "period_last = util.YearMonth(2023, 1)\n",
    "\n",
    "ByAddBackClose = []\n",
    "ByAdjClose = []\n",
    "\n",
    "while period_start <= period_last:\n",
    "    returns = dict()\n",
    "    for stock in all_stocks:\n",
    "        period_end = util.get_next(period_start, 12)\n",
    "        adtv = stock.get_adtv(period_start, period_end)\n",
    "\n",
    "        if adtv > 100000:\n",
    "            r = stocks.get_return(period_start, period_end, stock, False)\n",
    "            if not np.isnan(r.ByAdjClose):\n",
    "                returns[stock.ticker] = r.ByAdjClose\n",
    "\n",
    "    # sort to find top 10 return stocks using Adj Close\n",
    "    returns2 = sorted(returns.items(), key=lambda x: x[1], reverse=True)[:10]\n",
    "    top_returns = {k[0]: returns[k[0]] for k in returns2}\n",
    "\n",
    "    print(\"Evaluate 1Y since: \", period_start, top_returns.keys())\n",
    "    eval_period_end = util.get_next(period_end, 3)\n",
    "    if len(top_returns) == 10:\n",
    "        r = stocks.get_portfolio_return(period_end, eval_period_end, get_portfolio(top_returns.keys()))\n",
    "        print(\"backtest 1Q\", period_end, eval_period_end, r)\n",
    "        ByAdjClose.append(r.ByAdjClose)\n",
    "        ByAddBackClose.append(r.ByAddBackClose)\n",
    "    print(\"\")\n",
    "\n",
    "    # roll to next quarter\n",
    "    period_start = util.get_next(period_start, 3)"
   ]
  },
  {
   "cell_type": "code",
   "execution_count": 78,
   "metadata": {},
   "outputs": [
    {
     "data": {
      "text/plain": [
       "1.8382072607663853"
      ]
     },
     "execution_count": 78,
     "metadata": {},
     "output_type": "execute_result"
    }
   ],
   "source": [
    "df = pd.DataFrame(ByAddBackClose, columns=['ByAddBackClose'])\n",
    "returns = df['ByAddBackClose'] + 1\n",
    "returns.product()"
   ]
  },
  {
   "cell_type": "code",
   "execution_count": 82,
   "metadata": {},
   "outputs": [
    {
     "data": {
      "text/plain": [
       "98.17057979089792"
      ]
     },
     "execution_count": 82,
     "metadata": {},
     "output_type": "execute_result"
    }
   ],
   "source": [
    "df = pd.DataFrame(ByAdjClose, columns=['ByAdjClose'])\n",
    "returns = df['ByAdjClose'].dropna() + 1\n",
    "returns.product()"
   ]
  },
  {
   "cell_type": "markdown",
   "metadata": {},
   "source": [
    "# Manual portfolio"
   ]
  },
  {
   "cell_type": "code",
   "execution_count": 89,
   "metadata": {},
   "outputs": [
    {
     "name": "stdout",
     "output_type": "stream",
     "text": [
      "2016-01-01 2016-04-01 ByAdjClose: -0.061563 ByAddBackClose: -0.061487\n",
      "2016-01-01 2016-04-01 ByAdjClose:  1.226394 ByAddBackClose:  1.439357\n",
      "2016-04-01 2016-07-01 ByAdjClose: -0.009272 ByAddBackClose: -0.012249\n",
      "2016-04-01 2016-07-01 ByAdjClose:  1.147053 ByAddBackClose:  1.065803\n",
      "2016-07-01 2016-10-01 ByAdjClose: -0.023897 ByAddBackClose: -0.023897\n",
      "2016-07-01 2016-10-01 ByAdjClose:  0.894608 ByAddBackClose:  0.672889\n",
      "2016-10-01 2017-01-01 ByAdjClose:  0.132548 ByAddBackClose:  0.129483\n",
      "2016-10-01 2017-01-01 ByAdjClose: -0.387942 ByAddBackClose: -0.522571\n",
      "2017-01-01 2017-04-01 ByAdjClose:  0.139831 ByAddBackClose:  0.139806\n",
      "2017-01-01 2017-04-01 ByAdjClose:  27.923594 ByAddBackClose:  26.278453\n",
      "2017-04-01 2017-07-01 ByAdjClose:  0.023692 ByAddBackClose:  0.021239\n",
      "2017-04-01 2017-07-01 ByAdjClose:  1.846036 ByAddBackClose:  1.674333\n",
      "2017-07-01 2017-10-01 ByAdjClose: -0.013235 ByAddBackClose: -0.013235\n",
      "2017-07-01 2017-10-01 ByAdjClose:  1.032140 ByAddBackClose:  0.938598\n",
      "2017-10-01 2018-01-01 ByAdjClose: -0.015898 ByAddBackClose: -0.015898\n",
      "2017-10-01 2018-01-01 ByAdjClose:  1.130319 ByAddBackClose:  1.012007\n",
      "2018-01-01 2018-04-01 ByAdjClose: -0.061915 ByAddBackClose: -0.061303\n",
      "2018-01-01 2018-04-01 ByAdjClose:  0.792363 ByAddBackClose:  0.666159\n",
      "2018-04-01 2018-07-01 ByAdjClose: -0.041243 ByAddBackClose: -0.041479\n",
      "2018-04-01 2018-07-01 ByAdjClose: -0.451446 ByAddBackClose: -0.324132\n",
      "2018-07-01 2018-10-01 ByAdjClose: -0.018379 ByAddBackClose: -0.018380\n",
      "2018-07-01 2018-10-01 ByAdjClose: -0.272257 ByAddBackClose: -0.219562\n",
      "2018-10-01 2019-01-01 ByAdjClose: -0.143940 ByAddBackClose: -0.143940\n",
      "2018-10-01 2019-01-01 ByAdjClose:  0.098107 ByAddBackClose:  0.098881\n",
      "2019-01-01 2019-04-01 ByAdjClose: -0.007910 ByAddBackClose: -0.007959\n",
      "2019-01-01 2019-04-01 ByAdjClose:  0.901466 ByAddBackClose:  0.882532\n",
      "2019-04-01 2019-07-01 ByAdjClose: -0.053340 ByAddBackClose: -0.053258\n",
      "2019-04-01 2019-07-01 ByAdjClose:  1.594193 ByAddBackClose:  1.578388\n",
      "2019-07-01 2019-10-01 ByAdjClose:  0.009048 ByAddBackClose:  0.009048\n",
      "2019-07-01 2019-10-01 ByAdjClose:  2.015958 ByAddBackClose:  1.992556\n",
      "2019-10-01 2020-01-01 ByAdjClose:  0.027470 ByAddBackClose:  0.027470\n",
      "2019-10-01 2020-01-01 ByAdjClose:  3.097188 ByAddBackClose:  3.059726\n",
      "2020-01-01 2020-04-01 ByAdjClose: -0.355374 ByAddBackClose: -0.354537\n",
      "2020-01-01 2020-04-01 ByAdjClose: -0.286285 ByAddBackClose: -0.238268\n",
      "2020-04-01 2020-07-01 ByAdjClose:  0.234323 ByAddBackClose:  0.232580\n",
      "2020-04-01 2020-07-01 ByAdjClose:  1.701880 ByAddBackClose:  1.656899\n",
      "2020-07-01 2020-10-01 ByAdjClose: -0.045096 ByAddBackClose: -0.045094\n",
      "2020-07-01 2020-10-01 ByAdjClose:  0.598966 ByAddBackClose:  0.578061\n",
      "2020-10-01 2021-01-01 ByAdjClose:  0.183340 ByAddBackClose:  0.183339\n",
      "2020-10-01 2021-01-01 ByAdjClose:  0.647588 ByAddBackClose:  0.641468\n",
      "2021-01-01 2021-04-01 ByAdjClose:  0.073414 ByAddBackClose:  0.073415\n",
      "2021-01-01 2021-04-01 ByAdjClose:  1.373758 ByAddBackClose:  1.386948\n",
      "2021-04-01 2021-07-01 ByAdjClose:  0.044886 ByAddBackClose:  0.044029\n",
      "2021-04-01 2021-07-01 ByAdjClose:  0.979962 ByAddBackClose:  0.961183\n",
      "2021-07-01 2021-10-01 ByAdjClose: -0.064434 ByAddBackClose: -0.064434\n",
      "2021-07-01 2021-10-01 ByAdjClose:  0.322663 ByAddBackClose:  0.314780\n",
      "2021-10-01 2022-01-01 ByAdjClose: -0.004407 ByAddBackClose: -0.004408\n",
      "2021-10-01 2022-01-01 ByAdjClose:  0.831004 ByAddBackClose:  0.827859\n",
      "2022-01-01 2022-04-01 ByAdjClose: -0.067166 ByAddBackClose: -0.067167\n",
      "2022-01-01 2022-04-01 ByAdjClose: -0.470939 ByAddBackClose: -0.438303\n",
      "2022-04-01 2022-07-01 ByAdjClose:  0.101408 ByAddBackClose:  0.101408\n",
      "2022-04-01 2022-07-01 ByAdjClose:  1.207181 ByAddBackClose:  1.191322\n",
      "2022-07-01 2022-10-01 ByAdjClose: -0.043119 ByAddBackClose: -0.043119\n",
      "2022-07-01 2022-10-01 ByAdjClose:  7.789021 ByAddBackClose:  7.618736\n",
      "2022-10-01 2023-01-01 ByAdjClose:  0.057723 ByAddBackClose:  0.057724\n",
      "2022-10-01 2023-01-01 ByAdjClose: -0.755316 ByAddBackClose: -0.799648\n",
      "2023-01-01 2023-04-01 ByAdjClose:  0.180631 ByAddBackClose:  0.180631\n",
      "2023-01-01 2023-04-01 ByAdjClose:  0.935244 ByAddBackClose:  0.942279\n",
      "2023-04-01 2023-07-01 ByAdjClose:  0.384393 ByAddBackClose:  0.381317\n",
      "2023-04-01 2023-07-01 ByAdjClose:  0.464173 ByAddBackClose:  0.464150\n",
      "2023-07-01 2023-10-01 ByAdjClose:  0.103976 ByAddBackClose:  0.104052\n",
      "2023-07-01 2023-10-01 ByAdjClose:  0.134621 ByAddBackClose:  0.134621\n",
      "2023-10-01 2024-01-01 ByAdjClose:  0.067865 ByAddBackClose:  0.067865\n",
      "2023-10-01 2024-01-01 ByAdjClose:  0.037168 ByAddBackClose:  0.037168\n",
      "2024-01-01 2024-04-01 ByAdjClose:  0.020218 ByAddBackClose:  0.020218\n",
      "2024-01-01 2024-04-01 ByAdjClose:  0.015826 ByAddBackClose:  0.015826\n"
     ]
    }
   ],
   "source": [
    "dy1 = [\"M01\", \"5DD\", \"CC3\", \"i07\", \"BN4\"]\n",
    "dy2 = [\"L38\", \"E5H\", \"1D0\", \"Z74\", \"CY6U\"]\n",
    "ww = [\"A04\", \"5VP\", \"BQD\", \"F03\", \"NO4\", \"41B\", \"A34\", \"T14\", \"Q0X\"]\n",
    "\n",
    "period_start = util.YearMonth(2015, 1)\n",
    "period_last = util.YearMonth(2023, 1)\n",
    "\n",
    "portfolio = stocks.loads(ww)\n",
    "while period_start <= period_last:\n",
    "    period_end = util.get_next(period_start, 12)\n",
    "    backtest_period_start = period_end\n",
    "    backtest_period_end = util.get_next(backtest_period_start, 3)\n",
    "\n",
    "    returns = stocks.get_returns(period_start, period_end, portfolio)\n",
    "    w1 = stocks.get_weights_by_returns(returns)\n",
    "\n",
    "    r = stocks.get_portfolio_return(backtest_period_start, backtest_period_end, portfolio)\n",
    "    print(backtest_period_start, backtest_period_end, r)\n",
    "\n",
    "    r = stocks.get_portfolio_return(period_end, eval_period_end, portfolio, w1.ByAddBackClose)\n",
    "    print(backtest_period_start, backtest_period_end, r)\n",
    "\n",
    "    # roll to next quarter\n",
    "    period_start = util.get_next(period_start, 3)"
   ]
  },
  {
   "cell_type": "code",
   "execution_count": null,
   "metadata": {},
   "outputs": [],
   "source": [
    "# stock = stocks.load(\"D05\")\n",
    "# print(stock.get_sector())\n",
    "df = util.to_df(info.get_all_avg_vol(), ['Ticker', 'AvergeVolume'])\n",
    "df.AvergeVolume = df.AvergeVolume / 10000\n",
    "df = df[df.AvergeVolume>1].sort_values(by=['AvergeVolume'])\n",
    "\n",
    "# df = util.to_df(info.get_all_mc(), ['Ticker', 'MarketCap'])\n",
    "# df.MarketCap = df.MarketCap / 1000000\n",
    "# df = df[df.MarketCap>1000].sort_values(by=['MarketCap'])\n",
    "\n",
    "items = stocks.loads(df.Ticker.to_list())\n",
    "\n",
    "for stock in items:\n",
    "    print(stock)"
   ]
  },
  {
   "cell_type": "markdown",
   "metadata": {},
   "source": [
    "# Adj Close return vs AddBack Return"
   ]
  },
  {
   "cell_type": "code",
   "execution_count": 183,
   "metadata": {},
   "outputs": [
    {
     "name": "stdout",
     "output_type": "stream",
     "text": [
      "-0.0002463114195503293\n",
      "-0.00044110314428133615\n"
     ]
    },
    {
     "data": {
      "text/plain": [
       "0.04505055363062538"
      ]
     },
     "execution_count": 183,
     "metadata": {},
     "output_type": "execute_result"
    }
   ],
   "source": [
    "# stock = stocks.load(\"D05\")\n",
    "stock = stocks.load(\"D8DU\")\n",
    "df = stocks.get_addback_close(stock, \"2022-01-01\", \"2024-01-01\")\n",
    "\n",
    "return_adj_close = df[\"Adj Close\"].pct_change().dropna()\n",
    "return_addback_close = df[\"AddBackClose\"].pct_change().dropna()\n",
    "\n",
    "print(return_addback_close.mean())\n",
    "print(return_adj_close.mean())\n",
    "return_adj_close.std()  / return_addback_close.std() - 1\n",
    "# return_adj_close.mean()  / return_addback_close.mean() - 1"
   ]
  },
  {
   "cell_type": "code",
   "execution_count": 195,
   "metadata": {},
   "outputs": [
    {
     "data": {
      "text/plain": [
       "0.000718800466679042"
      ]
     },
     "execution_count": 195,
     "metadata": {},
     "output_type": "execute_result"
    }
   ],
   "source": [
    "df = pd.concat([return_addback_close, return_adj_close], axis=1)\n",
    "df.cov().iloc[0, 1]"
   ]
  },
  {
   "cell_type": "markdown",
   "metadata": {},
   "source": [
    "# Stock Market Cap Distribution"
   ]
  },
  {
   "cell_type": "code",
   "execution_count": null,
   "metadata": {},
   "outputs": [],
   "source": [
    "df = util.to_df(info.get_all_mc(), ['Ticker', 'MarketCap'])\n",
    "df.MarketCap = df.MarketCap / 1000000\n",
    "plt = df[df.MarketCap<100].MarketCap.plot.hist(bins=50, alpha=0.5, title='SGX Stock Market Cap Distribution - Below(100M SGD)')\n",
    "plt.legend(['Total 365 stocks'])\n",
    "plt.set_xlabel(\"Market Cap (1M)\")\n",
    "plt.get_figure().savefig('mc_100M.png')\n",
    "\n",
    "plt = df[df.MarketCap>100][df.MarketCap<1500].MarketCap.plot.hist(bins=50, alpha=0.5, title='SGX Stock Market Cap Distribution - 100M~1.5B SGD)')\n",
    "plt.legend(['Total 188 stocks'])\n",
    "plt.set_xlabel(\"Market Cap (1M)\")\n",
    "plt.get_figure().savefig('mc_100M_1.5B.png')\n",
    "\n",
    "plt = df[df.MarketCap>1500][df.MarketCap<30000].MarketCap.plot.hist(bins=50, alpha=0.5, title='SGX Stock Market Cap Distribution - 1.5B~30B SGD)')\n",
    "plt.legend(['Total 62 stocks'])\n",
    "plt.set_xlabel(\"Market Cap (1M)\")\n",
    "plt.get_figure().savefig('mc_1.5B_20B.png')\n",
    "\n",
    "df[df.MarketCap>10000].sort_values(by=['MarketCap']).to_csv(\"mc_10B_plus.csv\", index=False, float_format='%.6f')"
   ]
  },
  {
   "cell_type": "markdown",
   "metadata": {},
   "source": [
    "# Average Daily Trading Volume Hist"
   ]
  },
  {
   "cell_type": "code",
   "execution_count": null,
   "metadata": {},
   "outputs": [],
   "source": [
    "df = util.to_df(info.get_all_avg_vol(), ['Ticker', 'AvergeVolume'])\n",
    "df.AvergeVolume = df.AvergeVolume / 10000\n",
    "\n",
    "plt = df[df.AvergeVolume<=1].plot.hist(bins=50, alpha=0.5, title='SGX Average Daily Trading Volume (ADTV) - Below(10K SGD)')\n",
    "plt.set_xlabel(\"ADTV (10K)\")\n",
    "plt.legend(['ADTV Total 365 stocks'])\n",
    "plt.get_figure().savefig('adtv_10K.png')\n",
    "\n",
    "plt = df[1<df.AvergeVolume][df.AvergeVolume<=30].plot.hist(bins=50, alpha=0.5, title='SGX Average Daily Trading Volume (ADTV) 10K~300K SGD')\n",
    "plt.set_xlabel(\"ADTV (10K)\")\n",
    "plt.legend(['ADTV Total 207 stocks'])\n",
    "plt.get_figure().savefig('adtv_10K_300K.png')\n",
    "\n",
    "plt = df[df.AvergeVolume>30][df.AvergeVolume<=300].plot.hist(bins=50, alpha=0.5, title='SGX Average Daily Trading Volume (ADTV) 300K~3M SGD')\n",
    "plt.set_xlabel(\"ADTV (10K)\")\n",
    "plt.legend(['ADTV Total 68 stocks'])\n",
    "plt.get_figure().savefig('adtv_300K_3M.png')\n",
    "\n",
    "df[df.AvergeVolume>300].sort_values(by=['AvergeVolume']).to_csv(\"adtv_3M_plus.csv\", index=False, float_format='%.6f')"
   ]
  },
  {
   "cell_type": "markdown",
   "metadata": {},
   "source": [
    "# STI Estimate"
   ]
  },
  {
   "cell_type": "code",
   "execution_count": null,
   "metadata": {},
   "outputs": [],
   "source": [
    "es3 = stocks.load(\"ES3\")\n",
    "df = stocks.get_addback_close(es3, \"2010-03-01\", \"2024-03-15\")\n",
    "df[\"Adj Close\"] = df[\"Adj Close\"] * 990\n",
    "df[\"AddBackClose\"] = df[\"AddBackClose\"] * 1010\n",
    "df[\"Close\"] = df[\"Close\"] * 1000\n",
    "\n",
    "plt = df.plot(x=\"Day\", y = [\"AddBackClose\", \"Close\", \"Adj Close\"], linewidth=0.8, figsize=(15, 10), title=\"Esitmated STI\")\n",
    "plt.legend(['Estimated STI if add back dividend', 'STI', 'Estimated STI if use Adj Close'])\n",
    "plt.get_figure().savefig('STI_estimated.png')"
   ]
  }
 ],
 "metadata": {
  "kernelspec": {
   "display_name": "Python 3",
   "language": "python",
   "name": "python3"
  },
  "language_info": {
   "codemirror_mode": {
    "name": "ipython",
    "version": 3
   },
   "file_extension": ".py",
   "mimetype": "text/x-python",
   "name": "python",
   "nbconvert_exporter": "python",
   "pygments_lexer": "ipython3",
   "version": "3.11.5"
  }
 },
 "nbformat": 4,
 "nbformat_minor": 2
}
