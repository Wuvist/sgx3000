{
 "cells": [
  {
   "cell_type": "markdown",
   "metadata": {},
   "source": [
    "# Everything you need to know about Singapore equity market.\n",
    "\n",
    "## 1. Research Question and Motivation\n",
    "\n",
    "We start with brainstorming:\n",
    "\n",
    "As foreigner students, why you chose Singapore as your destination ? \n",
    "\n",
    "I believe one of reason is that Singapore is a wealthy country. Singapore's economy is often referred to as a \"miracle\" due to its rapid transformation from a developing country to a developed, high-income economy in a relatively short period of time. \n",
    "\n",
    "The seconde question is that you want to be wealthy in Singapore ? How would you do to achieve this goal? \n",
    "\n",
    "There is a option - invest in Singapore equity market.\n",
    "\n",
    "How do you know about the Singapore equity market? While the Singapore stock market may not be as exciting as its US counterpart, it is known for its stability and high dividends. \n",
    "\n",
    "Our team aims at the following research question about Singapore equity market:\n",
    "\n",
    "### 1. The overall introduction of Singapore equity market.\n",
    "### 2. The characterizes  of Singapore equity market.\n",
    "### 3. The development path of Singapore equity market.\n",
    "### 4. Based on above analysis, give the conclusion of the worthiness of investing in Singapore equity market. And some suggestion of investment.\n",
    "### 5. Simulated investment in Singapore equity market. Analysis the results.\n"
   ]
  },
  {
   "cell_type": "markdown",
   "metadata": {},
   "source": [
    "# 2. Overall introduction\n",
    "\n",
    "## 2.1 Data Needed\n"
   ]
  },
  {
   "cell_type": "markdown",
   "metadata": {},
   "source": [
    "# 3.The characterizes of Singapore equity market\n",
    "\n",
    "### 3.1 High Dividends\n",
    "\n",
    "### 3.2 Accessibility and Connection\n",
    "\n",
    "#### 3.2.1 Analysis field\n",
    "\n",
    "In this section, We will use REITS market to analysis the accessibility and connection of Singapore equity market.\n",
    "\n",
    "*Data Needed*: The 42 REITs listed on SG exchange. The data including:\n",
    "1. The price of these REITs in over 5 years.\n",
    "2. The dividends they paid in past 5 years, and the yields.\n",
    "3. The price of SG market indicator \"The Straits Times Index (STI)\",American market indicator \"The Standard and Poor's 500\" and \"Chinese market The Shanghai Stock Exchange (SSE) Composite Index\" over past one year.\n",
    "4. The price of SG bond index \"ABF Singapore Bond Index Fd\"  over pase one year.\n",
    "5. For comparison of U.S. market, the price of \"FTSE NAREIT Equity REIT Index\" and \"S&P 500\" over past one year.\n",
    "\n",
    "\n",
    "##### (1). The Real Estate Investment Trust (REIT)\n",
    "\n",
    "###### (1.1) What is REITs\n",
    "\n",
    "A real estate investment trust (REIT) is a company that owns, operates, or finances income-generating real estate. They package these real estate as mutual funds and put into equity market.\n",
    "\n",
    "The function of REITs is similar to stock. They pool the capital of numerous investors. This makes it possible for individual investors to earn dividends from real estate investments—without having to buy, manage, or finance any properties themselves. Compared with physical real estate investments, REITs is more accessible and liquid.\n",
    "\n",
    "REITs invest in most real estate property types, including apartment buildings, cell towers, data centers, hotels, medical facilities, offices, retail centers, and warehouses. In other words, REITs is flexible in invest in commercial, public and residential property at period. In contrast, the physical real estate investments may not achieve this diversification.\n",
    "\n",
    "\n",
    "Types of REITs: \n",
    "+------------------------+-------------------+---------------+\n",
    "|                        |  own and manage   | Revenues      |\n",
    "+========================+:=================:+:=============:+\n",
    "| Equity REITs           | income-producing  | rents         |\n",
    "|                        |  real estate      |               |\n",
    "+------------------------+-------------------+---------------+\n",
    "| Mortgage REITs         |  Holds mortgages  | net           |\n",
    "|                        |  on real property |interest margin|\n",
    "+------------------------+-------------------+---------------+\n",
    "| Hybrid REITs           |                   |               |\n",
    "+------------------------+-------------------+---------------+\n",
    "\n",
    "###### (1.2) S-REITs \n",
    "\n",
    "Singapore REITs are an important component of Singapore’s stock market\n",
    "\n",
    "Largest REIT market in Asia ex-Japan.\n",
    "<https://www.reitas.sg/singapore-reits/overview-of-the-s-reit-industry/>"
   ]
  },
  {
   "cell_type": "markdown",
   "metadata": {},
   "source": [
    "##### (2). characterizes of REITs\n",
    "\n",
    "###### (2.1) High dividends\n",
    "\n",
    "By law and IRS regulation, REITs must pay out 90% or more of their taxable profits to shareholders in the form of dividends. As a result, REIT companies are often exempt from most corporate income tax.\n",
    "\n",
    "We should generate a visualized view of that how the dividends from REITs is high. \n",
    "\n",
    "*Approach*: \n",
    "1. Plot the REITs yield rate and average yield, compare the return from REITs sector to the average return from other sector.\n",
    "\n",
    "2. Plot the average distribution yields by sub-Sector of REITs.\n",
    "\n",
    "##### (2.2) Exposure to global real estate\n",
    "\n",
    "Over 90% of S-REITS own properties outside Singapore. Which market the REITs suffer most?\n",
    "\n",
    "*Approach*: \n",
    "1. Regress the FTSE ST REIT Index on three different market, identify the foreigner market contributor of the price of REITs.\n",
    "\n",
    "2. Based on above regression, use CAPM model to calculate the $\\beta$ of REITs for further analysis.\n",
    "\n",
    "#### (2.3) Long-term investment\n",
    "\n",
    "REITs offer a strong, stable annual dividend and the potential for long-term capital appreciation.\n",
    "*Approach*:\n",
    "1. Using the average annual total returns in FTSE ST REIT Index to generate the yield curve from 1 year to 25 years.\n",
    "\n",
    "2. In contrast, plot the yield curve in stock index, bonds of SG market, combined with U.S. REITs and  U.S. Market index. \n",
    "\n",
    "3. Compare the long term return of each financial assets, to analysis the connection of REITs and other equity and identify the long-term advantage of REITs.\n",
    "\n",
    "##### (2.4) Mitigate economic cycle risk\n",
    "\n",
    "Combining assets that exhibit low performance correlation can play an important role in reducing portfolio risk without sacrificing return potential. REITs is a good portfolio diversifier.\n",
    "\n",
    "*Approach*:\n",
    "1. Generate following portfolios:\n",
    "(1) 55% Market index funds + 35% Bonds + 10% REITs \n",
    "(2) 40% Market index funds + 40% Bonds + 20% REITs\n",
    "(3) 33.3% Market index funds + 33.3% Bonds + 33.3% REITs\n",
    "(4) 60% Market index funds + 40% Bonds\n",
    "(5) 80% Market index funds + 20% Bonds\n",
    "\n",
    "2. Calculate the expected returns, standard deviation of returns and Sharpe ratio on these portfolios.\n",
    "\n",
    "3. Rank these portfolio under Sharpe ration, and plot the scatter diagram in average return and standard deviation.\n",
    "\n",
    "4. Compare the average annualized return between the portfolios with REITs and without REITs. \n",
    "Analysis the ability of REITs in diversification of risk."
   ]
  },
  {
   "cell_type": "markdown",
   "metadata": {},
   "source": [
    "\n",
    "### 3.3 Low liquidity and risk"
   ]
  },
  {
   "cell_type": "markdown",
   "metadata": {},
   "source": [
    "# 4.The development path of Singapore equity market."
   ]
  },
  {
   "cell_type": "markdown",
   "metadata": {},
   "source": [
    "# 5. Simulated investment in Singapore equity market"
   ]
  }
 ],
 "metadata": {
  "language_info": {
   "name": "python"
  }
 },
 "nbformat": 4,
 "nbformat_minor": 2
}
