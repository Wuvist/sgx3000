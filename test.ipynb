{
 "cells": [
  {
   "cell_type": "code",
   "execution_count": 1,
   "metadata": {},
   "outputs": [],
   "source": [
    "import pandas as pd\n",
    "import json"
   ]
  },
  {
   "cell_type": "code",
   "execution_count": 2,
   "metadata": {},
   "outputs": [],
   "source": [
    "df = pd.read_csv(\"data/D8DU.csv\")"
   ]
  },
  {
   "cell_type": "code",
   "execution_count": 63,
   "metadata": {},
   "outputs": [
    {
     "name": "stdout",
     "output_type": "stream",
     "text": [
      "34 d 0.155055 0.155055 0.0242 0\n",
      "101 d 0.164737 0.164737 0.0259 0.0242\n",
      "163 d 0.190054 0.190054 0.028 0.0501\n",
      "227 d 0.076485 0.076485 0.0305 0.0781\n",
      "289 d 0.077532 0.077532 0.0308 0.1086\n",
      "350 d 0.071889 0.071889 0.0245 0.1394\n",
      "415 d 0.123071 0.123071 0.0245 0.1639\n",
      "449 d 0.120658 0.120658 0.0127 0.18839999999999998\n",
      "482 d 0.119125 0.119125 0.0023 0.20109999999999997\n",
      "542 d 0.1191 0.1191 0.015 0.20339999999999997\n",
      "600 d 0.130322 0.130322 0.015 0.21839999999999998\n",
      "668 d 0.08747 0.08747 0.0095 0.2334\n",
      "730 d 0.095849 0.095849 0.0095 0.2429\n",
      "791 d 0.09896 0.09896 0.0095 0.2524\n",
      "854 d 0.091063 0.091063 0.0095 0.2619\n",
      "890 d 0.085069 0.085069 0.0087 0.27140000000000003\n",
      "916 d 0.08176 0.08176 0.0008 0.2801\n",
      "980 d 0.075835 0.075835 0.0095 0.28090000000000004\n",
      "1041 d 0.050782 0.050782 0.001 0.29040000000000005\n",
      "1107 d 0.047398 0.047398 0.001 0.29140000000000005\n",
      "3061 d 0.020824 0.020824 0.015 0.29240000000000005\n",
      "3122 d 0.02224 0.02224 0.015 0.30740000000000006\n",
      "3250 d 0.02972 0.02972 0.015 0.3224000000000001\n",
      "3367 d 0.042483 0.042483 0.02 0.3374000000000001\n",
      "3499 d 0.045944 0.045944 0.015 0.3574000000000001\n",
      "3689 d 0.053846 0.053846 0.016 0.3724000000000001\n"
     ]
    }
   ],
   "source": [
    "size = len(df)\n",
    "\n",
    "delta = 0\n",
    "df['RClose'] = df.Close\n",
    "last_dividend = 0\n",
    "\n",
    "for i in range(0, size):\n",
    "    row = df.iloc[i]\n",
    "\n",
    "    if row.Dividends > 0:\n",
    "        gap = row.Dividends / (i - last_dividend)\n",
    "        print(i, \"d\", row.RClose, df.at[i, \"RClose\"], row.Dividends, delta)\n",
    "        for j in range(last_dividend + 1, i):\n",
    "             df.at[j, \"RClose\"] = df.iloc[j].RClose + gap*(j - last_dividend) + delta\n",
    "        df.at[i, \"RClose\"] = row.RClose + row.Dividends + delta\n",
    "\n",
    "        delta += row.Dividends\n",
    "        last_dividend = i\n",
    "\n",
    "if delta > 0:\n",
    "    for i in range(last_dividend + 1, size):\n",
    "        df.at[i, \"RClose\"] = df.iloc[i].RClose + delta\n",
    "    "
   ]
  },
  {
   "cell_type": "code",
   "execution_count": 58,
   "metadata": {},
   "outputs": [],
   "source": [
    "df.to_csv(\"data/D05.csv\", index=False, float_format='%.6f')"
   ]
  },
  {
   "cell_type": "code",
   "execution_count": 4,
   "metadata": {},
   "outputs": [],
   "source": [
    "dividends = df[df.Dividends >0]"
   ]
  },
  {
   "cell_type": "code",
   "execution_count": 11,
   "metadata": {},
   "outputs": [],
   "source": [
    "dividends.reset_index(drop=True, inplace=True)"
   ]
  }
 ],
 "metadata": {
  "kernelspec": {
   "display_name": "Python 3",
   "language": "python",
   "name": "python3"
  },
  "language_info": {
   "codemirror_mode": {
    "name": "ipython",
    "version": 3
   },
   "file_extension": ".py",
   "mimetype": "text/x-python",
   "name": "python",
   "nbconvert_exporter": "python",
   "pygments_lexer": "ipython3",
   "version": "3.11.4"
  }
 },
 "nbformat": 4,
 "nbformat_minor": 2
}
