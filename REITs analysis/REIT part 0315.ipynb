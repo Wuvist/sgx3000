{
 "cells": [
  {
   "cell_type": "markdown",
   "metadata": {},
   "source": [
    "# The Real Estate Investment Trust (REIT)\n",
    "\n",
    "## What is REITs\n",
    "\n",
    "A real estate investment trust (REIT) is a company that owns, operates, or finances income-generating real estate. They package properties they owned as mutual trusts and put into equity market.\n",
    "\n",
    "The function of REITs is similar to stock. They pool the capital of numerous investors. This makes it possible for individual investors to earn dividends from real estate investments without having to buy, manage, or finance any properties themselves. Compared with physical real estate investments, REITs is more accessible and liquid.\n",
    "\n",
    "Moreover, REITs invest in most real estate property types, including apartment buildings, data centers, hotels, medical facilities, offices, retail centers, and warehouses etc. In other words, REITs is flexible in invest in commercial, public and residential property at same period. In contrast, the physical real estate investments may not achieve this diversification.\n",
    "\n",
    "\n",
    "## S-REITs \n",
    "\n",
    "Singapore REITs are an important component of Singapore’s stock market\n",
    "\n",
    "Largest REIT market in Asia ex-Japan. Specially, one-fifth the stock market of SG is taken by REITs.\n",
    "Source: <https://www.reitas.sg/singapore-reits/overview-of-the-s-reit-industry/>"
   ]
  },
  {
   "cell_type": "code",
   "execution_count": 275,
   "metadata": {},
   "outputs": [
    {
     "ename": "AttributeError",
     "evalue": "'float' object has no attribute 'get_height'",
     "output_type": "error",
     "traceback": [
      "\u001b[1;31m---------------------------------------------------------------------------\u001b[0m",
      "\u001b[1;31mAttributeError\u001b[0m                            Traceback (most recent call last)",
      "Cell \u001b[1;32mIn[275], line 19\u001b[0m\n\u001b[0;32m     16\u001b[0m \u001b[38;5;66;03m# Label the data points on top of each bar\u001b[39;00m\n\u001b[0;32m     17\u001b[0m \u001b[38;5;28;01mfor\u001b[39;00m bar \u001b[38;5;129;01min\u001b[39;00m bars:\n\u001b[0;32m     18\u001b[0m     \u001b[38;5;66;03m# Get bar height from the bar object\u001b[39;00m\n\u001b[1;32m---> 19\u001b[0m     bar_height \u001b[38;5;241m=\u001b[39m \u001b[43mbar\u001b[49m\u001b[38;5;241;43m.\u001b[39;49m\u001b[43mget_height\u001b[49m()\n\u001b[0;32m     20\u001b[0m     plt\u001b[38;5;241m.\u001b[39mtext(bar\u001b[38;5;241m.\u001b[39mget_x() \u001b[38;5;241m+\u001b[39m bar\u001b[38;5;241m.\u001b[39mget_width() \u001b[38;5;241m/\u001b[39m \u001b[38;5;241m2\u001b[39m, bar_height \u001b[38;5;241m+\u001b[39m \u001b[38;5;241m1\u001b[39m, \u001b[38;5;28mstr\u001b[39m(bar_height), ha\u001b[38;5;241m=\u001b[39m\u001b[38;5;124m'\u001b[39m\u001b[38;5;124mcenter\u001b[39m\u001b[38;5;124m'\u001b[39m)\n\u001b[0;32m     23\u001b[0m \u001b[38;5;66;03m# Display the chart\u001b[39;00m\n",
      "\u001b[1;31mAttributeError\u001b[0m: 'float' object has no attribute 'get_height'"
     ]
    },
    {
     "data": {
      "image/png": "[encoded data removed]",
      "text/plain": [
       "<Figure size 640x480 with 1 Axes>"
      ]
     },
     "metadata": {},
     "output_type": "display_data"
    }
   ],
   "source": [
    "import matplotlib.pyplot as plt\n",
    "\n",
    "# Replace with your actual data (lists, NumPy arrays, or Pandas DataFrames)\n",
    "data = [74.4, 4.3, 83.4, 105.8, 59.4, 1135.53]  # Sample data (replace with your data)\n",
    "categories = [\"Singapore\", \"China\", \"Australia\", \"Japan\", \"UK\", \"United States\"]  # Category labels for the bars (optional)\n",
    "\n",
    "# Create the bar chart\n",
    "p1=plt.bar(categories, data, color='blue')  \n",
    "\n",
    "# Add labels and title for the chart\n",
    "plt.xlabel(\"Countries\")\n",
    "plt.ylabel(\"REIT market cap (US$BIL)\")\n",
    "plt.title(\"Market cap comparisons\")\n",
    "\n",
    "# Label the data points on top of each bar\n",
    "for bar in bars:\n",
    "    # Get bar height from the bar object\n",
    "    bar_height = bar.get_height()\n",
    "    plt.text(bar.get_x() + bar.get_width() / 2, bar_height + 1, str(bar_height), ha='center')\n",
    "\n",
    "# Display the chart\n",
    "p1\n"
   ]
  },
  {
   "cell_type": "markdown",
   "metadata": {},
   "source": [
    "The market cap of S-REITs is comparable to Australia and UK. In percentage of the entire stock market, S-REITs shows a large impacts."
   ]
  },
  {
   "cell_type": "code",
   "execution_count": 91,
   "metadata": {},
   "outputs": [
    {
     "name": "stdout",
     "output_type": "stream",
     "text": [
      "+-----------+---------------------------+--------------+\n",
      "| Country   |   REIT Market Cap(US$BIL) | Percentage   |\n",
      "+===========+===========================+==============+\n",
      "| Singapore |                      74.4 | 12%          |\n",
      "+-----------+---------------------------+--------------+\n",
      "| Japan     |                     105.8 | 3.5%         |\n",
      "+-----------+---------------------------+--------------+\n",
      "| Australia |                      83.4 | 6%           |\n",
      "+-----------+---------------------------+--------------+\n",
      "| UK        |                      59.4 | 2.2%         |\n",
      "+-----------+---------------------------+--------------+\n"
     ]
    }
   ],
   "source": [
    "import tabulate\n",
    "\n",
    "data = [\n",
    "    [\"Singapore\", 74.4, \"12%\"],\n",
    "    [\"Japan\", 105.8, \"3.5%\"],\n",
    "    [\"Australia\", 83.4, \"6%\"],\n",
    "    [\"UK\", 59.4, \"2.2%\"],\n",
    "]\n",
    "headers = [\"Country\", \"REIT Market Cap(US$BIL)\", \"Percentage\"]\n",
    "\n",
    "# Create the table (adjust format as needed)\n",
    "table = tabulate.tabulate(data, headers=headers, tablefmt=\"grid\")\n",
    "print(table)\n"
   ]
  },
  {
   "cell_type": "markdown",
   "metadata": {},
   "source": [
    "## characterizes of REITs\n",
    "\n",
    "### High dividends but low value\n",
    "\n",
    "By law and IRS regulation, REITs must pay out 90% or more of their taxable profits to shareholders in the form of dividends. As a result, REIT companies are often exempt from most corporate income tax. Hence, REITs provide a high dividend for investors.\n",
    "\n",
    "*Forward dividend & yield*\n",
    "The percentage of a company's current stock price that it expects to pay out as dividends over 12 months. (Based on 15th March close price calculation)\n"
   ]
  },
  {
   "cell_type": "markdown",
   "metadata": {},
   "source": [
    "REITs:\n",
    "\n",
    "Sabana REIT (SGX: M1GU)\n",
    " An industrial REIT with a portfolio of 18 properties in Singapore covering high-tech industrial, warehouse and logistics, and general industrial sectors.\n",
    "\n",
    "Keppel Pacific Oak US REIT (SGX: CMOU)\n",
    " An office REIT with 13 freehold office buildings and business campuses across eight markets in the US.\n",
    "\n",
    "Frasers Logistics & Commercial Trust (SGX: BUOU)\n",
    "  A diversified portfolio of 108 properties across Singapore, the UK, Australia, the netherlands and Germany.\n",
    "  \n",
    "Mapletree Logistics Trust (SGX: M44U)\n",
    "  An industrial REIT with a portfolio of 187 properties spread across eight countries. The price of these REITs in over one years.\n",
    "\n",
    "Stocks in other sectors (Non-REITs): \n",
    "SGX-Singapore Exchange Limited,\n",
    "Telecommunications - Singapore Telecommunications Limited,\n",
    "Industrial Goods and shipbuilding - Yangzijiang Shipbuilding (Holdings) Ltd.\n",
    "Food & Beverage- Wilmar International Limited (5%) Agriculture Golden Agri-Resources Ltd\n",
    "Transportation-Singapore Airlines Limited\n",
    "Utilities-Sembcorp Industries Ltd\n",
    "Services-United Overseas Insurance Limited\n",
    "\n",
    "Real-estate Stocks:\n",
    "Keppel Ltd.\n",
    "CapitaLand Investment Limited \n",
    "City Developments Limited\n"
   ]
  },
  {
   "cell_type": "code",
   "execution_count": 61,
   "metadata": {},
   "outputs": [
    {
     "data": {
      "image/png": "[encoded data removed]",
      "text/plain": [
       "<Figure size 800x600 with 1 Axes>"
      ]
     },
     "metadata": {},
     "output_type": "display_data"
    }
   ],
   "source": [
    "import matplotlib.pyplot as plt\n",
    "\n",
    "# Stock price and yield data (replace with your data)\n",
    "stock_price = [0.36, 0.1260, 1.02, 1.44, 9.43, 2.48, 0.27, 1.7, 3.39, 7.28, 2.67, 6.38, 5.05, 5.91,6.02,2.66,1.07,1.92,2.18,1.28,2.27,0.56,1.68,6.78,1.16,9.72,3.15]\n",
    "yields = [0.03, 0.05, 0.07, 0.09, 0.34, 0.11, 0.02, 0.05, 0.17, 0.34, 0.12, 0.38, 0.16, 0.16,0.17,0.09,0.07,0.11,0.09,0.09,0.1,0.04,0.09,0.05,0.05,0.4,0.04]\n",
    "\n",
    "# Company names (replace with your actual names)\n",
    "names = [\"Sabana\", \"Keppel\", \"Frasers\", \"Mapletreet\", \"SGX\", \n",
    "         \"STL\", \"G-Agri\", \"YZJ.\",\n",
    "         \"Wilmar\", \"Keppel Ltd. \", \"CapitaLand\", \"SIA\",\n",
    "         \"Sembcorp\", \"City Dev\",\"UOI\",\"\",\"\",\"\",\"\",\"\",\"\",\"\",\"\",\"iFAST\",\"StarHub\",\"Haw Par\",\"Bukit\"]\n",
    "\n",
    "# Group information (replace with your groupings)\n",
    "groups = ['A', 'A', 'A', 'A', 'B', 'B', 'B', 'B', 'B', 'C', 'C', 'B', 'B', 'C','B','A','A','A','A','A','A','A','A','B','B','B','C'] \n",
    "group_colors = {'A': 'blue', 'B': 'red', 'C': 'darkorange'}\n",
    "colors = [group_colors[group] for group in groups]\n",
    "\n",
    "# Create the plot\n",
    "plt.figure(figsize=(8, 6))  # Adjust figure size (optional)\n",
    "\n",
    "# Scatter plot with labels\n",
    "for i, (name, x, y) in enumerate(zip(names, stock_price, yields)):\n",
    "  plt.scatter(x, y, color=colors[i],  alpha=0.5)\n",
    "  plt.annotate(name, (x, y), textcoords=\"offset points\", xytext=(9, 4), ha=\"left\", va=\"center\", fontsize=8)  # Adjust label position\n",
    "\n",
    "# 45-degree line for average yield (adjust y-axis limits if needed)\n",
    "plt.plot([0, 10], [0, 0.5], color='black', linestyle='dashed', label='45 degree line(5%)') \n",
    "\n",
    "# Add labels and title\n",
    "plt.xlabel(\"Stock Price\")\n",
    "plt.ylabel(\"Yield (%)\")  # Clarify unit\n",
    "plt.title(\"REITs Yields vs. Other Yields\")\n",
    "\n",
    "# Add legend\n",
    "plt.legend()\n",
    "\n",
    "# Display the plot\n",
    "plt.grid(False)  # Add grid with customization\n",
    "plt.tight_layout()  # Adjust spacing for readability\n",
    "plt.show()\n"
   ]
  },
  {
   "cell_type": "markdown",
   "metadata": {},
   "source": [
    "The forward dividends & yields of REITs is relative high. However, the price of REITs less than other stocks.\n",
    "\n",
    "Why ? \n",
    "The contractual nature of commercial real estate leases and the predictability of rental income and expenses give REITs a defensive quality - the price is relative stable at certain level.\n",
    "\n",
    "### stability\n",
    "\n",
    "The character of REITs allowing analysts to more accurately forecast earnings, which helps reduce share price volatility."
   ]
  },
  {
   "cell_type": "code",
   "execution_count": 86,
   "metadata": {},
   "outputs": [
    {
     "name": "stdout",
     "output_type": "stream",
     "text": [
      "+--------------------------------------------------+-----------------+----------+-----------------+----------+\n",
      "| REITs                                            | Daily range     |   spread | 52-week range   |   spread |\n",
      "+==================================================+=================+==========+=================+==========+\n",
      "| Sabana REIT (SGX: M1GU)                          | 0.3600 - 0.3650 |   -0.005 | 0.3550 - 0.4900 |   -0.135 |\n",
      "+--------------------------------------------------+-----------------+----------+-----------------+----------+\n",
      "| Keppel Pacific Oak US REIT (SGX: CMOU)           | 0.1260 - 0.1350 |   -0.009 | 0.1230 - 0.4450 |   -0.322 |\n",
      "+--------------------------------------------------+-----------------+----------+-----------------+----------+\n",
      "| Frasers Logistics & Commercial Trust (SGX: BUOU) | 1.0200 - 1.0400 |   -0.02  | 1.0200 - 1.0400 |   -0.36  |\n",
      "+--------------------------------------------------+-----------------+----------+-----------------+----------+\n",
      "| Mapletree Logistics Trust (SGX: M44U)            | 1.4300 - 1.4600 |   -0.03  | 1.4300 - 1.8000 |   -0.37  |\n",
      "+--------------------------------------------------+-----------------+----------+-----------------+----------+\n"
     ]
    }
   ],
   "source": [
    "import tabulate\n",
    "data = [\n",
    "    [\"Sabana REIT (SGX: M1GU)\", \"0.3600 - 0.3650\", 0.3600 - 0.3650, \"0.3550 - 0.4900\",0.3550 - 0.4900],\n",
    "    [\"Keppel Pacific Oak US REIT (SGX: CMOU)\", \"0.1260 - 0.1350\",0.1260 - 0.1350,\"0.1230 - 0.4450\", 0.1230 - 0.4450],\n",
    "    [\"Frasers Logistics & Commercial Trust (SGX: BUOU)\", \"1.0200 - 1.0400\",1.0200 - 1.0400,\"1.0200 - 1.0400\", 1.0000 - 1.3600],\n",
    "    [\"Mapletree Logistics Trust (SGX: M44U)\", \"1.4300 - 1.4600\",1.4300 - 1.4600, \"1.4300 - 1.8000\",1.4300 - 1.8000],\n",
    "]\n",
    "headers = [\"REITs\", \"Daily range\",\"spread\", \"52-week range\",\"spread\"]\n",
    "\n",
    "# Create the table (adjust format as needed)\n",
    "table = tabulate.tabulate(data, headers=headers, tablefmt=\"grid\")\n",
    "print(table)"
   ]
  },
  {
   "cell_type": "markdown",
   "metadata": {},
   "source": [
    "### Exposure to global real estate\n",
    "\n",
    "Over 90% of S-REITS own properties outside Singapore. Digging deeper in the systematic risk these REITs face.\n",
    "\n",
    "For analysis, in this section, we use CSOP iEdge S-REIT Leaders Index ETF (SRU.SI) as a proxy for SREITs and SG real estate market.\n",
    "\n",
    "Top 7 Holdings of CSOP iEdge S-REIT Leaders Index ETF (55.04% of Total Assets)\n"
   ]
  },
  {
   "cell_type": "code",
   "execution_count": 82,
   "metadata": {},
   "outputs": [
    {
     "name": "stdout",
     "output_type": "stream",
     "text": [
      "+----------------------------------------+-----------+\n",
      "| REITs                                  | %Assets   |\n",
      "+========================================+===========+\n",
      "| CapitaLand Integrated Commercial Trust | 10.67%    |\n",
      "+----------------------------------------+-----------+\n",
      "| Mapletree Logistics Trust              | 9.17%     |\n",
      "+----------------------------------------+-----------+\n",
      "| Mapletree Industrial Trust             | 8.67%     |\n",
      "+----------------------------------------+-----------+\n",
      "| Frasers Logistics & Commercial Trust   | 7.39%     |\n",
      "+----------------------------------------+-----------+\n",
      "| Keppel REIT                            | 6.84%     |\n",
      "+----------------------------------------+-----------+\n",
      "| Keppel DC REIT                         | 6.34%     |\n",
      "+----------------------------------------+-----------+\n",
      "| Frasers Centrepoint Trust              | 5.98%     |\n",
      "+----------------------------------------+-----------+\n"
     ]
    }
   ],
   "source": [
    "import tabulate\n",
    "data = [\n",
    "    [\"CapitaLand Integrated Commercial Trust\", \"10.67%\"],\n",
    "    [\"Mapletree Logistics Trust\", \"9.17%\"],\n",
    "    [\"Mapletree Industrial Trust\", \"8.67%\"],\n",
    "    [\"Frasers Logistics & Commercial Trust\", \"7.39%\"],\n",
    "    [\"Keppel REIT\",\"6.84%\"],\n",
    "    [\"Keppel DC REIT\",\"6.34%\"],\n",
    "    [\"Frasers Centrepoint Trust\",\"5.98%\"]\n",
    "]\n",
    "headers = [\"REITs\", \"%Assets\"]\n",
    "\n",
    "# Create the table (adjust format as needed)\n",
    "table = tabulate.tabulate(data, headers=headers, tablefmt=\"grid\")\n",
    "print(table)"
   ]
  },
  {
   "cell_type": "code",
   "execution_count": 147,
   "metadata": {},
   "outputs": [
    {
     "name": "stderr",
     "output_type": "stream",
     "text": [
      "[*********************100%%**********************]  3 of 3 completed"
     ]
    },
    {
     "name": "stdout",
     "output_type": "stream",
     "text": [
      "Ticker             SPY  SRU.SI     STI  SPY_log_return  SRU.SI_log_return  \\\n",
      "Date                                                                        \n",
      "2023-01-03  373.956818   0.626  10.220             NaN                NaN   \n",
      "2023-01-04  376.843842   0.626  10.230        0.007691                0.0   \n",
      "2023-01-05  372.542755   0.626  10.230       -0.011479                0.0   \n",
      "2023-01-06  381.085968   0.626  10.230        0.022673                0.0   \n",
      "2023-01-09  380.869934   0.626  10.235       -0.000567                0.0   \n",
      "\n",
      "Ticker      STI_log_return  \n",
      "Date                        \n",
      "2023-01-03             NaN  \n",
      "2023-01-04        0.000978  \n",
      "2023-01-05        0.000000  \n",
      "2023-01-06        0.000000  \n",
      "2023-01-09        0.000489  \n"
     ]
    },
    {
     "name": "stderr",
     "output_type": "stream",
     "text": [
      "\n"
     ]
    }
   ],
   "source": [
    "import yfinance as yf\n",
    "import numpy as np\n",
    "start_date = \"2023-01-01\"\n",
    "end_date = \"2023-12-31\"\n",
    "tickers = [\"SRU.SI\",\"STI\"]\n",
    "\n",
    "data = yf.download(tickers, start=start_date, end=end_date)[\"Adj Close\"]\n",
    "\n",
    "for ticker in data.columns:\n",
    "    data[f\"{ticker}_log_return\"] = np.log(data[ticker] / data[ticker].shift(1))\n",
    "print(data.head())"
   ]
  },
  {
   "cell_type": "code",
   "execution_count": 149,
   "metadata": {},
   "outputs": [
    {
     "name": "stdout",
     "output_type": "stream",
     "text": [
      "                            OLS Regression Results                            \n",
      "==============================================================================\n",
      "Dep. Variable:      SRU.SI_log_return   R-squared:                       0.003\n",
      "Model:                            OLS   Adj. R-squared:                 -0.001\n",
      "Method:                 Least Squares   F-statistic:                    0.7061\n",
      "Date:                Sat, 16 Mar 2024   Prob (F-statistic):              0.402\n",
      "Time:                        20:43:38   Log-Likelihood:                 668.64\n",
      "No. Observations:                 227   AIC:                            -1333.\n",
      "Df Residuals:                     225   BIC:                            -1326.\n",
      "Df Model:                           1                                         \n",
      "Covariance Type:            nonrobust                                         \n",
      "==================================================================================\n",
      "                     coef    std err          t      P>|t|      [0.025      0.975]\n",
      "----------------------------------------------------------------------------------\n",
      "const              0.0001      0.001      0.148      0.883      -0.002       0.002\n",
      "STI_log_return    -0.0219      0.026     -0.840      0.402      -0.073       0.029\n",
      "==============================================================================\n",
      "Omnibus:                       86.636   Durbin-Watson:                   1.876\n",
      "Prob(Omnibus):                  0.000   Jarque-Bera (JB):             1913.019\n",
      "Skew:                           0.884   Prob(JB):                         0.00\n",
      "Kurtosis:                      17.111   Cond. No.                         30.7\n",
      "==============================================================================\n",
      "\n",
      "Notes:\n",
      "[1] Standard Errors assume that the covariance matrix of the errors is correctly specified.\n"
     ]
    }
   ],
   "source": [
    "# Regress SREITs on STI \n",
    "from statsmodels.api import OLS\n",
    "data[\"SRU.SI_log_return\"] = np.log(data[\"SRU.SI\"] / data[\"SRU.SI\"].shift(1))\n",
    "data[\"STI_log_return\"] = np.log(data[\"STI\"] / data[\"STI\"].shift(1))\n",
    "data = data.dropna()\n",
    "# Select data from the second row onwards (excluding the first row with NaN)\n",
    "sru = data[\"SRU.SI_log_return\"][1:]\n",
    "sti = data[\"STI_log_return\"][1:]\n",
    "\n",
    "# Create the independent variable DataFrame (including constant term)\n",
    "X = pd.DataFrame({'const': 1, 'STI_log_return': sti})\n",
    "\n",
    "# Perform the regression using OLS\n",
    "model = OLS(sru, X).fit()\n",
    "\n",
    "# Print the model summary\n",
    "print(model.summary())"
   ]
  },
  {
   "cell_type": "markdown",
   "metadata": {},
   "source": [
    "1. Regress the REIT Index on STI, identify the foreigner market contributor of the price of REITs. (Put the dividend back)\n",
    "\n",
    "2. CAPM model: the $\\beta$ of REITs for further analysis."
   ]
  },
  {
   "cell_type": "markdown",
   "metadata": {},
   "source": [
    "REITs offer a strong, stable annual dividends, while the risk exposure to market has not magnified. How S-REITs relate to other market."
   ]
  },
  {
   "cell_type": "code",
   "execution_count": 150,
   "metadata": {},
   "outputs": [
    {
     "name": "stderr",
     "output_type": "stream",
     "text": [
      "[*********************100%%**********************]  6 of 6 completed"
     ]
    },
    {
     "name": "stdout",
     "output_type": "stream",
     "text": [
      "Ticker     CFA.SI    N6M.SI   OXMU.SI      REET    SRU.SI     ^GSPC\n",
      "Ticker                                                             \n",
      "CFA.SI   1.000000  0.362659  0.084226  0.125613  0.587860  0.346147\n",
      "N6M.SI   0.362659  1.000000 -0.287544  0.320140 -0.064596  0.020788\n",
      "OXMU.SI  0.084226 -0.287544  1.000000 -0.432248  0.261643  0.010111\n",
      "REET     0.125613  0.320140 -0.432248  1.000000 -0.048407  0.318785\n",
      "SRU.SI   0.587860 -0.064596  0.261643 -0.048407  1.000000  0.249031\n",
      "^GSPC    0.346147  0.020788  0.010111  0.318785  0.249031  1.000000\n",
      "SRU.SI    CFA.SI    N6M.SI    ^GSPC     OXMU.SI   REET      \n",
      "----------------------------------------------------------------------\n",
      "SRU.SI          1.00      0.36      0.08      0.13      0.59      0.35\n",
      "CFA.SI          0.36      1.00     -0.29      0.32     -0.06      0.02\n",
      "N6M.SI          0.08     -0.29      1.00     -0.43      0.26      0.01\n",
      "^GSPC           0.13      0.32     -0.43      1.00     -0.05      0.32\n",
      "OXMU.SI         0.59     -0.06      0.26     -0.05      1.00      0.25\n",
      "REET            0.35      0.02      0.01      0.32      0.25      1.00\n",
      "\n"
     ]
    },
    {
     "name": "stderr",
     "output_type": "stream",
     "text": [
      "\n"
     ]
    }
   ],
   "source": [
    "import pandas as pd\n",
    "import numpy as np\n",
    "import yfinance as yf  # Assuming you have yfinance installed\n",
    "\n",
    "start_date = \"2024-01-31\"\n",
    "end_date = \"2024-03-15\"\n",
    "tickers = [\"SRU.SI\", \"CFA.SI\", \"N6M.SI\", \"^GSPC\",\"OXMU.SI\", \"REET\"]\n",
    "\n",
    "data = yf.download(tickers, start=start_date, end=end_date)[\"Adj Close\"]\n",
    "\n",
    "log_returns = np.log(data / data.shift(1))\n",
    "log_returns = log_returns.dropna()\n",
    "correlation_matrix = log_returns.corr()\n",
    "print(correlation_matrix)\n",
    "\n",
    "# Custom formatting with f-strings\n",
    "table_string = \"\"\n",
    "\n",
    "for name in tickers:\n",
    "    table_string += f\"{name:10}\"  # Adjust column width as needed\n",
    "\n",
    "table_string += \"\\n\"  # Newline for table border\n",
    "\n",
    "# Add separator row\n",
    "for _ in range(len(tickers) + 1):  # Include extra separator for ticker names\n",
    "    table_string += \"-\" * 10  # Adjust separator width as needed\n",
    "table_string += \"\\n\"\n",
    "\n",
    "# Add data rows with ticker names\n",
    "for i in range(len(correlation_matrix)):\n",
    "    ticker_name = tickers[i]\n",
    "    table_string += f\"{ticker_name:10}\"  # Add ticker name in first column\n",
    "    for j in range(len(correlation_matrix.columns)):\n",
    "        value = correlation_matrix.iloc[i, j]\n",
    "        table_string += f\"{value:10.2f}\"  # Format with decimal places\n",
    "\n",
    "    table_string += \"\\n\"\n",
    "\n",
    "print(table_string)\n",
    "\n"
   ]
  },
  {
   "cell_type": "markdown",
   "metadata": {},
   "source": [
    "(1)S REITs: CSOP iEdge S-REIT Leaders Index ETF (SRU.SI)\\\n",
    "(2)Asia ex Japan REITs: NikkoAM-StraitsTrading Asia ex Japan REIT ETF (CFA.SI)\\\n",
    "(3)US Bonds: iShares J.P. Morgan USD Asia Credit Bond Index ETF (N6M.SI)\\\n",
    "(4)US Equities (S&P 500 Index):S&P 500 (^GSPC)\\\n",
    "(5)US REITs: Prime US REIT (OXMU.SI)\\\n",
    "(6)Global REIT: iShares Global REIT ETF (REET)\n"
   ]
  },
  {
   "cell_type": "markdown",
   "metadata": {},
   "source": [
    "[SGX research](<C:/Users/vic52/Documents/GitHub/sgx3000/REITs analysis/SGXcorr.pdf>)"
   ]
  },
  {
   "cell_type": "markdown",
   "metadata": {},
   "source": [
    "### Returns\n",
    "REITs are sensitive to interest-rate movements.(add dividends back)\n",
    "\n"
   ]
  },
  {
   "cell_type": "markdown",
   "metadata": {},
   "source": [
    "### diversification\n",
    "REITs provide diversification benefits.\n",
    "\n",
    "1. Generate following portfolios:\n",
    "(1) 55% Market index funds + 35% Bonds + 10% REITs \n",
    "(2) 40% Market index funds + 40% Bonds + 20% REITs\n",
    "(3) 33.3% Market index funds + 33.3% Bonds + 33.3% REITs\n",
    "(4) 60% Market index funds + 40% Bonds\n",
    "(5) 80% Market index funds + 20% Bonds\n",
    "\n",
    "Market index: S&P 500 (^GSPC)\n",
    "Bonds: iShares 0-5 Year TIPS Bond ETF (STIP)\n",
    "REITs: CSOP iEdge S-REIT Leaders Index ETF (SRU.SI)\n"
   ]
  },
  {
   "cell_type": "code",
   "execution_count": 286,
   "metadata": {},
   "outputs": [
    {
     "name": "stderr",
     "output_type": "stream",
     "text": [
      "[                       0%%                      ]"
     ]
    },
    {
     "name": "stderr",
     "output_type": "stream",
     "text": [
      "[*********************100%%**********************]  3 of 3 completed"
     ]
    },
    {
     "name": "stdout",
     "output_type": "stream",
     "text": [
      "Ticker      SRU.SI       STIP        ^GSPC\n",
      "Date                                      \n",
      "2023-01-03   0.626  94.263023  3824.139893\n",
      "2023-01-04   0.626  94.146408  3852.969971\n",
      "2023-01-05   0.626  94.126976  3808.100098\n",
      "2023-01-06   0.626  94.408791  3895.080078\n",
      "2023-01-09   0.626  94.496239  3892.090088\n"
     ]
    },
    {
     "name": "stderr",
     "output_type": "stream",
     "text": [
      "\n"
     ]
    }
   ],
   "source": [
    "#Get data from yahoo finance\n",
    "start_date = \"2023-01-01\"\n",
    "end_date = \"2024-01-01\"\n",
    "tickers = [\"^GSPC\",\"SRU.SI\",\"STIP\"]\n",
    "prices = yf.download(tickers, start=start_date, end=end_date)[\"Adj Close\"]\n",
    "\n",
    "\n",
    "print(prices.head())"
   ]
  },
  {
   "cell_type": "code",
   "execution_count": 232,
   "metadata": {},
   "outputs": [
    {
     "name": "stdout",
     "output_type": "stream",
     "text": [
      "\n",
      "Portfolio 1:\n",
      "^GSPC: 0.55\n",
      "STIP: 0.10\n",
      "SRU.SI: 0.35\n",
      "\n",
      "Portfolio 2:\n",
      "^GSPC: 0.40\n",
      "STIP: 0.20\n",
      "SRU.SI: 0.40\n",
      "\n",
      "Portfolio 3:\n",
      "^GSPC: 0.33\n",
      "STIP: 0.33\n",
      "SRU.SI: 0.34\n",
      "\n",
      "Portfolio 4:\n",
      "^GSPC: 0.60\n",
      "STIP: 0.00\n",
      "SRU.SI: 0.40\n",
      "\n",
      "Portfolio 5:\n",
      "^GSPC: 0.80\n",
      "STIP: 0.00\n",
      "SRU.SI: 0.20\n"
     ]
    }
   ],
   "source": [
    "import pandas as pd\n",
    "\n",
    "# Define asset weights as dictionaries for each portfolio\n",
    "portfolio_weights = {\n",
    "    \"Portfolio 1\": {\"^GSPC\": 0.55, \"STIP\": 0.10, \"SRU.SI\": 0.35},\n",
    "    \"Portfolio 2\": {\"^GSPC\": 0.40, \"STIP\": 0.20, \"SRU.SI\": 0.40},\n",
    "    \"Portfolio 3\": {\"^GSPC\": 0.33, \"STIP\": 0.33, \"SRU.SI\": 0.34},\n",
    "    \"Portfolio 4\": {\"^GSPC\": 0.60, \"STIP\": 0.00, \"SRU.SI\": 0.40},\n",
    "    \"Portfolio 5\": {\"^GSPC\": 0.80, \"STIP\": 0.00, \"SRU.SI\": 0.20},\n",
    "}\n",
    "\n",
    "# Print the portfolio weights for each portfolio\n",
    "for name, weights in portfolio_weights.items():\n",
    "    print(f\"\\n{name}:\")\n",
    "    total_weight = sum(weights.values())\n",
    "    # Check if weights add up to 1 (or close to 1 due to rounding)\n",
    "    if abs(total_weight - 1) > 1e-6:\n",
    "        print(f\"WARNING: Weights in '{name}' do not sum to 1. Total: {total_weight:.2f}\")\n",
    "    for asset, weight in weights.items():\n",
    "        print(f\"{asset}: {weight:.2f}\")\n"
   ]
  },
  {
   "cell_type": "code",
   "execution_count": 287,
   "metadata": {},
   "outputs": [
    {
     "name": "stderr",
     "output_type": "stream",
     "text": [
      "C:\\Users\\vic52\\AppData\\Local\\Temp\\ipykernel_24476\\3059946309.py:2: FutureWarning: The default fill_method='pad' in DataFrame.pct_change is deprecated and will be removed in a future version. Either fill in any non-leading NA values prior to calling pct_change or specify 'fill_method=None' to not fill NA values.\n",
      "  daily_log_returns = prices.pct_change().dropna()\n"
     ]
    }
   ],
   "source": [
    "\n",
    "risk_free_rate = 0.025\n",
    "daily_log_returns = prices.pct_change().dropna()\n",
    "annualized_returns = daily_log_returns.mean() * 252\n"
   ]
  },
  {
   "cell_type": "code",
   "execution_count": 288,
   "metadata": {},
   "outputs": [],
   "source": [
    "def calculate_portfolio_return(weights, daily_log_returns):\n",
    "  \"\"\"\n",
    "  Calculates the daily return of a portfolio based on weights and asset returns.\n",
    "\n",
    "  Args:\n",
    "      weights (dict): Dictionary of asset weights for the portfolio.\n",
    "      daily_log_returns (pd.DataFrame): DataFrame containing daily log returns for each asset.\n",
    "\n",
    "  Returns:\n",
    "      pd.Series or None: Daily return series for the portfolio or None if errors occur.\n",
    "  \"\"\"\n",
    "  try:\n",
    "      # Ensure weights and daily returns have compatible shapes\n",
    "      if len(weights) != daily_log_returns.shape[1]:\n",
    "          raise ValueError(\"Number of weights does not match number of assets in returns\")\n",
    "\n",
    "      # Calculate portfolio return (weighted average of daily log returns)\n",
    "      portfolio_return = np.sum(daily_log_returns * weights, axis=1)\n",
    "      return portfolio_return\n",
    "  except (ValueError, KeyError) as e:\n",
    "      print(f\"Error calculating return: {e}\")\n",
    "      return None"
   ]
  },
  {
   "cell_type": "code",
   "execution_count": 289,
   "metadata": {},
   "outputs": [],
   "source": [
    "# Calculate daily portfolio returns for each portfolio\n",
    "\n",
    "portfolio_returns = {}\n",
    "for name, weights in portfolio_weights.items():\n",
    "  portfolio_returns[name] = calculate_portfolio_return(weights, daily_log_returns)\n",
    "  \n",
    "for name, return_val in portfolio_returns.items():\n",
    "    if return_val is not None:\n",
    "        # Calculate portfolio standard deviation (annualized)\n",
    "        portfolio_std = return_val.std() * np.sqrt(252)\n",
    "        # ... rest of the code\n",
    "    else:\n",
    "        print(f\"Skipping Sharpe Ratio calculation for {name} due to missing return data.\")\n"
   ]
  },
  {
   "cell_type": "code",
   "execution_count": 290,
   "metadata": {},
   "outputs": [],
   "source": [
    "def calculate_sharpe_ratio(portfolio_return, risk_free_rate, portfolio_std):\n",
    "  \"\"\"\n",
    "  Calculates the Sharpe Ratio for a portfolio.\n",
    "\n",
    "  Args:\n",
    "      portfolio_return (float): Annualized return of the portfolio.\n",
    "      risk_free_rate (float): Annualized risk-free rate.\n",
    "      portfolio_std (float): Annualized standard deviation of the portfolio return.\n",
    "\n",
    "  Returns:\n",
    "      float: Sharpe Ratio value.\n",
    "  \"\"\"\n",
    "  excess_return = portfolio_return - risk_free_rate\n",
    "  return excess_return / portfolio_std"
   ]
  },
  {
   "cell_type": "code",
   "execution_count": 291,
   "metadata": {},
   "outputs": [
    {
     "name": "stdout",
     "output_type": "stream",
     "text": [
      "Sharpe Ratios for Each Portfolio:\n",
      "Portfolio 1: -0.23\n",
      "Portfolio 2: -0.25\n",
      "Portfolio 3: -0.29\n",
      "Portfolio 4: -0.21\n",
      "Portfolio 5: -0.21\n"
     ]
    }
   ],
   "source": [
    "\n",
    "# Calculate Sharpe Ratio for each portfolio\n",
    "sharpe_ratios = {}\n",
    "for name, return_val in portfolio_returns.items():\n",
    "  # Calculate portfolio standard deviation (annualized)\n",
    "  portfolio_std = return_val.std() * np.sqrt(252)\n",
    "\n",
    "  # Calculate Sharpe Ratio\n",
    "  sharpe_ratio = calculate_sharpe_ratio(return_val.mean(), risk_free_rate, portfolio_std)\n",
    "  sharpe_ratios[name] = sharpe_ratio\n",
    "\n",
    "print(\"Sharpe Ratios for Each Portfolio:\")\n",
    "for name, sharpe_ratio in sharpe_ratios.items():\n",
    "  print(f\"{name}: {sharpe_ratio:.2f}\")\n",
    "\n"
   ]
  },
  {
   "cell_type": "code",
   "execution_count": 268,
   "metadata": {},
   "outputs": [
    {
     "name": "stdout",
     "output_type": "stream",
     "text": [
      "+-------------+------------------------------------------------------+-----------------+---------------+\n",
      "| No.         | Component                                            |   Sharpe ration |   Sharpe Rank |\n",
      "+=============+======================================================+=================+===============+\n",
      "| Portfolio 1 | 55% Market index funds + 35% Bonds + 10% REITs       |           -0.18 |             3 |\n",
      "+-------------+------------------------------------------------------+-----------------+---------------+\n",
      "| Portfolio 2 | 40% Market index funds + 40% Bonds + 20% REITs       |           -0.19 |             4 |\n",
      "+-------------+------------------------------------------------------+-----------------+---------------+\n",
      "| Portfolio 3 | 33.3% Market index funds + 33.3% Bonds + 33.3% REITs |           -0.22 |             5 |\n",
      "+-------------+------------------------------------------------------+-----------------+---------------+\n",
      "| Portfolio 4 | 60% Market index funds + 40% Bonds                   |           -0.16 |             2 |\n",
      "+-------------+------------------------------------------------------+-----------------+---------------+\n",
      "| Portfolio 5 | 80% Market index funds + 20% Bonds                   |           -0.15 |             1 |\n",
      "+-------------+------------------------------------------------------+-----------------+---------------+\n"
     ]
    }
   ],
   "source": [
    "import tabulate\n",
    "data = [\n",
    "    [\"Portfolio 1\", \"55% Market index funds + 35% Bonds + 10% REITs\",\"-0.18\",\"3\"],\n",
    "    [\"Portfolio 2\",\"40% Market index funds + 40% Bonds + 20% REITs\", \"-0.19\",\"4\"],\n",
    "    [\"Portfolio 3\",\"33.3% Market index funds + 33.3% Bonds + 33.3% REITs\", \"-0.22\",\"5\"],\n",
    "    [\"Portfolio 4\",\"60% Market index funds + 40% Bonds\", \"-0.16\",\"2\"],\n",
    "    [\"Portfolio 5\",\"80% Market index funds + 20% Bonds\",\"-0.15\",\"1\"],\n",
    "]\n",
    "headers = [\"No.\", \"Component\",\"Sharpe ration\",\"Sharpe Rank\"]\n",
    "\n",
    "# Create the table (adjust format as needed)\n",
    "table = tabulate.tabulate(data, headers=headers, tablefmt=\"grid\")\n",
    "print(table)"
   ]
  },
  {
   "cell_type": "markdown",
   "metadata": {},
   "source": [
    "The return three components:\n",
    "iShares 0-5 Year TIPS Bond ETF:<https://www.ishares.com/us/products/239450/ishares-05-year-tips-bond-etf> 3.45% 5years return\\\n",
    "S&P 500: <https://www.gurufocus.com/idx/%5EGSPC> 12% 5years return\\\n",
    "CSOP iEdge S-REIT Leaders Index ETF (SRU.SI):<https://www.csopasset.com/sg/en/products/sg-reit/etf.php> -15% 5years return\\\n",
    "\n",
    "risk free rate: CPF 2.5% per year."
   ]
  },
  {
   "cell_type": "code",
   "execution_count": null,
   "metadata": {},
   "outputs": [],
   "source": [
    "import tabulate\n",
    "data = [\n",
    "    [\"Portfolio 1\", \"55% Market index funds + 35% Bonds + 10% REITs\",\"-0.18\",\"3\",\"\"],\n",
    "    [\"Portfolio 2\",\"40% Market index funds + 40% Bonds + 20% REITs\", \"-0.19\",\"4\"],\n",
    "    [\"Portfolio 3\",\"33.3% Market index funds + 33.3% Bonds + 33.3% REITs\", \"-0.22\",\"5\"],\n",
    "    [\"Portfolio 4\",\"60% Market index funds + 40% Bonds\", \"-0.16\",\"2\"],\n",
    "    [\"Portfolio 5\",\"80% Market index funds + 20% Bonds\",\"-0.15\",\"1\"],\n",
    "]\n",
    "headers = [\"No.\", \"Component\",\"Sharpe ration\",\"Sharpe Rank\"]\n",
    "\n",
    "# Create the table (adjust format as needed)\n",
    "table = tabulate.tabulate(data, headers=headers, tablefmt=\"grid\")\n",
    "print(table)"
   ]
  },
  {
   "cell_type": "markdown",
   "metadata": {},
   "source": [
    "\n",
    "*Approach*:\n",
    "1. Using the average annual total returns in FTSE ST REIT Index to generate the yield curve from 1 year to 25 years.\n",
    "\n",
    "2. In contrast, plot the yield curve in stock index, bonds of SG market, combined with U.S. REITs and  U.S. Market index. \n",
    "\n",
    "3. Compare the long term return of each financial assets, to analysis the connection of REITs and other equity and identify the long-term advantage of REITs.\n",
    "\n",
    "##### (2.4) Mitigate economic cycle risk\n",
    "\n",
    "Combining assets that exhibit low performance correlation can play an important role in reducing portfolio risk without sacrificing return potential. REITs is a good portfolio diversifier.\n",
    "\n",
    "*Approach*:\n",
    "1. Generate following portfolios:\n",
    "(1) 55% Market index funds + 35% Bonds + 10% REITs \n",
    "(2) 40% Market index funds + 40% Bonds + 20% REITs\n",
    "(3) 33.3% Market index funds + 33.3% Bonds + 33.3% REITs\n",
    "(4) 60% Market index funds + 40% Bonds\n",
    "(5) 80% Market index funds + 20% Bonds\n",
    "\n",
    "2. Calculate the expected returns, standard deviation of returns and Sharpe ratio on these portfolios.\n",
    "\n",
    "3. Rank these portfolio under Sharpe ration, and plot the scatter diagram in average return and standard deviation.\n",
    "\n",
    "4. Compare the average annualized return between the portfolios with REITs and without REITs. \n",
    "Analysis the ability of REITs in diversification of risk."
   ]
  },
  {
   "cell_type": "code",
   "execution_count": 280,
   "metadata": {},
   "outputs": [
    {
     "name": "stderr",
     "output_type": "stream",
     "text": [
      "[*********************100%%**********************]  3 of 3 completed\n",
      "\n",
      "1 Failed download:\n",
      "['N6M.SI']: Exception(\"%ticker%: Data doesn't exist for startDate = 1546272000, endDate = 1704038400\")\n",
      "C:\\Users\\vic52\\AppData\\Local\\Temp\\ipykernel_24476\\2577630084.py:23: FutureWarning: The default fill_method='pad' in DataFrame.pct_change is deprecated and will be removed in a future version. Either fill in any non-leading NA values prior to calling pct_change or specify 'fill_method=None' to not fill NA values.\n",
      "  daily_log_returns = data.pct_change().fillna(method='ffill')\n",
      "C:\\Users\\vic52\\AppData\\Local\\Temp\\ipykernel_24476\\2577630084.py:23: FutureWarning: DataFrame.fillna with 'method' is deprecated and will raise in a future version. Use obj.ffill() or obj.bfill() instead.\n",
      "  daily_log_returns = data.pct_change().fillna(method='ffill')\n"
     ]
    },
    {
     "data": {
      "image/png": "[encoded data removed]",
      "text/plain": [
       "<Figure size 1000x600 with 1 Axes>"
      ]
     },
     "metadata": {},
     "output_type": "display_data"
    }
   ],
   "source": [
    "import yfinance as yf\n",
    "import pandas as pd\n",
    "import numpy as np\n",
    "import matplotlib.pyplot as plt\n",
    "\n",
    "# Download adjusted close prices (replace with your tickers and date range)\n",
    "tickers = [\"^GSPC\", \"N6M.SI\", \"SRU.SI\"]\n",
    "start_date = \"2019-01-01\"\n",
    "end_date = \"2024-01-01\"\n",
    "\n",
    "data = yf.download(tickers, start=start_date, end=end_date)[\"Adj Close\"]\n",
    "\n",
    "# Define portfolio weights\n",
    "portfolio_weights = {\n",
    "    \"Portfolio 1\": {\"^GSPC\": 0.55, \"N6M.SI\": 0.10, \"SRU.SI\": 0.35},\n",
    "    \"Portfolio 2\": {\"^GSPC\": 0.40, \"N6M.SI\": 0.20, \"SRU.SI\": 0.40},\n",
    "    \"Portfolio 3\": {\"^GSPC\": 0.33, \"N6M.SI\": 0.33, \"SRU.SI\": 0.34},\n",
    "    \"Portfolio 4\": {\"^GSPC\": 0.60, \"N6M.SI\": 0.00, \"SRU.SI\": 0.40},\n",
    "    \"Portfolio 5\": {\"^GSPC\": 0.80, \"N6M.SI\": 0.00, \"SRU.SI\": 0.20},\n",
    "}\n",
    "\n",
    "# Handle missing values\n",
    "daily_log_returns = data.pct_change().fillna(method='ffill')\n",
    "\n",
    "# Calculate portfolio returns and standard deviations\n",
    "portfolio_returns = {}\n",
    "for name, weights in portfolio_weights.items():\n",
    "  portfolio_return = calculate_portfolio_return(weights, daily_log_returns)\n",
    "  if portfolio_return is not None:\n",
    "      portfolio_returns[name] = {\n",
    "          \"Annualized Return\": portfolio_return.mean() * 252,\n",
    "          \"Std Dev\": portfolio_return.std() * np.sqrt(252)\n",
    "      }\n",
    "  else:\n",
    "      print(f\"Skipping Sharpe Ratio calculation for {name} due to missing return data.\")\n",
    "\n",
    "# Extract data for plotting\n",
    "portfolio_names = list(portfolio_returns.keys())\n",
    "annual_returns = [stats[\"Annualized Return\"] for name, stats in portfolio_returns.items()]\n",
    "std_devs = [stats[\"Std Dev\"] for name, stats in portfolio_returns.items()]\n",
    "\n",
    "# Create scatter plot\n",
    "plt.figure(figsize=(10, 6))\n",
    "plt.scatter(std_devs, annual_returns, marker='o', c='b', edgecolors='k', alpha=0.7, label='Portfolios')\n",
    "plt.xlabel('Standard Deviation (%)')\n",
    "plt.ylabel('Annualized Return (%)')\n",
    "plt.title('Portfolio Standard Deviation vs. Annualized Return')\n",
    "plt.grid(True)\n",
    "\n",
    "# Add portfolio names as annotations\n",
    "for i, name in enumerate(portfolio_names):\n",
    "  plt.annotate(name, (std_devs[i], annual_returns[i]), textcoords=\"offset points\", xytext=(0, 10), ha='center')\n",
    "\n",
    "plt.legend()\n",
    "plt.tight_layout()\n",
    "plt.show()\n"
   ]
  }
 ],
 "metadata": {
  "kernelspec": {
   "display_name": "Python 3",
   "language": "python",
   "name": "python3"
  },
  "language_info": {
   "codemirror_mode": {
    "name": "ipython",
    "version": 3
   },
   "file_extension": ".py",
   "mimetype": "text/x-python",
   "name": "python",
   "nbconvert_exporter": "python",
   "pygments_lexer": "ipython3",
   "version": "3.12.2"
  }
 },
 "nbformat": 4,
 "nbformat_minor": 2
}
