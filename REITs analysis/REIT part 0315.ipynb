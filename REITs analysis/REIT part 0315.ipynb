{
 "cells": [
  {
   "cell_type": "markdown",
   "metadata": {},
   "source": [
    "# The Real Estate Investment Trust (REIT)\n",
    "\n",
    "## What is REITs\n",
    "\n",
    "A real estate investment trust (REIT) is a company that owns, operates, or finances income-generating real estate. They package these real estate as mutual funds and put into equity market.\n",
    "\n",
    "The function of REITs is similar to stock. They pool the capital of numerous investors. This makes it possible for individual investors to earn dividends from real estate investments—without having to buy, manage, or finance any properties themselves. Compared with physical real estate investments, REITs is more accessible and liquid.\n",
    "\n",
    "REITs invest in most real estate property types, including apartment buildings, cell towers, data centers, hotels, medical facilities, offices, retail centers, and warehouses. In other words, REITs is flexible in invest in commercial, public and residential property at period. In contrast, the physical real estate investments may not achieve this diversification.\n",
    "\n",
    "\n",
    "## S-REITs \n",
    "\n",
    "Singapore REITs are an important component of Singapore’s stock market\n",
    "\n",
    "Largest REIT market in Asia ex-Japan.\n",
    "<https://www.reitas.sg/singapore-reits/overview-of-the-s-reit-industry/>"
   ]
  },
  {
   "cell_type": "code",
   "execution_count": 29,
   "metadata": {},
   "outputs": [
    {
     "ename": "AttributeError",
     "evalue": "'Axes' object has no attribute 'yscale'",
     "output_type": "error",
     "traceback": [
      "\u001b[1;31m---------------------------------------------------------------------------\u001b[0m",
      "\u001b[1;31mAttributeError\u001b[0m                            Traceback (most recent call last)",
      "Cell \u001b[1;32mIn[29], line 37\u001b[0m\n\u001b[0;32m     35\u001b[0m \u001b[38;5;66;03m# Adjust y-axis scales to avoid overlapping bars (optional)\u001b[39;00m\n\u001b[0;32m     36\u001b[0m plt\u001b[38;5;241m.\u001b[39myscale(\u001b[38;5;124m'\u001b[39m\u001b[38;5;124mlinear\u001b[39m\u001b[38;5;124m'\u001b[39m)  \u001b[38;5;66;03m# Set primary y-axis to linear scale (adjust as needed)\u001b[39;00m\n\u001b[1;32m---> 37\u001b[0m \u001b[43max2\u001b[49m\u001b[38;5;241;43m.\u001b[39;49m\u001b[43myscale\u001b[49m(\u001b[38;5;124m'\u001b[39m\u001b[38;5;124mlinear\u001b[39m\u001b[38;5;124m'\u001b[39m)  \u001b[38;5;66;03m# Set secondary y-axis to linear scale (adjust as needed)\u001b[39;00m\n\u001b[0;32m     39\u001b[0m \u001b[38;5;66;03m# Add a legend to distinguish bars (optional)\u001b[39;00m\n\u001b[0;32m     40\u001b[0m plt\u001b[38;5;241m.\u001b[39mlegend()\n",
      "\u001b[1;31mAttributeError\u001b[0m: 'Axes' object has no attribute 'yscale'"
     ]
    },
    {
     "data": {
      "image/png": "[encoded data removed]",
      "text/plain": [
       "<Figure size 640x480 with 2 Axes>"
      ]
     },
     "metadata": {},
     "output_type": "display_data"
    }
   ],
   "source": [
    "import matplotlib.pyplot as plt\n",
    "\n",
    "# Your data lists\n",
    "data1 = [74.4, 4.3, 83.4, 105.8, 59.4, 1135.53]  # REIT market cap (US$BIL)\n",
    "data2 = [12, 3.2, 6, 3.5, 2.2, 2.5]  # Percentage of stock market cap\n",
    "x_labels = [\"Singapore\", \"China\", \"Australia\", \"Japan\", \"UK\", \"United States\"]\n",
    "\n",
    "bar_width = 0.35\n",
    "\n",
    "# Create the plot\n",
    "plt.figure()\n",
    "bars1 = plt.bar(x_labels, data1, color='tan', label='REIT market cap (US$BIL)', width=bar_width)\n",
    "\n",
    "# Create a twin axis for data2\n",
    "ax2 = plt.twinx()\n",
    "\n",
    "# Shift positions for data2 bars and convert to strings for labels\n",
    "\n",
    "bars2 = ax2.bar(x_labels, data2, color='coral', label='Percentage of stock market cap', width=bar_width)\n",
    "\n",
    "# Set labels and adjust y-axis scales\n",
    "plt.xlabel(\"Countries\")\n",
    "plt.ylabel(\"REIT market cap (US$BIL)\", color='blue')  # Customize label with unit\n",
    "ax2.set_ylabel(\"Percentage of stock market cap\", color='coral')  # Customize label with unit\n",
    "\n",
    "# Adjust y-axis scales to avoid overlapping bars (optional)\n",
    "plt.yscale('linear')  # Set primary y-axis to linear scale (adjust as needed)\n",
    "ax2.yscale('linear')  # Set secondary y-axis to linear scale (adjust as needed)\n",
    "\n",
    "# Add a legend to distinguish bars (optional)\n",
    "plt.legend()\n",
    "\n",
    "# Display the chart\n",
    "plt.show()\n"
   ]
  },
  {
   "cell_type": "markdown",
   "metadata": {},
   "source": [
    "##### (2). characterizes of REITs\n",
    "\n",
    "###### (2.1) High dividends\n",
    "\n",
    "By law and IRS regulation, REITs must pay out 90% or more of their taxable profits to shareholders in the form of dividends. As a result, REIT companies are often exempt from most corporate income tax.\n",
    "\n",
    "We should generate a visualized view of that how the dividends from REITs is high. \n",
    "\n",
    "*Approach*: \n",
    "1. Plot the REITs yield rate and average yield, compare the return from REITs sector to the average return from other sector.\n",
    "\n",
    "2. Plot the average distribution yields by sub-Sector of REITs.\n",
    "\n",
    "##### (2.2) Exposure to global real estate\n",
    "\n",
    "Over 90% of S-REITS own properties outside Singapore. Which market the REITs suffer most?\n",
    "\n",
    "*Approach*: \n",
    "1. Regress the FTSE ST REIT Index on three different market, identify the foreigner market contributor of the price of REITs.\n",
    "\n",
    "2. Based on above regression, use CAPM model to calculate the $\\beta$ of REITs for further analysis.\n",
    "\n",
    "#### (2.3) Long-term investment\n",
    "\n",
    "REITs offer a strong, stable annual dividend and the potential for long-term capital appreciation.\n",
    "*Approach*:\n",
    "1. Using the average annual total returns in FTSE ST REIT Index to generate the yield curve from 1 year to 25 years.\n",
    "\n",
    "2. In contrast, plot the yield curve in stock index, bonds of SG market, combined with U.S. REITs and  U.S. Market index. \n",
    "\n",
    "3. Compare the long term return of each financial assets, to analysis the connection of REITs and other equity and identify the long-term advantage of REITs.\n",
    "\n",
    "##### (2.4) Mitigate economic cycle risk\n",
    "\n",
    "Combining assets that exhibit low performance correlation can play an important role in reducing portfolio risk without sacrificing return potential. REITs is a good portfolio diversifier.\n",
    "\n",
    "*Approach*:\n",
    "1. Generate following portfolios:\n",
    "(1) 55% Market index funds + 35% Bonds + 10% REITs \n",
    "(2) 40% Market index funds + 40% Bonds + 20% REITs\n",
    "(3) 33.3% Market index funds + 33.3% Bonds + 33.3% REITs\n",
    "(4) 60% Market index funds + 40% Bonds\n",
    "(5) 80% Market index funds + 20% Bonds\n",
    "\n",
    "2. Calculate the expected returns, standard deviation of returns and Sharpe ratio on these portfolios.\n",
    "\n",
    "3. Rank these portfolio under Sharpe ration, and plot the scatter diagram in average return and standard deviation.\n",
    "\n",
    "4. Compare the average annualized return between the portfolios with REITs and without REITs. \n",
    "Analysis the ability of REITs in diversification of risk."
   ]
  },
  {
   "cell_type": "markdown",
   "metadata": {},
   "source": [
    "\n",
    "### 3.3 Low liquidity and risk"
   ]
  },
  {
   "cell_type": "markdown",
   "metadata": {},
   "source": [
    "# 4.The development path of Singapore equity market."
   ]
  },
  {
   "cell_type": "markdown",
   "metadata": {},
   "source": [
    "# 5. Simulated investment in Singapore equity market"
   ]
  }
 ],
 "metadata": {
  "kernelspec": {
   "display_name": "Python 3",
   "language": "python",
   "name": "python3"
  },
  "language_info": {
   "codemirror_mode": {
    "name": "ipython",
    "version": 3
   },
   "file_extension": ".py",
   "mimetype": "text/x-python",
   "name": "python",
   "nbconvert_exporter": "python",
   "pygments_lexer": "ipython3",
   "version": "3.12.2"
  }
 },
 "nbformat": 4,
 "nbformat_minor": 2
}
